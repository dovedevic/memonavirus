{
 "cells": [
  {
   "cell_type": "code",
   "execution_count": 1,
   "metadata": {},
   "outputs": [],
   "source": [
    "import pandas\n",
    "import glob\n",
    "import re\n",
    "import sys\n",
    "import logging\n",
    "import praw\n",
    "import json\n",
    "import numpy as np\n",
    "from dateutil import parser\n",
    "from datetime import datetime\n",
    "import pytz\n",
    "\n",
    "from collections import namedtuple"
   ]
  },
  {
   "cell_type": "code",
   "execution_count": 2,
   "metadata": {},
   "outputs": [
    {
     "name": "stdout",
     "output_type": "stream",
     "text": [
      "Authenticating with Reddit...\n"
     ]
    }
   ],
   "source": [
    "logger = logging.getLogger(__name__)\n",
    "logger.handlers = []\n",
    "logger.addHandler(logging.StreamHandler(sys.stdout))\n",
    "logger.setLevel(logging.DEBUG)\n",
    "\n",
    "# with open('creds.json', 'r') as fp:\n",
    "#     credentials = json.load(fp)\n",
    "\n",
    "credentials = {\n",
    "    \"CLIENT_ID\": \"NbT_QQK57EJZDQ\",\n",
    "    \"CLIENT_SECRET\": \"H5BF0vTIdhfpc_Kb7tXdclxfnME\",\n",
    "    \"CLIENT_AGENT\": \"memonavirus_data (by u/fallouttheprofessor)\",\n",
    "}\n",
    "\n",
    "logger.info(\"Authenticating with Reddit...\")\n",
    "_reddit = praw.Reddit(\n",
    "    client_id=credentials[\"CLIENT_ID\"],\n",
    "    client_secret=credentials[\"CLIENT_SECRET\"],\n",
    "    user_agent=credentials[\"CLIENT_AGENT\"],\n",
    "#     username=credentials[\"CLIENT_USERNAME\"],\n",
    "#     password=credentials[\"CLIENT_PASSWORD\"]\n",
    ")\n",
    "\n",
    "logger2 = logging.getLogger('prawcore')\n",
    "logger2.handlers = []\n",
    "# logger2.setLevel(logging.DEBUG)\n",
    "# logger2.addHandler(logging.StreamHandler(sys.stdout))"
   ]
  },
  {
   "cell_type": "code",
   "execution_count": 3,
   "metadata": {},
   "outputs": [
    {
     "data": {
      "text/html": [
       "<div>\n",
       "<style scoped>\n",
       "    .dataframe tbody tr th:only-of-type {\n",
       "        vertical-align: middle;\n",
       "    }\n",
       "\n",
       "    .dataframe tbody tr th {\n",
       "        vertical-align: top;\n",
       "    }\n",
       "\n",
       "    .dataframe thead th {\n",
       "        text-align: right;\n",
       "    }\n",
       "</style>\n",
       "<table border=\"1\" class=\"dataframe\">\n",
       "  <thead>\n",
       "    <tr style=\"text-align: right;\">\n",
       "      <th></th>\n",
       "      <th>post_dt</th>\n",
       "      <th>infectee_name</th>\n",
       "      <th>infectee_post_id</th>\n",
       "      <th>infector_name</th>\n",
       "      <th>infector_post_id</th>\n",
       "      <th>comment_or_submission</th>\n",
       "    </tr>\n",
       "  </thead>\n",
       "  <tbody>\n",
       "    <tr>\n",
       "      <th>0</th>\n",
       "      <td>2020-03-20 19:59:59</td>\n",
       "      <td>u/woodendoors7</td>\n",
       "      <td>NaN</td>\n",
       "      <td>NaN</td>\n",
       "      <td>NaN</td>\n",
       "      <td>NaN</td>\n",
       "    </tr>\n",
       "  </tbody>\n",
       "</table>\n",
       "</div>"
      ],
      "text/plain": [
       "              post_dt   infectee_name infectee_post_id infector_name  \\\n",
       "0 2020-03-20 19:59:59  u/woodendoors7              NaN           NaN   \n",
       "\n",
       "  infector_post_id comment_or_submission  \n",
       "0              NaN                   NaN  "
      ]
     },
     "execution_count": 3,
     "metadata": {},
     "output_type": "execute_result"
    }
   ],
   "source": [
    "DATA_DIR = '../../data'\n",
    "\n",
    "PATIENT_0 = 'u/woodendoors7'\n",
    "FIRST_FILE = '{}/memes_infections.20.19.log'.format(DATA_DIR)\n",
    "\n",
    "def get_files():\n",
    "    def _dt_key(fname):\n",
    "        parts = fname.split('.')\n",
    "        return (int(parts[-3]), int(parts[-2]))\n",
    "    files = sorted(glob.glob('{}/memes_infections*.log'.format(DATA_DIR)), key=_dt_key)\n",
    "    start_index = files.index(FIRST_FILE)\n",
    "    return files[start_index:] + files[:start_index]\n",
    "\n",
    "get_file = lambda fname: pandas.read_csv(\n",
    "    fname,\n",
    "    sep='\\t',\n",
    "    header=None,\n",
    "    names=['post_dt',\n",
    "            'infectee_name',\n",
    "            'infectee_post_id',\n",
    "            'infector_name',\n",
    "            'infector_post_id',\n",
    "            'comment_or_submission'],\n",
    "    parse_dates=['post_dt'],\n",
    "    dtype={'infectee_name': str, 'infectee_post_id': str, 'infector_name': str, 'infector_post_id': str, 'comment_or_submission': str}\n",
    ")\n",
    "get_file(FIRST_FILE).head()"
   ]
  },
  {
   "cell_type": "code",
   "execution_count": 187,
   "metadata": {},
   "outputs": [
    {
     "data": {
      "text/plain": [
       "['../../data/memes_infections.20.19.log',\n",
       " '../../data/memes_infections.20.20.log',\n",
       " '../../data/memes_infections.20.21.log',\n",
       " '../../data/memes_infections.20.22.log',\n",
       " '../../data/memes_infections.20.23.log',\n",
       " '../../data/memes_infections.21.0.log',\n",
       " '../../data/memes_infections.21.1.log',\n",
       " '../../data/memes_infections.21.2.log',\n",
       " '../../data/memes_infections.21.3.log',\n",
       " '../../data/memes_infections.21.4.log',\n",
       " '../../data/memes_infections.21.5.log',\n",
       " '../../data/memes_infections.21.6.log',\n",
       " '../../data/memes_infections.21.7.log',\n",
       " '../../data/memes_infections.21.8.log',\n",
       " '../../data/memes_infections.21.9.log',\n",
       " '../../data/memes_infections.21.10.log',\n",
       " '../../data/memes_infections.21.11.log',\n",
       " '../../data/memes_infections.21.12.log',\n",
       " '../../data/memes_infections.21.13.log',\n",
       " '../../data/memes_infections.21.14.log',\n",
       " '../../data/memes_infections.21.15.log',\n",
       " '../../data/memes_infections.21.16.log',\n",
       " '../../data/memes_infections.21.17.log',\n",
       " '../../data/memes_infections.21.18.log',\n",
       " '../../data/memes_infections.21.19.log',\n",
       " '../../data/memes_infections.21.20.log',\n",
       " '../../data/memes_infections.21.21.log',\n",
       " '../../data/memes_infections.21.22.log',\n",
       " '../../data/memes_infections.21.23.log',\n",
       " '../../data/memes_infections.22.0.log',\n",
       " '../../data/memes_infections.22.1.log',\n",
       " '../../data/memes_infections.22.2.log',\n",
       " '../../data/memes_infections.22.3.log',\n",
       " '../../data/memes_infections.22.4.log',\n",
       " '../../data/memes_infections.22.5.log',\n",
       " '../../data/memes_infections.22.6.log',\n",
       " '../../data/memes_infections.22.7.log',\n",
       " '../../data/memes_infections.22.8.log',\n",
       " '../../data/memes_infections.22.9.log',\n",
       " '../../data/memes_infections.22.10.log',\n",
       " '../../data/memes_infections.22.11.log',\n",
       " '../../data/memes_infections.22.12.log',\n",
       " '../../data/memes_infections.22.13.log',\n",
       " '../../data/memes_infections.22.14.log',\n",
       " '../../data/memes_infections.22.15.log',\n",
       " '../../data/memes_infections.22.16.log',\n",
       " '../../data/memes_infections.22.17.log',\n",
       " '../../data/memes_infections.22.18.log',\n",
       " '../../data/memes_infections.22.19.log',\n",
       " '../../data/memes_infections.22.20.log',\n",
       " '../../data/memes_infections.22.21.log',\n",
       " '../../data/memes_infections.22.22.log',\n",
       " '../../data/memes_infections.22.23.log',\n",
       " '../../data/memes_infections.23.0.log',\n",
       " '../../data/memes_infections.23.1.log',\n",
       " '../../data/memes_infections.23.2.log',\n",
       " '../../data/memes_infections.23.3.log',\n",
       " '../../data/memes_infections.23.4.log',\n",
       " '../../data/memes_infections.23.5.log',\n",
       " '../../data/memes_infections.23.6.log',\n",
       " '../../data/memes_infections.23.7.log',\n",
       " '../../data/memes_infections.23.8.log',\n",
       " '../../data/memes_infections.23.9.log',\n",
       " '../../data/memes_infections.23.10.log',\n",
       " '../../data/memes_infections.23.11.log',\n",
       " '../../data/memes_infections.23.12.log',\n",
       " '../../data/memes_infections.23.13.log',\n",
       " '../../data/memes_infections.23.14.log',\n",
       " '../../data/memes_infections.23.15.log',\n",
       " '../../data/memes_infections.23.16.log',\n",
       " '../../data/memes_infections.23.17.log',\n",
       " '../../data/memes_infections.23.18.log',\n",
       " '../../data/memes_infections.23.19.log',\n",
       " '../../data/memes_infections.23.20.log',\n",
       " '../../data/memes_infections.23.21.log',\n",
       " '../../data/memes_infections.23.22.log',\n",
       " '../../data/memes_infections.23.23.log',\n",
       " '../../data/memes_infections.24.0.log',\n",
       " '../../data/memes_infections.24.1.log',\n",
       " '../../data/memes_infections.24.2.log',\n",
       " '../../data/memes_infections.24.3.log',\n",
       " '../../data/memes_infections.24.4.log',\n",
       " '../../data/memes_infections.24.5.log',\n",
       " '../../data/memes_infections.24.6.log',\n",
       " '../../data/memes_infections.24.7.log',\n",
       " '../../data/memes_infections.24.8.log',\n",
       " '../../data/memes_infections.24.9.log',\n",
       " '../../data/memes_infections.24.10.log',\n",
       " '../../data/memes_infections.24.11.log',\n",
       " '../../data/memes_infections.24.12.log',\n",
       " '../../data/memes_infections.24.13.log',\n",
       " '../../data/memes_infections.24.14.log',\n",
       " '../../data/memes_infections.24.15.log',\n",
       " '../../data/memes_infections.24.16.log',\n",
       " '../../data/memes_infections.24.17.log',\n",
       " '../../data/memes_infections.24.18.log',\n",
       " '../../data/memes_infections.24.19.log',\n",
       " '../../data/memes_infections.24.20.log',\n",
       " '../../data/memes_infections.24.21.log',\n",
       " '../../data/memes_infections.24.22.log',\n",
       " '../../data/memes_infections.24.23.log',\n",
       " '../../data/memes_infections.25.0.log',\n",
       " '../../data/memes_infections.25.3.log',\n",
       " '../../data/memes_infections.25.4.log',\n",
       " '../../data/memes_infections.25.5.log',\n",
       " '../../data/memes_infections.25.6.log',\n",
       " '../../data/memes_infections.25.7.log',\n",
       " '../../data/memes_infections.25.8.log',\n",
       " '../../data/memes_infections.25.9.log',\n",
       " '../../data/memes_infections.25.10.log',\n",
       " '../../data/memes_infections.25.11.log',\n",
       " '../../data/memes_infections.25.12.log',\n",
       " '../../data/memes_infections.25.13.log',\n",
       " '../../data/memes_infections.25.14.log',\n",
       " '../../data/memes_infections.25.15.log',\n",
       " '../../data/memes_infections.25.16.log',\n",
       " '../../data/memes_infections.25.17.log',\n",
       " '../../data/memes_infections.25.18.log',\n",
       " '../../data/memes_infections.25.19.log',\n",
       " '../../data/memes_infections.25.20.log',\n",
       " '../../data/memes_infections.25.21.log',\n",
       " '../../data/memes_infections.25.22.log',\n",
       " '../../data/memes_infections.25.23.log',\n",
       " '../../data/memes_infections.26.0.log',\n",
       " '../../data/memes_infections.26.1.log',\n",
       " '../../data/memes_infections.26.2.log',\n",
       " '../../data/memes_infections.26.3.log',\n",
       " '../../data/memes_infections.26.4.log',\n",
       " '../../data/memes_infections.26.5.log',\n",
       " '../../data/memes_infections.26.6.log',\n",
       " '../../data/memes_infections.26.7.log',\n",
       " '../../data/memes_infections.26.8.log',\n",
       " '../../data/memes_infections.26.9.log',\n",
       " '../../data/memes_infections.26.10.log',\n",
       " '../../data/memes_infections.26.11.log',\n",
       " '../../data/memes_infections.26.12.log',\n",
       " '../../data/memes_infections.26.13.log',\n",
       " '../../data/memes_infections.26.14.log',\n",
       " '../../data/memes_infections.26.15.log',\n",
       " '../../data/memes_infections.26.16.log',\n",
       " '../../data/memes_infections.26.17.log',\n",
       " '../../data/memes_infections.26.18.log',\n",
       " '../../data/memes_infections.26.19.log',\n",
       " '../../data/memes_infections.26.20.log',\n",
       " '../../data/memes_infections.26.21.log',\n",
       " '../../data/memes_infections.26.22.log',\n",
       " '../../data/memes_infections.26.23.log',\n",
       " '../../data/memes_infections.27.0.log',\n",
       " '../../data/memes_infections.27.1.log',\n",
       " '../../data/memes_infections.27.2.log',\n",
       " '../../data/memes_infections.27.3.log',\n",
       " '../../data/memes_infections.27.4.log',\n",
       " '../../data/memes_infections.27.5.log',\n",
       " '../../data/memes_infections.27.6.log',\n",
       " '../../data/memes_infections.27.7.log',\n",
       " '../../data/memes_infections.27.8.log',\n",
       " '../../data/memes_infections.27.9.log',\n",
       " '../../data/memes_infections.27.10.log',\n",
       " '../../data/memes_infections.27.11.log',\n",
       " '../../data/memes_infections.27.12.log',\n",
       " '../../data/memes_infections.27.13.log',\n",
       " '../../data/memes_infections.27.14.log',\n",
       " '../../data/memes_infections.27.15.log',\n",
       " '../../data/memes_infections.27.16.log',\n",
       " '../../data/memes_infections.27.17.log',\n",
       " '../../data/memes_infections.27.18.log',\n",
       " '../../data/memes_infections.27.19.log',\n",
       " '../../data/memes_infections.27.20.log',\n",
       " '../../data/memes_infections.27.21.log',\n",
       " '../../data/memes_infections.27.22.log',\n",
       " '../../data/memes_infections.27.23.log',\n",
       " '../../data/memes_infections.28.0.log',\n",
       " '../../data/memes_infections.28.1.log',\n",
       " '../../data/memes_infections.28.2.log',\n",
       " '../../data/memes_infections.28.3.log',\n",
       " '../../data/memes_infections.28.4.log',\n",
       " '../../data/memes_infections.28.5.log',\n",
       " '../../data/memes_infections.28.6.log',\n",
       " '../../data/memes_infections.28.7.log',\n",
       " '../../data/memes_infections.28.8.log',\n",
       " '../../data/memes_infections.28.9.log',\n",
       " '../../data/memes_infections.28.10.log',\n",
       " '../../data/memes_infections.28.11.log',\n",
       " '../../data/memes_infections.28.12.log',\n",
       " '../../data/memes_infections.28.13.log',\n",
       " '../../data/memes_infections.28.14.log',\n",
       " '../../data/memes_infections.28.15.log',\n",
       " '../../data/memes_infections.28.16.log',\n",
       " '../../data/memes_infections.28.17.log',\n",
       " '../../data/memes_infections.28.18.log',\n",
       " '../../data/memes_infections.28.19.log',\n",
       " '../../data/memes_infections.28.20.log',\n",
       " '../../data/memes_infections.28.21.log',\n",
       " '../../data/memes_infections.28.22.log',\n",
       " '../../data/memes_infections.28.23.log',\n",
       " '../../data/memes_infections.29.0.log',\n",
       " '../../data/memes_infections.29.1.log',\n",
       " '../../data/memes_infections.29.2.log',\n",
       " '../../data/memes_infections.29.3.log',\n",
       " '../../data/memes_infections.29.4.log',\n",
       " '../../data/memes_infections.29.5.log',\n",
       " '../../data/memes_infections.29.6.log',\n",
       " '../../data/memes_infections.29.7.log',\n",
       " '../../data/memes_infections.29.8.log',\n",
       " '../../data/memes_infections.29.9.log',\n",
       " '../../data/memes_infections.29.10.log',\n",
       " '../../data/memes_infections.29.11.log',\n",
       " '../../data/memes_infections.29.12.log',\n",
       " '../../data/memes_infections.29.13.log',\n",
       " '../../data/memes_infections.29.14.log',\n",
       " '../../data/memes_infections.29.15.log',\n",
       " '../../data/memes_infections.29.16.log',\n",
       " '../../data/memes_infections.29.17.log',\n",
       " '../../data/memes_infections.29.18.log',\n",
       " '../../data/memes_infections.29.19.log',\n",
       " '../../data/memes_infections.29.20.log',\n",
       " '../../data/memes_infections.29.21.log',\n",
       " '../../data/memes_infections.29.22.log',\n",
       " '../../data/memes_infections.29.23.log',\n",
       " '../../data/memes_infections.30.0.log',\n",
       " '../../data/memes_infections.30.1.log',\n",
       " '../../data/memes_infections.30.2.log',\n",
       " '../../data/memes_infections.30.3.log',\n",
       " '../../data/memes_infections.30.4.log',\n",
       " '../../data/memes_infections.30.5.log',\n",
       " '../../data/memes_infections.30.6.log',\n",
       " '../../data/memes_infections.30.7.log',\n",
       " '../../data/memes_infections.30.8.log',\n",
       " '../../data/memes_infections.30.9.log',\n",
       " '../../data/memes_infections.30.10.log',\n",
       " '../../data/memes_infections.30.11.log',\n",
       " '../../data/memes_infections.30.12.log',\n",
       " '../../data/memes_infections.30.13.log',\n",
       " '../../data/memes_infections.30.14.log',\n",
       " '../../data/memes_infections.30.15.log',\n",
       " '../../data/memes_infections.30.16.log',\n",
       " '../../data/memes_infections.30.17.log',\n",
       " '../../data/memes_infections.30.18.log',\n",
       " '../../data/memes_infections.30.19.log',\n",
       " '../../data/memes_infections.30.20.log',\n",
       " '../../data/memes_infections.30.21.log',\n",
       " '../../data/memes_infections.30.22.log',\n",
       " '../../data/memes_infections.30.23.log',\n",
       " '../../data/memes_infections.31.0.log',\n",
       " '../../data/memes_infections.31.1.log',\n",
       " '../../data/memes_infections.31.2.log',\n",
       " '../../data/memes_infections.31.3.log',\n",
       " '../../data/memes_infections.31.4.log',\n",
       " '../../data/memes_infections.31.5.log',\n",
       " '../../data/memes_infections.31.6.log',\n",
       " '../../data/memes_infections.31.7.log',\n",
       " '../../data/memes_infections.31.8.log',\n",
       " '../../data/memes_infections.31.9.log',\n",
       " '../../data/memes_infections.31.10.log',\n",
       " '../../data/memes_infections.31.11.log',\n",
       " '../../data/memes_infections.31.12.log',\n",
       " '../../data/memes_infections.31.13.log',\n",
       " '../../data/memes_infections.31.14.log',\n",
       " '../../data/memes_infections.31.15.log',\n",
       " '../../data/memes_infections.31.16.log',\n",
       " '../../data/memes_infections.31.17.log',\n",
       " '../../data/memes_infections.31.18.log',\n",
       " '../../data/memes_infections.31.19.log',\n",
       " '../../data/memes_infections.31.20.log',\n",
       " '../../data/memes_infections.31.21.log',\n",
       " '../../data/memes_infections.31.22.log',\n",
       " '../../data/memes_infections.31.23.log',\n",
       " '../../data/memes_infections.1.0.log',\n",
       " '../../data/memes_infections.1.1.log',\n",
       " '../../data/memes_infections.1.2.log',\n",
       " '../../data/memes_infections.1.3.log',\n",
       " '../../data/memes_infections.1.4.log',\n",
       " '../../data/memes_infections.1.5.log',\n",
       " '../../data/memes_infections.1.6.log',\n",
       " '../../data/memes_infections.1.7.log',\n",
       " '../../data/memes_infections.1.8.log',\n",
       " '../../data/memes_infections.1.9.log',\n",
       " '../../data/memes_infections.1.10.log',\n",
       " '../../data/memes_infections.1.11.log',\n",
       " '../../data/memes_infections.1.12.log',\n",
       " '../../data/memes_infections.1.13.log',\n",
       " '../../data/memes_infections.1.14.log',\n",
       " '../../data/memes_infections.1.15.log',\n",
       " '../../data/memes_infections.1.16.log',\n",
       " '../../data/memes_infections.1.17.log',\n",
       " '../../data/memes_infections.1.18.log',\n",
       " '../../data/memes_infections.1.19.log',\n",
       " '../../data/memes_infections.1.20.log',\n",
       " '../../data/memes_infections.1.21.log',\n",
       " '../../data/memes_infections.1.22.log',\n",
       " '../../data/memes_infections.1.23.log',\n",
       " '../../data/memes_infections.2.0.log',\n",
       " '../../data/memes_infections.2.1.log',\n",
       " '../../data/memes_infections.2.2.log',\n",
       " '../../data/memes_infections.2.3.log',\n",
       " '../../data/memes_infections.2.4.log',\n",
       " '../../data/memes_infections.2.5.log',\n",
       " '../../data/memes_infections.2.6.log',\n",
       " '../../data/memes_infections.2.7.log',\n",
       " '../../data/memes_infections.2.8.log',\n",
       " '../../data/memes_infections.2.9.log',\n",
       " '../../data/memes_infections.2.10.log',\n",
       " '../../data/memes_infections.2.11.log',\n",
       " '../../data/memes_infections.2.12.log',\n",
       " '../../data/memes_infections.2.13.log',\n",
       " '../../data/memes_infections.2.14.log',\n",
       " '../../data/memes_infections.2.15.log',\n",
       " '../../data/memes_infections.2.16.log',\n",
       " '../../data/memes_infections.2.17.log',\n",
       " '../../data/memes_infections.2.18.log',\n",
       " '../../data/memes_infections.2.19.log',\n",
       " '../../data/memes_infections.2.20.log',\n",
       " '../../data/memes_infections.2.21.log',\n",
       " '../../data/memes_infections.2.22.log',\n",
       " '../../data/memes_infections.2.23.log',\n",
       " '../../data/memes_infections.3.0.log',\n",
       " '../../data/memes_infections.3.1.log',\n",
       " '../../data/memes_infections.3.2.log',\n",
       " '../../data/memes_infections.3.3.log',\n",
       " '../../data/memes_infections.3.4.log',\n",
       " '../../data/memes_infections.3.5.log',\n",
       " '../../data/memes_infections.3.6.log',\n",
       " '../../data/memes_infections.3.7.log',\n",
       " '../../data/memes_infections.3.8.log',\n",
       " '../../data/memes_infections.3.9.log',\n",
       " '../../data/memes_infections.3.10.log',\n",
       " '../../data/memes_infections.3.11.log',\n",
       " '../../data/memes_infections.3.12.log',\n",
       " '../../data/memes_infections.3.13.log',\n",
       " '../../data/memes_infections.3.14.log',\n",
       " '../../data/memes_infections.3.15.log',\n",
       " '../../data/memes_infections.3.16.log',\n",
       " '../../data/memes_infections.3.17.log',\n",
       " '../../data/memes_infections.3.18.log',\n",
       " '../../data/memes_infections.3.19.log',\n",
       " '../../data/memes_infections.3.20.log',\n",
       " '../../data/memes_infections.3.21.log',\n",
       " '../../data/memes_infections.3.22.log',\n",
       " '../../data/memes_infections.3.23.log',\n",
       " '../../data/memes_infections.4.0.log',\n",
       " '../../data/memes_infections.4.1.log',\n",
       " '../../data/memes_infections.4.2.log',\n",
       " '../../data/memes_infections.4.3.log',\n",
       " '../../data/memes_infections.4.4.log',\n",
       " '../../data/memes_infections.4.5.log',\n",
       " '../../data/memes_infections.4.6.log',\n",
       " '../../data/memes_infections.4.7.log',\n",
       " '../../data/memes_infections.4.8.log',\n",
       " '../../data/memes_infections.4.9.log',\n",
       " '../../data/memes_infections.4.10.log',\n",
       " '../../data/memes_infections.4.11.log',\n",
       " '../../data/memes_infections.4.12.log',\n",
       " '../../data/memes_infections.4.13.log',\n",
       " '../../data/memes_infections.4.14.log',\n",
       " '../../data/memes_infections.4.15.log',\n",
       " '../../data/memes_infections.4.16.log',\n",
       " '../../data/memes_infections.4.17.log',\n",
       " '../../data/memes_infections.4.18.log',\n",
       " '../../data/memes_infections.4.19.log',\n",
       " '../../data/memes_infections.4.20.log',\n",
       " '../../data/memes_infections.4.21.log',\n",
       " '../../data/memes_infections.4.22.log',\n",
       " '../../data/memes_infections.4.23.log',\n",
       " '../../data/memes_infections.5.0.log',\n",
       " '../../data/memes_infections.5.1.log']"
      ]
     },
     "execution_count": 187,
     "metadata": {},
     "output_type": "execute_result"
    }
   ],
   "source": [
    "get_files()"
   ]
  },
  {
   "cell_type": "code",
   "execution_count": 9,
   "metadata": {},
   "outputs": [],
   "source": [
    "# memes_infections.20.19.log - add row for patient 0 infection\n",
    "\n",
    "# with open(FIRST_FILE, 'w') as f:\n",
    "#     f.write(\"{}\\t{}\\t{}\\t{}\\t{}\\t{}\\n\".format(\n",
    "#             '2020-03-20 19:59:59.0',\n",
    "#             PATIENT_0,\n",
    "#             '',\n",
    "#             '',\n",
    "#             '',\n",
    "#             ''\n",
    "#         ))"
   ]
  },
  {
   "cell_type": "code",
   "execution_count": 10,
   "metadata": {},
   "outputs": [],
   "source": [
    "# fix ancestry\n",
    "\n",
    "# 'post_dt',\n",
    "# 'infectee_name',\n",
    "# 'infectee_post_id',\n",
    "# 'infector_name',\n",
    "# 'infector_post_id',\n",
    "# 'comment_or_submission'\n",
    "\n",
    "InfectionLog = namedtuple(\n",
    "    'InfectionLog',\n",
    "    ['post_dt', 'infectee_name', 'infectee_post_id', 'infector_name', 'infector_post_id', 'comment_or_submission']\n",
    ")\n",
    "\n",
    "def get_missing_infection_logs(user, infectee, infectee_data, max_date=None):\n",
    "    print(\"Getting missing infection logs for user '{}' from infectee '{}'\".format(user, infectee))\n",
    "    # i1->i2, i2->i3, i3->i4 ... i5->i6 (i2<-i11<-i5)\n",
    "    possible_infections = []\n",
    "    user_comments = _reddit.redditor(user.lstrip('u/')).comments.new(limit=None)\n",
    "    logs = []\n",
    "    try:\n",
    "        for comment in user_comments:\n",
    "            if comment.subreddit_id == 't5_2qjpg':\n",
    "                comment_dt = datetime.utcfromtimestamp(comment.created_utc)\n",
    "                comment_dt = comment_dt.replace(tzinfo=pytz.utc).astimezone(tz=pytz.timezone('America/New_York'))\n",
    "                if max_date and comment_dt > max_date:\n",
    "                    # ensure comment date is between infector date and first infectee date\n",
    "                    continue\n",
    "                parent = comment.parent()\n",
    "                parent_author_name = parent.author.name if parent and parent.author else None\n",
    "                comment_author_name = comment.author.name if comment and comment.author else None\n",
    "                if not parent_author_name or comment_author_name is None or parent_author_name == comment_author_name:\n",
    "                    # deleted users are ignored, just not sure how this would be handled\n",
    "                    continue\n",
    "                parent_author_name = 'u/{}'.format(parent_author_name)\n",
    "                comment_author_name = 'u/{}'.format(comment_author_name)\n",
    "                if parent_author_name not in infectee_data and parent.author_flair_text and \"INFECTED\" in parent.author_flair_text:\n",
    "                    try:\n",
    "                        infectee_data[parent_author_name] = {}\n",
    "                        logs = get_missing_infection_logs(parent_author_name, user, infectee_data, max_date=None)\n",
    "                    except Exception as e:\n",
    "                        print(\"Recursive error: {}\".format(e))\n",
    "                if parent_author_name in infectee_data and infectee_data[parent_author_name] and comment_dt > infectee_data[parent_author_name]['post_dt']:\n",
    "                    possible_infections.append(\n",
    "                        InfectionLog(\n",
    "                            str(comment_dt),\n",
    "                            comment_author_name,\n",
    "                            comment.id,\n",
    "                            parent_author_name,\n",
    "                            parent.id,\n",
    "                            \"C\" if type(parent) is praw.models.Comment else \"S\"\n",
    "                        )\n",
    "                    )\n",
    "    except Exception as e:\n",
    "        raise Exception(\"Failed to get comments for user '{}': {}\".format(user, e)) from e\n",
    "    if not possible_infections:\n",
    "        # could not find missing link\n",
    "        raise Exception(\"Failed to find missing links for infector '{}'\".format(user))\n",
    "    # best guess is that it's the infector with the earliest infection date\n",
    "    best_likely_infection = next(iter(sorted(possible_infections, key=lambda x: parser.parse(x.post_dt))))\n",
    "    infectee_data[user] = {'post_dt': parser.parse(best_likely_infection.post_dt).replace(tzinfo=pytz.timezone('America/New_York')), 'infector_name': best_likely_infection.infector_name}\n",
    "    return logs + [best_likely_infection]\n",
    "\n",
    "def get_patient_0(user):\n",
    "    if user not in infectee_infector or user == PATIENT_0:\n",
    "        return user\n",
    "    else:\n",
    "        return get_patient_0(infectee_infector[user])\n",
    "\n",
    "def fix_ancestry():\n",
    "    infectee_data = {}\n",
    "    missing_infectors = {}\n",
    "    for _fname in get_files():\n",
    "        print(_fname)\n",
    "        df = get_file(_fname)\n",
    "        df.sort_values('post_dt', inplace=True)\n",
    "\n",
    "        removal_indexes = []\n",
    "        for index, row in df.iterrows():\n",
    "            if row.infectee_name in infectee_data:\n",
    "                # duplicate infection\n",
    "                removal_indexes.append(index)\n",
    "                continue\n",
    "            if row.infectee_name in missing_infectors:\n",
    "                # a loop was detected in conjunction with missing data, this gets handled later\n",
    "                continue\n",
    "            if type(row.infector_name) is not str and np.isnan(row.infector_name):\n",
    "                infectee_data[row.infectee_name] = {'post_dt': row.post_dt.replace(tzinfo=pytz.timezone('America/New_York')), 'infector_name': ''}\n",
    "                continue\n",
    "            infectee_data[row.infectee_name] = {'post_dt': row.post_dt.replace(tzinfo=pytz.timezone('America/New_York')), 'infector_name': row.infector_name}\n",
    "            if row.infector_name and row.infector_name not in infectee_data:\n",
    "                # missing infector infection\n",
    "                if row.infector_name not in missing_infectors or row.post_dt.replace(tzinfo=pytz.timezone('America/New_York')) < missing_infectors[row.infector_name]:\n",
    "                    missing_infectors[row.infector_name] = row.post_dt.replace(tzinfo=pytz.timezone('America/New_York'))\n",
    "        # remove rows and write new log\n",
    "        if removal_indexes:\n",
    "            df.sort_index(inplace=True)\n",
    "            df.drop(removal_indexes, inplace=True)\n",
    "            df.to_csv(_fname, sep='\\t', header=None, index=False)\n",
    "            print(\"{} indexes removed\".format(len(removal_indexes)))\n",
    "    return infectee_data, missing_infectors\n",
    "\n",
    "def get_missing_ancestry(infectee_data, missing_infectors):\n",
    "    print(\"Getting missing ancestry for {} infectors\".format(len(missing_infectors)))\n",
    "    infection_groups = []\n",
    "    failure_groups = []\n",
    "    for infector_name, post_dt in missing_infectors.items():\n",
    "        try:\n",
    "            infection_logs = get_missing_infection_logs(infector_name, None, infectee_data, max_date=post_dt)\n",
    "        except Exception as e:\n",
    "            print(e)\n",
    "            failure_groups.append((e, infector_name))\n",
    "        else:\n",
    "            infection_groups.append(infection_logs)\n",
    "    return infection_groups, failure_groups\n",
    "\n",
    "def fix_missing_ancestry(infection_groups):\n",
    "    # add logs to corresponding log files :)\n",
    "    for infection_logs in infection_groups:\n",
    "        for log in infection_logs:\n",
    "            dt = parser.parse(log.post_dt).replace(tzinfo=pytz.timezone('America/New_York'))\n",
    "            _fname = '{}/memes_infections.{}.{}.log'.format(get_files(), dt.day, dt.hour)\n",
    "            df = get_file(_fname)\n",
    "            print(\"writing new log to file: {} + {}\".format(_fname, log))\n",
    "            df.append(log._asdict(), ignore_index=True)\n",
    "            df.sort_values('post_dt', inplace=True)\n",
    "            df.to_csv(_fname, sep='\\t', header=None, index=False)\n",
    "\n",
    "# TODO: remove sub-tree from log files :(\n",
    "\n",
    "def fix_ancestry_2():\n",
    "    infectee_data = {}\n",
    "    invalid_infectors = set()\n",
    "    invalid_roots = set()\n",
    "    for _fname in get_files():\n",
    "        print(_fname)\n",
    "        df = get_file(_fname)\n",
    "        df.sort_values('post_dt', inplace=True)\n",
    "\n",
    "        removal_indexes = []\n",
    "        for index, row in df.iterrows():\n",
    "            if row.infectee_name in infectee_data:\n",
    "                # duplicate infection\n",
    "#                 print(\"duplicate: {}\".format(row))\n",
    "                removal_indexes.append(index)\n",
    "                continue\n",
    "            if row.infector_name in invalid_infectors:\n",
    "                # invalid infection\n",
    "                invalid_infectors.add(row.infectee_name)\n",
    "#                 print(\"invalid2: {}\".format(row))\n",
    "#                 removal_indexes.append(index)\n",
    "                continue\n",
    "            if type(row.infector_name) is not str and np.isnan(row.infector_name):\n",
    "                infectee_data[row.infectee_name] = ''\n",
    "                continue\n",
    "            if row.infector_name in infectee_data:\n",
    "                infectee_data[row.infectee_name] = row.infector_name\n",
    "            else:\n",
    "                # invalid infection\n",
    "                invalid_roots.add(row.infector_name)\n",
    "                invalid_infectors.add(row.infector_name)\n",
    "                invalid_infectors.add(row.infectee_name)\n",
    "#                 print(\"invalid1: {}\".format(row))\n",
    "#                 removal_indexes.append(index)\n",
    "        # remove rows and write new log\n",
    "        if removal_indexes:\n",
    "            df.sort_index(inplace=True)\n",
    "            df.drop(removal_indexes, inplace=True)\n",
    "            df.to_csv(_fname, sep='\\t', header=None, index=False)\n",
    "            print(\"{} indexes removed\".format(len(removal_indexes)))\n",
    "    return infectee_data, invalid_infectors, invalid_roots"
   ]
  },
  {
   "cell_type": "code",
   "execution_count": 5,
   "metadata": {},
   "outputs": [
    {
     "name": "stdout",
     "output_type": "stream",
     "text": [
      "../../data/memes_infections.20.19.log\n",
      "../../data/memes_infections.20.20.log\n",
      "../../data/memes_infections.20.21.log\n",
      "../../data/memes_infections.20.22.log\n",
      "../../data/memes_infections.20.23.log\n",
      "../../data/memes_infections.21.0.log\n",
      "../../data/memes_infections.21.1.log\n",
      "../../data/memes_infections.21.2.log\n",
      "../../data/memes_infections.21.3.log\n",
      "../../data/memes_infections.21.4.log\n",
      "../../data/memes_infections.21.5.log\n",
      "../../data/memes_infections.21.6.log\n",
      "../../data/memes_infections.21.7.log\n",
      "../../data/memes_infections.21.8.log\n",
      "../../data/memes_infections.21.9.log\n",
      "../../data/memes_infections.21.10.log\n",
      "../../data/memes_infections.21.11.log\n",
      "../../data/memes_infections.21.12.log\n",
      "../../data/memes_infections.21.13.log\n",
      "../../data/memes_infections.21.14.log\n",
      "../../data/memes_infections.21.15.log\n",
      "../../data/memes_infections.21.16.log\n",
      "../../data/memes_infections.21.17.log\n",
      "../../data/memes_infections.21.18.log\n",
      "../../data/memes_infections.21.19.log\n",
      "../../data/memes_infections.21.20.log\n",
      "../../data/memes_infections.21.21.log\n",
      "../../data/memes_infections.21.22.log\n",
      "../../data/memes_infections.21.23.log\n",
      "../../data/memes_infections.22.0.log\n",
      "../../data/memes_infections.22.1.log\n",
      "../../data/memes_infections.22.2.log\n",
      "../../data/memes_infections.22.3.log\n",
      "../../data/memes_infections.22.4.log\n",
      "../../data/memes_infections.22.5.log\n",
      "../../data/memes_infections.22.6.log\n",
      "../../data/memes_infections.22.7.log\n",
      "../../data/memes_infections.22.8.log\n",
      "../../data/memes_infections.22.9.log\n",
      "../../data/memes_infections.22.10.log\n",
      "../../data/memes_infections.22.11.log\n",
      "../../data/memes_infections.22.12.log\n",
      "../../data/memes_infections.22.13.log\n",
      "../../data/memes_infections.22.14.log\n",
      "../../data/memes_infections.22.15.log\n",
      "../../data/memes_infections.22.16.log\n",
      "../../data/memes_infections.22.17.log\n",
      "../../data/memes_infections.22.18.log\n",
      "../../data/memes_infections.22.19.log\n",
      "../../data/memes_infections.22.20.log\n",
      "../../data/memes_infections.22.21.log\n",
      "../../data/memes_infections.22.22.log\n",
      "../../data/memes_infections.22.23.log\n",
      "../../data/memes_infections.23.0.log\n",
      "../../data/memes_infections.23.1.log\n",
      "../../data/memes_infections.23.2.log\n",
      "../../data/memes_infections.23.3.log\n",
      "../../data/memes_infections.23.4.log\n",
      "../../data/memes_infections.23.5.log\n",
      "../../data/memes_infections.23.6.log\n",
      "../../data/memes_infections.23.7.log\n",
      "../../data/memes_infections.23.8.log\n",
      "../../data/memes_infections.23.9.log\n",
      "../../data/memes_infections.23.10.log\n",
      "../../data/memes_infections.23.11.log\n",
      "../../data/memes_infections.23.12.log\n",
      "../../data/memes_infections.23.13.log\n",
      "../../data/memes_infections.23.14.log\n",
      "../../data/memes_infections.23.15.log\n",
      "../../data/memes_infections.23.16.log\n",
      "../../data/memes_infections.23.17.log\n",
      "../../data/memes_infections.23.18.log\n",
      "../../data/memes_infections.23.19.log\n",
      "../../data/memes_infections.23.20.log\n",
      "../../data/memes_infections.23.21.log\n",
      "../../data/memes_infections.23.22.log\n",
      "../../data/memes_infections.23.23.log\n",
      "../../data/memes_infections.24.0.log\n",
      "../../data/memes_infections.24.1.log\n",
      "../../data/memes_infections.24.2.log\n",
      "../../data/memes_infections.24.3.log\n",
      "../../data/memes_infections.24.4.log\n",
      "../../data/memes_infections.24.5.log\n",
      "../../data/memes_infections.24.6.log\n",
      "../../data/memes_infections.24.7.log\n",
      "../../data/memes_infections.24.8.log\n",
      "../../data/memes_infections.24.9.log\n",
      "../../data/memes_infections.24.10.log\n",
      "../../data/memes_infections.24.11.log\n",
      "../../data/memes_infections.24.12.log\n",
      "../../data/memes_infections.24.13.log\n",
      "../../data/memes_infections.24.14.log\n",
      "../../data/memes_infections.24.15.log\n",
      "../../data/memes_infections.24.16.log\n",
      "../../data/memes_infections.24.17.log\n",
      "../../data/memes_infections.24.18.log\n",
      "../../data/memes_infections.24.19.log\n",
      "../../data/memes_infections.24.20.log\n",
      "../../data/memes_infections.24.21.log\n",
      "../../data/memes_infections.24.22.log\n",
      "../../data/memes_infections.24.23.log\n",
      "../../data/memes_infections.25.0.log\n",
      "../../data/memes_infections.25.3.log\n",
      "../../data/memes_infections.25.4.log\n",
      "../../data/memes_infections.25.5.log\n",
      "../../data/memes_infections.25.6.log\n",
      "../../data/memes_infections.25.7.log\n",
      "../../data/memes_infections.25.8.log\n",
      "../../data/memes_infections.25.9.log\n",
      "../../data/memes_infections.25.10.log\n",
      "../../data/memes_infections.25.11.log\n",
      "../../data/memes_infections.25.12.log\n",
      "../../data/memes_infections.25.13.log\n",
      "../../data/memes_infections.25.14.log\n",
      "../../data/memes_infections.25.15.log\n",
      "../../data/memes_infections.25.16.log\n",
      "../../data/memes_infections.25.17.log\n",
      "../../data/memes_infections.25.18.log\n",
      "../../data/memes_infections.25.19.log\n",
      "../../data/memes_infections.25.20.log\n",
      "../../data/memes_infections.25.21.log\n",
      "../../data/memes_infections.25.22.log\n",
      "../../data/memes_infections.25.23.log\n",
      "../../data/memes_infections.26.0.log\n",
      "../../data/memes_infections.26.1.log\n",
      "../../data/memes_infections.26.2.log\n",
      "../../data/memes_infections.26.3.log\n",
      "../../data/memes_infections.26.4.log\n",
      "../../data/memes_infections.26.5.log\n",
      "../../data/memes_infections.26.6.log\n",
      "../../data/memes_infections.26.7.log\n",
      "../../data/memes_infections.26.8.log\n",
      "../../data/memes_infections.26.9.log\n",
      "../../data/memes_infections.26.10.log\n",
      "../../data/memes_infections.26.11.log\n",
      "../../data/memes_infections.26.12.log\n",
      "../../data/memes_infections.26.13.log\n",
      "../../data/memes_infections.26.14.log\n",
      "../../data/memes_infections.26.15.log\n",
      "../../data/memes_infections.26.16.log\n",
      "../../data/memes_infections.26.17.log\n",
      "../../data/memes_infections.26.18.log\n",
      "../../data/memes_infections.26.19.log\n",
      "../../data/memes_infections.26.20.log\n",
      "../../data/memes_infections.26.21.log\n",
      "../../data/memes_infections.26.22.log\n",
      "../../data/memes_infections.26.23.log\n",
      "../../data/memes_infections.27.0.log\n",
      "../../data/memes_infections.27.1.log\n",
      "../../data/memes_infections.27.2.log\n",
      "../../data/memes_infections.27.3.log\n",
      "../../data/memes_infections.27.4.log\n",
      "../../data/memes_infections.27.5.log\n",
      "../../data/memes_infections.27.6.log\n",
      "../../data/memes_infections.27.7.log\n",
      "../../data/memes_infections.27.8.log\n",
      "../../data/memes_infections.27.9.log\n",
      "../../data/memes_infections.27.10.log\n",
      "../../data/memes_infections.27.11.log\n",
      "../../data/memes_infections.27.12.log\n",
      "../../data/memes_infections.27.13.log\n",
      "../../data/memes_infections.27.14.log\n",
      "../../data/memes_infections.27.15.log\n",
      "../../data/memes_infections.27.16.log\n",
      "../../data/memes_infections.27.17.log\n",
      "../../data/memes_infections.27.18.log\n",
      "../../data/memes_infections.27.19.log\n",
      "../../data/memes_infections.27.20.log\n",
      "../../data/memes_infections.27.21.log\n",
      "../../data/memes_infections.27.22.log\n",
      "../../data/memes_infections.27.23.log\n",
      "../../data/memes_infections.28.0.log\n",
      "../../data/memes_infections.28.1.log\n",
      "../../data/memes_infections.28.2.log\n",
      "../../data/memes_infections.28.3.log\n",
      "../../data/memes_infections.28.4.log\n",
      "../../data/memes_infections.28.5.log\n",
      "../../data/memes_infections.28.6.log\n",
      "../../data/memes_infections.28.7.log\n",
      "../../data/memes_infections.28.8.log\n",
      "../../data/memes_infections.28.9.log\n",
      "../../data/memes_infections.28.10.log\n",
      "../../data/memes_infections.28.11.log\n",
      "../../data/memes_infections.28.12.log\n",
      "../../data/memes_infections.28.13.log\n",
      "../../data/memes_infections.28.14.log\n",
      "../../data/memes_infections.28.15.log\n",
      "../../data/memes_infections.28.16.log\n",
      "../../data/memes_infections.28.17.log\n",
      "../../data/memes_infections.28.18.log\n",
      "../../data/memes_infections.28.19.log\n",
      "../../data/memes_infections.28.20.log\n",
      "../../data/memes_infections.28.21.log\n",
      "../../data/memes_infections.28.22.log\n",
      "../../data/memes_infections.28.23.log\n",
      "../../data/memes_infections.29.0.log\n",
      "../../data/memes_infections.29.1.log\n",
      "../../data/memes_infections.29.2.log\n",
      "../../data/memes_infections.29.3.log\n",
      "../../data/memes_infections.29.4.log\n",
      "../../data/memes_infections.29.5.log\n",
      "../../data/memes_infections.29.6.log\n",
      "../../data/memes_infections.29.7.log\n",
      "../../data/memes_infections.29.8.log\n",
      "../../data/memes_infections.29.9.log\n",
      "../../data/memes_infections.29.10.log\n",
      "../../data/memes_infections.29.11.log\n",
      "../../data/memes_infections.29.12.log\n",
      "../../data/memes_infections.29.13.log\n",
      "../../data/memes_infections.29.14.log\n",
      "../../data/memes_infections.29.15.log\n",
      "../../data/memes_infections.29.16.log\n",
      "../../data/memes_infections.29.17.log\n",
      "../../data/memes_infections.29.18.log\n",
      "../../data/memes_infections.29.19.log\n",
      "../../data/memes_infections.29.20.log\n",
      "../../data/memes_infections.29.21.log\n",
      "../../data/memes_infections.29.22.log\n"
     ]
    },
    {
     "name": "stdout",
     "output_type": "stream",
     "text": [
      "../../data/memes_infections.29.23.log\n",
      "../../data/memes_infections.30.0.log\n",
      "../../data/memes_infections.30.1.log\n",
      "../../data/memes_infections.30.2.log\n",
      "../../data/memes_infections.30.3.log\n",
      "../../data/memes_infections.30.4.log\n",
      "../../data/memes_infections.30.5.log\n",
      "../../data/memes_infections.30.6.log\n",
      "../../data/memes_infections.30.7.log\n",
      "../../data/memes_infections.30.8.log\n",
      "../../data/memes_infections.30.9.log\n",
      "../../data/memes_infections.30.10.log\n",
      "../../data/memes_infections.30.11.log\n",
      "../../data/memes_infections.30.12.log\n",
      "../../data/memes_infections.30.13.log\n",
      "../../data/memes_infections.30.14.log\n",
      "../../data/memes_infections.30.15.log\n",
      "../../data/memes_infections.30.16.log\n",
      "../../data/memes_infections.30.17.log\n",
      "../../data/memes_infections.30.18.log\n",
      "../../data/memes_infections.30.19.log\n",
      "../../data/memes_infections.30.20.log\n",
      "../../data/memes_infections.30.21.log\n",
      "../../data/memes_infections.30.22.log\n",
      "../../data/memes_infections.30.23.log\n",
      "../../data/memes_infections.31.0.log\n",
      "../../data/memes_infections.31.1.log\n",
      "../../data/memes_infections.31.2.log\n",
      "../../data/memes_infections.31.3.log\n",
      "../../data/memes_infections.31.4.log\n",
      "../../data/memes_infections.31.5.log\n",
      "../../data/memes_infections.31.6.log\n",
      "../../data/memes_infections.31.7.log\n",
      "../../data/memes_infections.31.8.log\n",
      "../../data/memes_infections.31.9.log\n",
      "../../data/memes_infections.31.10.log\n",
      "../../data/memes_infections.31.11.log\n",
      "../../data/memes_infections.31.12.log\n",
      "../../data/memes_infections.31.13.log\n",
      "../../data/memes_infections.31.14.log\n",
      "../../data/memes_infections.31.15.log\n",
      "../../data/memes_infections.31.16.log\n",
      "../../data/memes_infections.31.17.log\n",
      "../../data/memes_infections.31.18.log\n",
      "../../data/memes_infections.31.19.log\n",
      "../../data/memes_infections.31.20.log\n",
      "../../data/memes_infections.31.21.log\n",
      "../../data/memes_infections.31.22.log\n",
      "../../data/memes_infections.31.23.log\n",
      "../../data/memes_infections.1.0.log\n",
      "../../data/memes_infections.1.1.log\n",
      "../../data/memes_infections.1.2.log\n",
      "../../data/memes_infections.1.3.log\n",
      "../../data/memes_infections.1.4.log\n",
      "../../data/memes_infections.1.5.log\n",
      "../../data/memes_infections.1.6.log\n",
      "../../data/memes_infections.1.7.log\n",
      "../../data/memes_infections.1.8.log\n",
      "../../data/memes_infections.1.9.log\n",
      "../../data/memes_infections.1.10.log\n",
      "../../data/memes_infections.1.11.log\n",
      "../../data/memes_infections.1.12.log\n",
      "../../data/memes_infections.1.13.log\n",
      "../../data/memes_infections.1.14.log\n",
      "../../data/memes_infections.1.15.log\n",
      "../../data/memes_infections.1.16.log\n",
      "../../data/memes_infections.1.17.log\n",
      "../../data/memes_infections.1.18.log\n",
      "../../data/memes_infections.1.19.log\n",
      "../../data/memes_infections.1.20.log\n",
      "../../data/memes_infections.1.21.log\n",
      "../../data/memes_infections.1.22.log\n",
      "../../data/memes_infections.1.23.log\n",
      "../../data/memes_infections.2.0.log\n",
      "../../data/memes_infections.2.1.log\n",
      "../../data/memes_infections.2.2.log\n",
      "../../data/memes_infections.2.3.log\n",
      "../../data/memes_infections.2.4.log\n",
      "../../data/memes_infections.2.5.log\n",
      "../../data/memes_infections.2.6.log\n",
      "../../data/memes_infections.2.7.log\n",
      "../../data/memes_infections.2.8.log\n",
      "../../data/memes_infections.2.9.log\n",
      "../../data/memes_infections.2.10.log\n",
      "../../data/memes_infections.2.11.log\n",
      "../../data/memes_infections.2.12.log\n",
      "../../data/memes_infections.2.13.log\n",
      "../../data/memes_infections.2.14.log\n",
      "../../data/memes_infections.2.15.log\n",
      "../../data/memes_infections.2.16.log\n",
      "../../data/memes_infections.2.17.log\n",
      "../../data/memes_infections.2.18.log\n",
      "../../data/memes_infections.2.19.log\n",
      "../../data/memes_infections.2.20.log\n",
      "../../data/memes_infections.2.21.log\n",
      "../../data/memes_infections.2.22.log\n",
      "../../data/memes_infections.2.23.log\n",
      "../../data/memes_infections.3.0.log\n",
      "../../data/memes_infections.3.1.log\n",
      "../../data/memes_infections.3.2.log\n",
      "../../data/memes_infections.3.3.log\n",
      "../../data/memes_infections.3.4.log\n",
      "../../data/memes_infections.3.5.log\n",
      "../../data/memes_infections.3.6.log\n",
      "../../data/memes_infections.3.7.log\n",
      "../../data/memes_infections.3.8.log\n",
      "../../data/memes_infections.3.9.log\n",
      "../../data/memes_infections.3.10.log\n",
      "../../data/memes_infections.3.11.log\n",
      "../../data/memes_infections.3.12.log\n",
      "../../data/memes_infections.3.13.log\n",
      "../../data/memes_infections.3.14.log\n",
      "../../data/memes_infections.3.15.log\n",
      "../../data/memes_infections.3.16.log\n",
      "../../data/memes_infections.3.17.log\n",
      "../../data/memes_infections.3.18.log\n",
      "../../data/memes_infections.3.19.log\n",
      "../../data/memes_infections.3.20.log\n",
      "../../data/memes_infections.3.21.log\n",
      "../../data/memes_infections.3.22.log\n",
      "../../data/memes_infections.3.23.log\n",
      "../../data/memes_infections.4.0.log\n",
      "../../data/memes_infections.4.1.log\n",
      "../../data/memes_infections.4.2.log\n",
      "../../data/memes_infections.4.3.log\n",
      "../../data/memes_infections.4.4.log\n",
      "../../data/memes_infections.4.5.log\n",
      "../../data/memes_infections.4.6.log\n",
      "../../data/memes_infections.4.7.log\n",
      "../../data/memes_infections.4.8.log\n",
      "../../data/memes_infections.4.9.log\n",
      "../../data/memes_infections.4.10.log\n",
      "../../data/memes_infections.4.11.log\n",
      "../../data/memes_infections.4.12.log\n",
      "../../data/memes_infections.4.13.log\n",
      "../../data/memes_infections.4.14.log\n",
      "../../data/memes_infections.4.15.log\n",
      "../../data/memes_infections.4.16.log\n",
      "../../data/memes_infections.4.17.log\n",
      "../../data/memes_infections.4.18.log\n",
      "../../data/memes_infections.4.19.log\n",
      "../../data/memes_infections.4.20.log\n",
      "../../data/memes_infections.4.21.log\n",
      "../../data/memes_infections.4.22.log\n",
      "../../data/memes_infections.4.23.log\n",
      "../../data/memes_infections.5.0.log\n",
      "../../data/memes_infections.5.1.log\n"
     ]
    }
   ],
   "source": [
    "infectee_data, missing_infectors = fix_ancestry()"
   ]
  },
  {
   "cell_type": "code",
   "execution_count": 203,
   "metadata": {},
   "outputs": [
    {
     "data": {
      "text/plain": [
       "{'u/5amukai': Timestamp('2020-03-25 13:30:43.952444'),\n",
       " 'u/A_shovel_': Timestamp('2020-03-21 14:49:48.375981'),\n",
       " 'u/AlbertXFish': Timestamp('2020-03-25 22:59:59.499948'),\n",
       " 'u/Anoobis100percent': Timestamp('2020-03-25 04:19:21.330793'),\n",
       " 'u/AutisthicccGuy': Timestamp('2020-03-28 06:15:29.945040'),\n",
       " 'u/BeardPhile': Timestamp('2020-03-25 04:47:21.692608'),\n",
       " 'u/Bit_of_a_Hater': Timestamp('2020-04-02 03:28:20.583997'),\n",
       " 'u/BoomBug': Timestamp('2020-03-31 13:21:04.757940'),\n",
       " 'u/C0uchP0t4tO': Timestamp('2020-03-21 18:56:08.135622'),\n",
       " 'u/Ca-Game': Timestamp('2020-03-25 15:21:45.565364'),\n",
       " 'u/Chong_Long_Dong': Timestamp('2020-03-25 04:12:23.831106'),\n",
       " 'u/Cottoncandyskiesthrw': Timestamp('2020-03-21 14:53:00.572599'),\n",
       " 'u/DieHarD04': Timestamp('2020-03-21 18:08:56.406433'),\n",
       " 'u/Drodr10': Timestamp('2020-03-21 15:31:52.341864'),\n",
       " 'u/Durmath': Timestamp('2020-04-02 16:19:42.120531'),\n",
       " 'u/ETHEKILLER': Timestamp('2020-03-21 18:46:52.815095'),\n",
       " 'u/EbbieXinYue': Timestamp('2020-03-27 18:02:00.779113'),\n",
       " 'u/Faustonreddit': Timestamp('2020-03-21 14:48:43.889194'),\n",
       " 'u/FivesG': Timestamp('2020-03-25 06:14:12.538246'),\n",
       " 'u/GarageInc': Timestamp('2020-03-21 19:24:15.851374'),\n",
       " 'u/Garaogu': Timestamp('2020-04-01 00:36:34.028399'),\n",
       " 'u/GiantRobotDeadpool12': Timestamp('2020-03-25 06:58:47.494253'),\n",
       " 'u/GloryToDucks39': Timestamp('2020-03-25 08:18:40.034725'),\n",
       " 'u/HeartOfGold02': Timestamp('2020-03-25 18:57:02.156503'),\n",
       " 'u/Houdeanie19': Timestamp('2020-03-21 16:49:46.918032'),\n",
       " 'u/Hrxcky': Timestamp('2020-03-28 02:01:01.225053'),\n",
       " 'u/IamGrooot77': Timestamp('2020-03-28 05:29:49.325756'),\n",
       " 'u/IllegalBruhDealer': Timestamp('2020-03-27 17:36:10.699264'),\n",
       " 'u/ImJustDubzzz': Timestamp('2020-03-25 05:09:59.227150'),\n",
       " 'u/ItsSynnoX': Timestamp('2020-03-25 04:39:44.248171'),\n",
       " 'u/JustMobsReddit': Timestamp('2020-04-02 17:08:13.562713'),\n",
       " 'u/KarenOfficial': Timestamp('2020-03-27 14:48:27.145760'),\n",
       " 'u/Kirby-For-Life05': Timestamp('2020-03-21 14:52:14.704961'),\n",
       " 'u/LeonidtheWill': Timestamp('2020-03-25 05:19:55.674974'),\n",
       " 'u/MapleSyrupSquirrel': Timestamp('2020-03-25 07:38:07.264192'),\n",
       " 'u/Mr_Roberge': Timestamp('2020-03-25 05:22:46.062168'),\n",
       " 'u/NotFunnyBuddy': Timestamp('2020-03-25 05:42:11.393954'),\n",
       " 'u/Oli15768': Timestamp('2020-03-31 22:47:59.623535'),\n",
       " 'u/OneNootBoi': Timestamp('2020-03-27 13:59:00.599699'),\n",
       " 'u/Pathodox': Timestamp('2020-03-21 16:31:49.398393'),\n",
       " 'u/PersonMan6000': Timestamp('2020-03-21 15:15:51.874746'),\n",
       " 'u/PhenomenalOneZ': Timestamp('2020-03-28 12:35:50.119844'),\n",
       " 'u/PunntheGreat': Timestamp('2020-03-25 06:20:18.073349'),\n",
       " 'u/Scarecrow_1912': Timestamp('2020-03-27 12:02:12.764723'),\n",
       " 'u/SeaSmokie': Timestamp('2020-03-21 15:13:44.337719'),\n",
       " 'u/Sex_Shop_Souvenir': Timestamp('2020-03-25 05:13:21.275604'),\n",
       " 'u/SirQwacksAlot': Timestamp('2020-03-21 15:07:37.855068'),\n",
       " 'u/Something_Syck': Timestamp('2020-03-26 05:23:52.013179'),\n",
       " 'u/Sour_Gamer': Timestamp('2020-03-26 00:59:56.923431'),\n",
       " 'u/SpicyDorito08': Timestamp('2020-03-21 16:37:50.995565'),\n",
       " 'u/Swarm474': Timestamp('2020-03-31 01:29:01.046587'),\n",
       " 'u/Sweatytowelz': Timestamp('2020-03-26 06:55:16.250044'),\n",
       " 'u/TECHNOCAT112': Timestamp('2020-03-29 02:43:46.654265'),\n",
       " 'u/Tackerta': Timestamp('2020-03-27 11:23:22.597592'),\n",
       " 'u/TerryBlue2': Timestamp('2020-03-25 16:38:35.414914'),\n",
       " 'u/TheSCP_3008': Timestamp('2020-03-25 04:08:27.149857'),\n",
       " 'u/UnKnOwNLIKER': Timestamp('2020-03-25 04:44:45.663050'),\n",
       " 'u/Uncle_Freddy': Timestamp('2020-03-25 05:16:25.860293'),\n",
       " 'u/Vile-Bagger': Timestamp('2020-03-21 14:51:56.867479'),\n",
       " 'u/Vishvraj': Timestamp('2020-03-26 15:26:26.138293'),\n",
       " 'u/XDLAv5': Timestamp('2020-04-02 00:29:20.430055'),\n",
       " 'u/Xc4lib3r': Timestamp('2020-03-26 04:40:28.292879'),\n",
       " 'u/Yusuri-San': Timestamp('2020-03-25 04:02:22.084620'),\n",
       " 'u/_TheRope': Timestamp('2020-03-25 05:06:49.278268'),\n",
       " 'u/_wazzupp_': Timestamp('2020-03-29 09:54:20.221194'),\n",
       " 'u/beannie_babbiiee': Timestamp('2020-03-28 15:46:56.554029'),\n",
       " 'u/biggested304': Timestamp('2020-03-25 04:43:26.720918'),\n",
       " 'u/casualgamer71': Timestamp('2020-03-28 13:13:14.823625'),\n",
       " 'u/colbywankenobi0': Timestamp('2020-03-25 04:57:52.461248'),\n",
       " 'u/crazed_titan': Timestamp('2020-03-29 12:44:34.810294'),\n",
       " 'u/cyberdrugs': Timestamp('2020-03-21 15:58:33.936685'),\n",
       " 'u/disappointedtaci': Timestamp('2020-03-26 00:18:37.152640'),\n",
       " 'u/drewmanchu74': Timestamp('2020-03-21 14:54:35.856952'),\n",
       " 'u/greatking6009': Timestamp('2020-03-21 15:28:59.765819'),\n",
       " 'u/iam_inevtable': Timestamp('2020-03-25 06:19:13.541948'),\n",
       " 'u/immortalshadows4334': Timestamp('2020-03-21 17:52:43.209014'),\n",
       " 'u/infamouszoggy': Timestamp('2020-03-25 06:52:22.976536'),\n",
       " 'u/inslatafresca_': Timestamp('2020-03-25 08:06:11.648939'),\n",
       " 'u/jontrop': Timestamp('2020-03-27 13:23:09.941423'),\n",
       " 'u/jospehjoestar': Timestamp('2020-03-25 04:03:46.165811'),\n",
       " 'u/jrodjh': Timestamp('2020-03-21 16:26:44.646883'),\n",
       " 'u/kajri': Timestamp('2020-03-30 22:42:18.006940'),\n",
       " 'u/kiIIcharge': Timestamp('2020-03-26 09:33:05.281760'),\n",
       " 'u/kidrah2201': Timestamp('2020-04-02 08:45:49.112960'),\n",
       " 'u/kink_creamson': Timestamp('2020-03-25 04:01:51.464937'),\n",
       " 'u/leo2k20': Timestamp('2020-03-26 12:07:39.066994'),\n",
       " 'u/lil-bruh4206969': Timestamp('2020-03-26 00:05:47.194346'),\n",
       " 'u/lilb3nn0': Timestamp('2020-03-27 07:51:45.775493'),\n",
       " 'u/litterly-jesus': Timestamp('2020-03-26 19:19:07.661972'),\n",
       " 'u/lolking0': Timestamp('2020-03-28 16:59:20.257748'),\n",
       " 'u/longlivestheking': Timestamp('2020-03-25 05:21:23.920322'),\n",
       " 'u/macobus': Timestamp('2020-03-21 17:48:15.033322'),\n",
       " 'u/maplejuice424': Timestamp('2020-03-30 02:45:48.334498'),\n",
       " 'u/mb032475': Timestamp('2020-03-21 15:51:36.677902'),\n",
       " 'u/meatball-the-toad': Timestamp('2020-03-25 16:59:58.514115'),\n",
       " 'u/my-name-is-blank': Timestamp('2020-03-25 10:39:58.504683'),\n",
       " 'u/naveen000can': Timestamp('2020-03-28 06:49:31.098429'),\n",
       " 'u/neopolitam': Timestamp('2020-03-25 04:13:35.941845'),\n",
       " 'u/neptun_3': Timestamp('2020-03-31 09:19:10.153549'),\n",
       " 'u/not-a-Shrek': Timestamp('2020-03-25 04:48:11.245121'),\n",
       " 'u/p0g0s71ck': Timestamp('2020-03-27 19:23:52.411820'),\n",
       " 'u/ruilybro': Timestamp('2020-03-21 18:27:28.188350'),\n",
       " 'u/schlogumann': Timestamp('2020-03-26 04:26:05.792152'),\n",
       " 'u/shreygay123': Timestamp('2020-03-21 15:15:08.002189'),\n",
       " 'u/skootus': Timestamp('2020-03-25 14:49:21.445268'),\n",
       " 'u/sohvos': Timestamp('2020-03-30 01:55:32.575941'),\n",
       " 'u/spiritually_deceased': Timestamp('2020-03-25 13:46:52.756322'),\n",
       " 'u/the-69-guy': Timestamp('2020-03-26 17:33:21.534324'),\n",
       " 'u/theMeatman7': Timestamp('2020-03-25 20:45:15.791816'),\n",
       " 'u/themangoperson': Timestamp('2020-03-21 17:11:04.991442'),\n",
       " 'u/thetrueSG': Timestamp('2020-04-02 07:51:04.906853'),\n",
       " 'u/tukboss': Timestamp('2020-03-27 17:32:55.374463'),\n",
       " 'u/yee3009': Timestamp('2020-03-25 05:18:03.477596'),\n",
       " 'u/young_yeehaw1': Timestamp('2020-03-29 20:59:56.380316')}"
      ]
     },
     "execution_count": 203,
     "metadata": {},
     "output_type": "execute_result"
    }
   ],
   "source": [
    "missing_infectors"
   ]
  },
  {
   "cell_type": "code",
   "execution_count": 6,
   "metadata": {},
   "outputs": [
    {
     "name": "stdout",
     "output_type": "stream",
     "text": [
      "Getting missing ancestry for 114 infectors\n",
      "Getting missing infection logs for user 'u/EbbieXinYue' from infectee 'None'\n",
      "Getting missing infection logs for user 'u/iam_inevtable' from infectee 'None'\n",
      "Getting missing infection logs for user 'u/jimmydcriket' from infectee 'u/iam_inevtable'\n",
      "Getting missing infection logs for user 'u/aranzord_sama' from infectee 'u/jimmydcriket'\n",
      "Getting missing infection logs for user 'u/AlexysYoung' from infectee 'u/jimmydcriket'\n",
      "Getting missing infection logs for user 'u/kirk_s7' from infectee 'u/AlexysYoung'\n",
      "Getting missing infection logs for user 'u/_insert_Nick_here_' from infectee 'u/kirk_s7'\n",
      "Getting missing infection logs for user 'u/Supergamer5465' from infectee 'u/_insert_Nick_here_'\n",
      "Getting missing infection logs for user 'u/bigboomer420' from infectee 'u/Supergamer5465'\n",
      "Getting missing infection logs for user 'u/Courtlander1993' from infectee 'u/bigboomer420'\n",
      "Getting missing infection logs for user 'u/alex_NSI' from infectee 'u/Courtlander1993'\n",
      "Getting missing infection logs for user 'u/JFConz' from infectee 'u/alex_NSI'\n",
      "Getting missing infection logs for user 'u/hj_sxp' from infectee 'u/alex_NSI'\n",
      "Getting missing infection logs for user 'u/Yayaet' from infectee 'u/hj_sxp'\n",
      "Getting missing infection logs for user 'u/Bilou9' from infectee 'u/Yayaet'\n",
      "Getting missing infection logs for user 'u/aleksa6000' from infectee 'u/alex_NSI'\n",
      "Getting missing infection logs for user 'u/CD913' from infectee 'u/alex_NSI'\n",
      "Getting missing infection logs for user 'u/geeky_or_nerdy' from infectee 'u/CD913'\n",
      "Getting missing infection logs for user 'u/D3V1L_D0G' from infectee 'u/CD913'\n",
      "Getting missing infection logs for user 'u/Sweatytowelz' from infectee 'u/D3V1L_D0G'\n",
      "Getting missing infection logs for user 'u/Mr-360' from infectee 'u/Sweatytowelz'\n",
      "Getting missing infection logs for user 'u/Kaarssteun' from infectee 'u/Mr-360'\n",
      "Getting missing infection logs for user 'u/call_me_jr' from infectee 'u/Kaarssteun'\n",
      "Getting missing infection logs for user 'u/Caturion' from infectee 'u/call_me_jr'\n",
      "Getting missing infection logs for user 'u/AaronBrock808' from infectee 'u/call_me_jr'\n",
      "Getting missing infection logs for user 'u/MemeFish_1' from infectee 'u/AaronBrock808'\n",
      "Getting missing infection logs for user 'u/chawy666' from infectee 'u/call_me_jr'\n",
      "Getting missing infection logs for user 'u/WhatsInMyBoxers' from infectee 'u/chawy666'\n",
      "Getting missing infection logs for user 'u/bruh_energy' from infectee 'u/WhatsInMyBoxers'\n",
      "Getting missing infection logs for user 'u/ImJustDubzzz' from infectee 'u/bruh_energy'\n",
      "Getting missing infection logs for user 'u/Spiderman8123' from infectee 'u/chawy666'\n",
      "Getting missing infection logs for user 'u/Davis_Schina' from infectee 'u/Spiderman8123'\n",
      "Getting missing infection logs for user 'u/theMeatman7' from infectee 'u/Davis_Schina'\n",
      "Getting missing infection logs for user 'u/dthompson96' from infectee 'u/theMeatman7'\n",
      "Getting missing infection logs for user 'u/Pathodox' from infectee 'u/dthompson96'\n",
      "Getting missing infection logs for user 'u/howareya79' from infectee 'u/Pathodox'\n",
      "Getting missing infection logs for user 'u/swichblaed' from infectee 'u/Pathodox'\n",
      "Getting missing infection logs for user 'u/Teacherson404' from infectee 'u/swichblaed'\n",
      "Getting missing infection logs for user 'u/kratotheze' from infectee 'u/Teacherson404'\n",
      "Getting missing infection logs for user 'u/tukboss' from infectee 'u/kratotheze'\n",
      "Getting missing infection logs for user 'u/5amukai' from infectee 'u/tukboss'\n",
      "Getting missing infection logs for user 'u/inslatafresca_' from infectee 'u/5amukai'\n",
      "Getting missing infection logs for user 'u/throwie66642069' from infectee 'u/inslatafresca_'\n",
      "Getting missing infection logs for user 'u/JackyDrayer' from infectee 'u/throwie66642069'\n",
      "Getting missing infection logs for user 'u/Tophergamingphd' from infectee 'u/JackyDrayer'\n",
      "Getting missing infection logs for user 'u/british_init' from infectee 'u/Tophergamingphd'\n",
      "Getting missing infection logs for user 'u/mystic_moon-' from infectee 'u/Tophergamingphd'\n",
      "Getting missing infection logs for user 'u/alpalw' from infectee 'u/mystic_moon-'\n",
      "Getting missing infection logs for user 'u/AnimeAssClapper' from infectee 'u/alpalw'\n",
      "Getting missing infection logs for user 'u/YhormBIGGiant' from infectee 'u/AnimeAssClapper'\n",
      "Getting missing infection logs for user 'u/HeylelbenShakhar' from infectee 'u/Tophergamingphd'\n",
      "Getting missing infection logs for user 'u/DiceDestroy' from infectee 'u/HeylelbenShakhar'\n",
      "Recursive error: Failed to find missing links for infector 'u/DiceDestroy'\n",
      "Recursive error: Failed to find missing links for infector 'u/HeylelbenShakhar'\n",
      "Getting missing infection logs for user 'u/Bedovan' from infectee 'u/Tophergamingphd'\n",
      "Getting missing infection logs for user 'u/majiminah' from infectee 'u/Tophergamingphd'\n",
      "Getting missing infection logs for user 'u/BiggestNoobAlive' from infectee 'u/JackyDrayer'\n",
      "Getting missing infection logs for user 'u/Salty_Tofu_Dog' from infectee 'u/BiggestNoobAlive'\n",
      "Getting missing infection logs for user 'u/DragoWasTakenTwice' from infectee 'u/Salty_Tofu_Dog'\n",
      "Getting missing infection logs for user 'u/subthebub' from infectee 'u/DragoWasTakenTwice'\n",
      "Getting missing infection logs for user 'u/memzerboy156' from infectee 'u/subthebub'\n",
      "Getting missing infection logs for user 'u/Andr0ximus' from infectee 'u/subthebub'\n",
      "Recursive error: Failed to find missing links for infector 'u/Andr0ximus'\n",
      "Getting missing infection logs for user 'u/QuesoPapIO' from infectee 'u/DragoWasTakenTwice'\n",
      "Getting missing infection logs for user 'u/TheSCP_3008' from infectee 'u/QuesoPapIO'\n",
      "Getting missing infection logs for user 'u/xPhoenixFiresx' from infectee 'u/TheSCP_3008'\n",
      "Getting missing infection logs for user 'u/infamouszoggy' from infectee 'u/xPhoenixFiresx'\n",
      "Getting missing infection logs for user 'u/brandom123' from infectee 'u/infamouszoggy'\n",
      "Recursive error: Failed to find missing links for infector 'u/brandom123'\n",
      "Getting missing infection logs for user 'u/FigureOfStickman' from infectee 'u/infamouszoggy'\n",
      "Getting missing infection logs for user 'u/B37yr' from infectee 'u/infamouszoggy'\n",
      "Getting missing infection logs for user 'u/NihilisticDozenaire' from infectee 'u/B37yr'\n",
      "Getting missing infection logs for user 'u/Loose-Screws' from infectee 'u/B37yr'\n",
      "Getting missing infection logs for user 'u/SniperSnake2000' from infectee 'u/Loose-Screws'\n",
      "Getting missing infection logs for user 'u/gatoALFA15' from infectee 'u/SniperSnake2000'\n",
      "Getting missing infection logs for user 'u/Meepster27' from infectee 'u/gatoALFA15'\n",
      "Getting missing infection logs for user 'u/cbroney' from infectee 'u/Meepster27'\n",
      "Getting missing infection logs for user 'u/Garaogu' from infectee 'u/SniperSnake2000'\n",
      "Getting missing infection logs for user 'u/collinsextonapex' from infectee 'u/Garaogu'\n",
      "Getting missing infection logs for user 'u/aineri' from infectee 'u/collinsextonapex'\n",
      "Getting missing infection logs for user 'u/ESGBear' from infectee 'u/aineri'\n",
      "Getting missing infection logs for user 'u/alaskaspapertowns' from infectee 'u/ESGBear'\n",
      "Getting missing infection logs for user 'u/the-dead-centerYT' from infectee 'u/ESGBear'\n",
      "Getting missing infection logs for user 'u/evildeadtim' from infectee 'u/the-dead-centerYT'\n",
      "Getting missing infection logs for user 'u/Thrutch' from infectee 'u/evildeadtim'\n",
      "Recursive error: Failed to find missing links for infector 'u/Thrutch'\n",
      "Getting missing infection logs for user 'u/oieknes' from infectee 'u/aineri'\n",
      "Getting missing infection logs for user 'u/arjun_aditya' from infectee 'u/oieknes'\n",
      "Getting missing infection logs for user 'u/TheEGreatFish' from infectee 'u/arjun_aditya'\n",
      "Getting missing infection logs for user 'u/NoobmanX123' from infectee 'u/TheEGreatFish'\n",
      "Getting missing infection logs for user 'u/EditorRedditor56' from infectee 'u/NoobmanX123'\n",
      "Getting missing infection logs for user 'u/Prince_Paradox007' from infectee 'u/TheEGreatFish'\n",
      "Getting missing infection logs for user 'u/absurdgamed' from infectee 'u/Prince_Paradox007'\n",
      "Getting missing infection logs for user 'u/enabledmoth123' from infectee 'u/absurdgamed'\n",
      "Getting missing infection logs for user 'u/atilahunt' from infectee 'u/absurdgamed'\n",
      "Getting missing infection logs for user 'u/thisnameis_' from infectee 'u/atilahunt'\n"
     ]
    },
    {
     "name": "stdout",
     "output_type": "stream",
     "text": [
      "Getting missing infection logs for user 'u/PredatorOwl' from infectee 'u/thisnameis_'\n",
      "Getting missing infection logs for user 'u/KreagerStein' from infectee 'u/PredatorOwl'\n",
      "Getting missing infection logs for user 'u/magic-soup' from infectee 'u/KreagerStein'\n",
      "Getting missing infection logs for user 'u/Hungry-Carrot13' from infectee 'u/magic-soup'\n",
      "Getting missing infection logs for user 'u/AVeryLonelyWeeb' from infectee 'u/Hungry-Carrot13'\n",
      "Getting missing infection logs for user 'u/Sungami00' from infectee 'u/Hungry-Carrot13'\n",
      "Getting missing infection logs for user 'u/ServantOfTheLost' from infectee 'u/Sungami00'\n",
      "Getting missing infection logs for user 'u/DrAhktarious' from infectee 'u/Sungami00'\n",
      "Getting missing infection logs for user 'u/_Foxified_' from infectee 'u/DrAhktarious'\n",
      "Getting missing infection logs for user 'u/Rede331' from infectee 'u/DrAhktarious'\n",
      "Getting missing infection logs for user 'u/StonnerShaggy' from infectee 'u/DrAhktarious'\n",
      "Getting missing infection logs for user 'u/SaMeMe332' from infectee 'u/StonnerShaggy'\n",
      "Getting missing infection logs for user 'u/hopright157' from infectee 'u/SaMeMe332'\n",
      "Getting missing infection logs for user 'u/Xinzel' from infectee 'u/SaMeMe332'\n",
      "Getting missing infection logs for user 'u/TECHNOCAT112' from infectee 'u/SaMeMe332'\n",
      "Getting missing infection logs for user 'u/Sterling156' from infectee 'u/DrAhktarious'\n",
      "Getting missing infection logs for user 'u/Atalkingpizzabox' from infectee 'u/Sterling156'\n",
      "Getting missing infection logs for user 'u/wolfeper' from infectee 'u/Sterling156'\n",
      "Getting missing infection logs for user 'u/K1n6_arthur' from infectee 'u/wolfeper'\n",
      "Getting missing infection logs for user 'u/YourSauceAndSaviour' from infectee 'u/K1n6_arthur'\n",
      "Getting missing infection logs for user 'u/Alex_the_Bunsky' from infectee 'u/YourSauceAndSaviour'\n",
      "Getting missing infection logs for user 'u/Goatsie12' from infectee 'u/Alex_the_Bunsky'\n",
      "Getting missing infection logs for user 'u/mathems' from infectee 'u/Goatsie12'\n",
      "Recursive error: Failed to find missing links for infector 'u/mathems'\n",
      "Getting missing infection logs for user 'u/skilledpirate' from infectee 'u/Goatsie12'\n",
      "Getting missing infection logs for user 'u/BraeDrizzt23' from infectee 'u/Alex_the_Bunsky'\n",
      "Getting missing infection logs for user 'u/KailReed' from infectee 'u/BraeDrizzt23'\n",
      "Getting missing infection logs for user 'u/urbandeadthrowaway2' from infectee 'u/KailReed'\n",
      "Recursive error: Failed to get comments for user 'u/urbandeadthrowaway2': received 404 HTTP response\n",
      "Getting missing infection logs for user 'u/DodLad' from infectee 'u/KailReed'\n",
      "Getting missing infection logs for user 'u/antisblij' from infectee 'u/YourSauceAndSaviour'\n",
      "Getting missing infection logs for user 'u/Red_Blue_One_Two' from infectee 'u/DrAhktarious'\n",
      "Getting missing infection logs for user 'u/pshawny' from infectee 'u/DrAhktarious'\n",
      "Getting missing infection logs for user 'u/DogeyLord' from infectee 'u/pshawny'\n",
      "Getting missing infection logs for user 'u/mylifeisfuckinghell' from infectee 'u/DogeyLord'\n",
      "Getting missing infection logs for user 'u/dorzle' from infectee 'u/mylifeisfuckinghell'\n",
      "Getting missing infection logs for user 'u/PicoPlex' from infectee 'u/dorzle'\n",
      "Getting missing infection logs for user 'u/TheAlpha990' from infectee 'u/PicoPlex'\n",
      "Getting missing infection logs for user 'u/hmmmmmmmmmmmms' from infectee 'u/pshawny'\n",
      "Getting missing infection logs for user 'u/Memelegend02' from infectee 'u/hmmmmmmmmmmmms'\n",
      "Getting missing infection logs for user 'u/ronroxx2' from infectee 'u/Memelegend02'\n",
      "Getting missing infection logs for user 'u/BrokeBoyAdvanced' from infectee 'u/ronroxx2'\n",
      "Getting missing infection logs for user 'u/Pokeminer7575' from infectee 'u/BrokeBoyAdvanced'\n",
      "Getting missing infection logs for user 'u/aiaidy' from infectee 'u/Pokeminer7575'\n",
      "Recursive error: Failed to find missing links for infector 'u/aiaidy'\n",
      "Getting missing infection logs for user 'u/ineedanswersss15' from infectee 'u/ronroxx2'\n",
      "Getting missing infection logs for user 'u/CrocsAndThots' from infectee 'u/hmmmmmmmmmmmms'\n",
      "Getting missing infection logs for user 'u/ShlokTHE5' from infectee 'u/hmmmmmmmmmmmms'\n",
      "Getting missing infection logs for user 'u/Morallyindifferent' from infectee 'u/ShlokTHE5'\n",
      "Getting missing infection logs for user 'u/MickeyAvalonMrRight' from infectee 'u/Morallyindifferent'\n",
      "Recursive error: Failed to find missing links for infector 'u/MickeyAvalonMrRight'\n",
      "Getting missing infection logs for user 'u/Levelman123' from infectee 'u/Morallyindifferent'\n",
      "Getting missing infection logs for user 'u/Rumman_Adib' from infectee 'u/Levelman123'\n",
      "Getting missing infection logs for user 'u/AngryVic702' from infectee 'u/Rumman_Adib'\n",
      "Getting missing infection logs for user 'u/truckaduk' from infectee 'u/AngryVic702'\n",
      "Getting missing infection logs for user 'u/thefuckedupteen' from infectee 'u/truckaduk'\n",
      "Getting missing infection logs for user 'u/Chaos_MAX_Z-ARK' from infectee 'u/truckaduk'\n",
      "Getting missing infection logs for user 'u/AquaticJazstar' from infectee 'u/Chaos_MAX_Z-ARK'\n",
      "Getting missing infection logs for user 'u/lluu50' from infectee 'u/AquaticJazstar'\n",
      "Getting missing infection logs for user 'u/shanece_mcc' from infectee 'u/lluu50'\n",
      "Getting missing infection logs for user 'u/Getyx' from infectee 'u/lluu50'\n",
      "Recursive error: Failed to find missing links for infector 'u/Getyx'\n",
      "Getting missing infection logs for user 'u/winemaker7376' from infectee 'u/lluu50'\n",
      "Getting missing infection logs for user 'u/wheelsnipe' from infectee 'u/lluu50'\n",
      "Recursive error: Failed to find missing links for infector 'u/wheelsnipe'\n",
      "Getting missing infection logs for user 'u/R0n50' from infectee 'u/lluu50'\n",
      "Getting missing infection logs for user 'u/Einliterflasche' from infectee 'u/R0n50'\n",
      "Getting missing infection logs for user 'u/Ilovedogsalot42069' from infectee 'u/Einliterflasche'\n",
      "Getting missing infection logs for user 'u/wolfeinstein24' from infectee 'u/Ilovedogsalot42069'\n",
      "Getting missing infection logs for user 'u/Stronger-Sans' from infectee 'u/wolfeinstein24'\n",
      "Getting missing infection logs for user 'u/Godzilla_3301' from infectee 'u/Stronger-Sans'\n",
      "Getting missing infection logs for user 'u/C_I_GAY' from infectee 'u/Stronger-Sans'\n",
      "Getting missing infection logs for user 'u/akhilgeothom' from infectee 'u/C_I_GAY'\n",
      "Getting missing infection logs for user 'u/AttackOnPixel95' from infectee 'u/akhilgeothom'\n",
      "Getting missing infection logs for user 'u/cantbeatourmeat' from infectee 'u/AttackOnPixel95'\n",
      "Getting missing infection logs for user 'u/StaffPhoenix' from infectee 'u/cantbeatourmeat'\n",
      "Getting missing infection logs for user 'u/akpfa312' from infectee 'u/StaffPhoenix'\n",
      "Recursive error: Failed to find missing links for infector 'u/cantbeatourmeat'\n",
      "Recursive error: Failed to find missing links for infector 'u/AttackOnPixel95'\n",
      "Getting missing infection logs for user 'u/MomoIrosch' from infectee 'u/Stronger-Sans'\n",
      "Getting missing infection logs for user 'u/val_the_impaler' from infectee 'u/wolfeinstein24'\n",
      "Getting missing infection logs for user 'u/AutisthicccGuy' from infectee 'u/val_the_impaler'\n",
      "Getting missing infection logs for user 'u/CircleofSexyLife' from infectee 'u/AutisthicccGuy'\n",
      "Getting missing infection logs for user 'u/t_lindholm' from infectee 'u/CircleofSexyLife'\n",
      "Getting missing infection logs for user 'u/ItsMeChief42' from infectee 'u/t_lindholm'\n",
      "Getting missing infection logs for user 'u/aj_da__dj' from infectee 'u/Ilovedogsalot42069'\n",
      "Getting missing infection logs for user 'u/Gamicuci' from infectee 'u/Ilovedogsalot42069'\n",
      "Getting missing infection logs for user 'u/howdy99999' from infectee 'u/lluu50'\n",
      "Getting missing infection logs for user 'u/cod3boi' from infectee 'u/lluu50'\n",
      "Getting missing infection logs for user 'u/_saberzz_' from infectee 'u/lluu50'\n",
      "Getting missing infection logs for user 'u/PlaneCrashers' from infectee 'u/lluu50'\n",
      "Recursive error: Failed to find missing links for infector 'u/PlaneCrashers'\n",
      "Getting missing infection logs for user 'u/Vulpee' from infectee 'u/lluu50'\n",
      "Recursive error: Failed to find missing links for infector 'u/Vulpee'\n",
      "Getting missing infection logs for user 'u/blue_cheesestick' from infectee 'u/lluu50'\n",
      "Getting missing infection logs for user 'u/88xfi' from infectee 'u/lluu50'\n"
     ]
    },
    {
     "name": "stdout",
     "output_type": "stream",
     "text": [
      "Getting missing infection logs for user 'u/brydon9' from infectee 'u/88xfi'\n",
      "Getting missing infection logs for user 'u/rap1dbunny' from infectee 'u/brydon9'\n",
      "Getting missing infection logs for user 'u/Dill_PickleOG' from infectee 'u/rap1dbunny'\n",
      "Getting missing infection logs for user 'u/xavier7777777' from infectee 'u/Dill_PickleOG'\n",
      "Getting missing infection logs for user 'u/Lars82NL' from infectee 'u/xavier7777777'\n",
      "Getting missing infection logs for user 'u/totalyabove18' from infectee 'u/Lars82NL'\n",
      "Getting missing infection logs for user 'u/HotHotPotato79' from infectee 'u/Lars82NL'\n",
      "Getting missing infection logs for user 'u/gloooooooo' from infectee 'u/Lars82NL'\n",
      "Getting missing infection logs for user 'u/LordRaisinBran' from infectee 'u/gloooooooo'\n",
      "Getting missing infection logs for user 'u/yeahggiguess' from infectee 'u/LordRaisinBran'\n",
      "Getting missing infection logs for user 'u/rslashFuryKiller' from infectee 'u/yeahggiguess'\n",
      "Getting missing infection logs for user 'u/ChampXXXII' from infectee 'u/yeahggiguess'\n",
      "Getting missing infection logs for user 'u/XxWeebLmaoxX' from infectee 'u/ChampXXXII'\n",
      "Recursive error: Failed to find missing links for infector 'u/gloooooooo'\n",
      "Getting missing infection logs for user 'u/RandomPerson975' from infectee 'u/xavier7777777'\n",
      "Getting missing infection logs for user 'u/TauriuxX' from infectee 'u/RandomPerson975'\n",
      "Getting missing infection logs for user 'u/malindu_06' from infectee 'u/RandomPerson975'\n",
      "Getting missing infection logs for user 'u/CraigCMHarris' from infectee 'u/xavier7777777'\n",
      "Getting missing infection logs for user 'u/Zeke8525' from infectee 'u/xavier7777777'\n",
      "Getting missing infection logs for user 'u/preaqoto' from infectee 'u/rap1dbunny'\n",
      "Getting missing infection logs for user 'u/TheIcecreamPickle' from infectee 'u/preaqoto'\n",
      "Getting missing infection logs for user 'u/Bomboooo' from infectee 'u/preaqoto'\n",
      "Getting missing infection logs for user 'u/VasilV24' from infectee 'u/preaqoto'\n",
      "Getting missing infection logs for user 'u/Trefor_Bws' from infectee 'u/lluu50'\n",
      "Getting missing infection logs for user 'u/ayan0101' from infectee 'u/Trefor_Bws'\n",
      "Getting missing infection logs for user 'u/Chaoticbamboo19' from infectee 'u/lluu50'\n",
      "Getting missing infection logs for user 'u/Androvium' from infectee 'u/Chaoticbamboo19'\n",
      "Getting missing infection logs for user 'u/ToBeContinued69' from infectee 'u/lluu50'\n",
      "Getting missing infection logs for user 'u/allstaken' from infectee 'u/lluu50'\n",
      "Getting missing infection logs for user 'u/dwyercharlie99' from infectee 'u/lluu50'\n",
      "Getting missing infection logs for user 'u/erictic67108' from infectee 'u/dwyercharlie99'\n",
      "Recursive error: Failed to find missing links for infector 'u/erictic67108'\n",
      "Getting missing infection logs for user 'u/qwopperi' from infectee 'u/dwyercharlie99'\n",
      "Getting missing infection logs for user 'u/cenahoria' from infectee 'u/qwopperi'\n",
      "Getting missing infection logs for user 'u/tie_po' from infectee 'u/cenahoria'\n",
      "Getting missing infection logs for user 'u/i-like-to-be-wooshed' from infectee 'u/truckaduk'\n",
      "Getting missing infection logs for user 'u/chickenwaffleman' from infectee 'u/truckaduk'\n",
      "Getting missing infection logs for user 'u/Xhuliano88' from infectee 'u/truckaduk'\n",
      "Getting missing infection logs for user 'u/LifeHasNoMeaning444' from infectee 'u/Xhuliano88'\n",
      "Getting missing infection logs for user 'u/aiden10450' from infectee 'u/hmmmmmmmmmmmms'\n",
      "Getting missing infection logs for user 'u/C0uchP0t4tO' from infectee 'u/aiden10450'\n",
      "Getting missing infection logs for user 'u/Mattotto11' from infectee 'u/C0uchP0t4tO'\n",
      "Getting missing infection logs for user 'u/coz36' from infectee 'u/hmmmmmmmmmmmms'\n",
      "Getting missing infection logs for user 'u/Memestagram' from infectee 'u/coz36'\n",
      "Getting missing infection logs for user 'u/BASSLEMSHAT' from infectee 'u/Memestagram'\n",
      "Getting missing infection logs for user 'u/MTPROJECTS' from infectee 'u/BASSLEMSHAT'\n",
      "Getting missing infection logs for user 'u/PaYr0' from infectee 'u/Memestagram'\n",
      "Getting missing infection logs for user 'u/MR-DakX' from infectee 'u/PaYr0'\n",
      "Recursive error: Failed to find missing links for infector 'u/MR-DakX'\n",
      "Getting missing infection logs for user 'u/ChaoSSouls' from infectee 'u/PaYr0'\n",
      "Getting missing infection logs for user 'u/unsolicitedDoomsday' from infectee 'u/PaYr0'\n",
      "Recursive error: Failed to get comments for user 'u/unsolicitedDoomsday': received 404 HTTP response\n",
      "Getting missing infection logs for user 'u/dre679' from infectee 'u/PaYr0'\n",
      "Getting missing infection logs for user 'u/cameroncaml' from infectee 'u/hmmmmmmmmmmmms'\n",
      "Getting missing infection logs for user 'u/serious_grey' from infectee 'u/cameroncaml'\n",
      "Getting missing infection logs for user 'u/Adamus825' from infectee 'u/cameroncaml'\n",
      "Getting missing infection logs for user 'u/Kosovo_Gjilan04' from infectee 'u/cameroncaml'\n",
      "Getting missing infection logs for user 'u/xF1L1P' from infectee 'u/Kosovo_Gjilan04'\n",
      "Getting missing infection logs for user 'u/Fexty12573' from infectee 'u/xF1L1P'\n",
      "Getting missing infection logs for user 'u/JimVanilla' from infectee 'u/xF1L1P'\n",
      "Getting missing infection logs for user 'u/Fhymi' from infectee 'u/JimVanilla'\n",
      "Getting missing infection logs for user 'u/RankReddit' from infectee 'u/Fhymi'\n",
      "Getting missing infection logs for user 'u/AJ_1203' from infectee 'u/Kosovo_Gjilan04'\n",
      "Getting missing infection logs for user 'u/TheRealmUm' from infectee 'u/AJ_1203'\n",
      "Getting missing infection logs for user 'u/Jacksonia_' from infectee 'u/AJ_1203'\n",
      "Getting missing infection logs for user 'u/askeetinbootycheek' from infectee 'u/Jacksonia_'\n",
      "Getting missing infection logs for user 'u/py_ris' from infectee 'u/askeetinbootycheek'\n",
      "Getting missing infection logs for user 'u/PointlessPoem' from infectee 'u/Jacksonia_'\n",
      "Getting missing infection logs for user 'u/SassyTangerine123' from infectee 'u/PointlessPoem'\n",
      "Getting missing infection logs for user 'u/Kylewrennnn' from infectee 'u/SassyTangerine123'\n",
      "Getting missing infection logs for user 'u/miamiheat123456' from infectee 'u/Kylewrennnn'\n",
      "Recursive error: Failed to find missing links for infector 'u/Kylewrennnn'\n",
      "Getting missing infection logs for user 'u/TheWolfbaneBlooms' from infectee 'u/PointlessPoem'\n",
      "Getting missing infection logs for user 'u/MrSchneider6969' from infectee 'u/TheWolfbaneBlooms'\n",
      "Getting missing infection logs for user 'u/Magiralboio' from infectee 'u/MrSchneider6969'\n",
      "Getting missing infection logs for user 'u/CheeseGod05' from infectee 'u/Magiralboio'\n",
      "Getting missing infection logs for user 'u/prestidigitator97' from infectee 'u/Magiralboio'\n",
      "Getting missing infection logs for user 'u/DetroitConnor56' from infectee 'u/prestidigitator97'\n",
      "Getting missing infection logs for user 'u/freshmaster69' from infectee 'u/prestidigitator97'\n",
      "Getting missing infection logs for user 'u/Hiro_Grecu' from infectee 'u/freshmaster69'\n",
      "Getting missing infection logs for user 'u/wealmosthaditall' from infectee 'u/Hiro_Grecu'\n",
      "Getting missing infection logs for user 'u/jasiurok195' from infectee 'u/wealmosthaditall'\n",
      "Recursive error: Failed to find missing links for infector 'u/jasiurok195'\n",
      "Getting missing infection logs for user 'u/CasualMetalHead' from infectee 'u/Hiro_Grecu'\n",
      "Getting missing infection logs for user 'u/toby_ornautobey' from infectee 'u/CasualMetalHead'\n",
      "Getting missing infection logs for user 'u/thedarkduck10' from infectee 'u/toby_ornautobey'\n",
      "Getting missing infection logs for user 'u/Rs4708' from infectee 'u/thedarkduck10'\n",
      "Getting missing infection logs for user 'u/MightyPhoenix7' from infectee 'u/Rs4708'\n",
      "Getting missing infection logs for user 'u/Greatnite' from infectee 'u/thedarkduck10'\n",
      "Getting missing infection logs for user 'u/talha2765' from infectee 'u/Greatnite'\n",
      "Getting missing infection logs for user 'u/hachi2JZ' from infectee 'u/Greatnite'\n",
      "Getting missing infection logs for user 'u/Farhan_05' from infectee 'u/Greatnite'\n",
      "Getting missing infection logs for user 'u/coolback93' from infectee 'u/Greatnite'\n",
      "Getting missing infection logs for user 'u/kkf6' from infectee 'u/coolback93'\n",
      "Getting missing infection logs for user 'u/SippycupStudios' from infectee 'u/toby_ornautobey'\n",
      "Getting missing infection logs for user 'u/Ihavebadreddit' from infectee 'u/SippycupStudios'\n"
     ]
    },
    {
     "name": "stdout",
     "output_type": "stream",
     "text": [
      "Getting missing infection logs for user 'u/ZoqfotWasTaken' from infectee 'u/SippycupStudios'\n",
      "Getting missing infection logs for user 'u/MattioC' from infectee 'u/toby_ornautobey'\n",
      "Getting missing infection logs for user 'u/Alex_Cormier' from infectee 'u/MattioC'\n",
      "Getting missing infection logs for user 'u/dewottoshawott' from infectee 'u/CasualMetalHead'\n",
      "Getting missing infection logs for user 'u/B10B3RT0' from infectee 'u/CasualMetalHead'\n",
      "Getting missing infection logs for user 'u/TerraGamer9384' from infectee 'u/freshmaster69'\n",
      "Getting missing infection logs for user 'u/DaRealXalien' from infectee 'u/TerraGamer9384'\n",
      "Getting missing infection logs for user 'u/Wezard_the_MemeLord' from infectee 'u/TerraGamer9384'\n",
      "Getting missing infection logs for user 'u/ThatAsianBoi21' from infectee 'u/Wezard_the_MemeLord'\n",
      "Getting missing infection logs for user 'u/SHREKYUMTUM69' from infectee 'u/ThatAsianBoi21'\n",
      "Getting missing infection logs for user 'u/Jax_Destro' from infectee 'u/SHREKYUMTUM69'\n",
      "Getting missing infection logs for user 'u/fecking_fecker' from infectee 'u/Jax_Destro'\n",
      "Getting missing infection logs for user 'u/Vcev-' from infectee 'u/Jax_Destro'\n",
      "Getting missing infection logs for user 'u/Pengu1n__' from infectee 'u/Vcev-'\n",
      "Getting missing infection logs for user 'u/Lord0Shaxx' from infectee 'u/Pengu1n__'\n",
      "Getting missing infection logs for user 'u/DonutSpy25' from infectee 'u/Lord0Shaxx'\n",
      "Getting missing infection logs for user 'u/XxAdyxX98' from infectee 'u/Jax_Destro'\n",
      "Getting missing infection logs for user 'u/BlueTexasOverParadis' from infectee 'u/XxAdyxX98'\n",
      "Getting missing infection logs for user 'u/skiddaddlerskoops' from infectee 'u/ThatAsianBoi21'\n",
      "Getting missing infection logs for user 'u/borisbop69' from infectee 'u/prestidigitator97'\n",
      "Getting missing infection logs for user 'u/the-only-avocado' from infectee 'u/Magiralboio'\n",
      "Getting missing infection logs for user 'u/Faed1ng' from infectee 'u/the-only-avocado'\n",
      "Getting missing infection logs for user 'u/CostArtist' from infectee 'u/Jacksonia_'\n",
      "Getting missing infection logs for user 'u/casualgamer71' from infectee 'u/CostArtist'\n",
      "Getting missing infection logs for user 'u/Novocaine0' from infectee 'u/casualgamer71'\n",
      "Getting missing infection logs for user 'u/DerpMusix' from infectee 'u/Novocaine0'\n",
      "Getting missing infection logs for user 'u/TrevCoe' from infectee 'u/DerpMusix'\n",
      "Recursive error: Failed to find missing links for infector 'u/TrevCoe'\n",
      "Getting missing infection logs for user 'u/AffeDaBoss' from infectee 'u/casualgamer71'\n",
      "Getting missing infection logs for user 'u/onyxonix' from infectee 'u/casualgamer71'\n",
      "Getting missing infection logs for user 'u/an_ordinary_platypus' from infectee 'u/onyxonix'\n",
      "Getting missing infection logs for user 'u/BasherGaming278' from infectee 'u/onyxonix'\n",
      "Getting missing infection logs for user 'u/Ace-Arrtix' from infectee 'u/BasherGaming278'\n",
      "Recursive error: Failed to find missing links for infector 'u/BasherGaming278'\n",
      "Getting missing infection logs for user 'u/adrichardson763' from infectee 'u/onyxonix'\n",
      "Getting missing infection logs for user 'u/Oscar_jacobsen1234' from infectee 'u/casualgamer71'\n",
      "Getting missing infection logs for user 'u/Korrupt69' from infectee 'u/Oscar_jacobsen1234'\n",
      "Getting missing infection logs for user 'u/doodlemoodle221' from infectee 'u/AJ_1203'\n",
      "Getting missing infection logs for user 'u/Ozimn' from infectee 'u/doodlemoodle221'\n",
      "Getting missing infection logs for user 'u/Banana_On_Pizza' from infectee 'u/Ozimn'\n",
      "Getting missing infection logs for user 'u/Iescaunare' from infectee 'u/Banana_On_Pizza'\n",
      "Getting missing infection logs for user 'u/KlutzyKiwis' from infectee 'u/Iescaunare'\n",
      "Getting missing infection logs for user 'u/IAmC0rrupt3d' from infectee 'u/Iescaunare'\n",
      "Getting missing infection logs for user 'u/MicrowaveBurrito2568' from infectee 'u/Iescaunare'\n",
      "Getting missing infection logs for user 'u/macobus' from infectee 'u/MicrowaveBurrito2568'\n",
      "Getting missing infection logs for user 'u/Tangomshaw' from infectee 'u/macobus'\n",
      "Getting missing infection logs for user 'u/j_grow47' from infectee 'u/Banana_On_Pizza'\n",
      "Getting missing infection logs for user 'u/Lors2001' from infectee 'u/Banana_On_Pizza'\n",
      "Getting missing infection logs for user 'u/SuperMegaPepega' from infectee 'u/Lors2001'\n",
      "Getting missing infection logs for user 'u/Nuulcoolpro' from infectee 'u/SuperMegaPepega'\n",
      "Getting missing infection logs for user 'u/La-Potate' from infectee 'u/Banana_On_Pizza'\n",
      "Getting missing infection logs for user 'u/Joe_says_no' from infectee 'u/Banana_On_Pizza'\n",
      "Getting missing infection logs for user 'u/Tzj2' from infectee 'u/Joe_says_no'\n",
      "Getting missing infection logs for user 'u/TokyoNekos' from infectee 'u/Joe_says_no'\n",
      "Getting missing infection logs for user 'u/LeEpicKatana' from infectee 'u/TokyoNekos'\n",
      "Getting missing infection logs for user 'u/Spirite177' from infectee 'u/LeEpicKatana'\n",
      "Getting missing infection logs for user 'u/NewtonLeaderPrice' from infectee 'u/Spirite177'\n",
      "Getting missing infection logs for user 'u/suprememan20019' from infectee 'u/Ozimn'\n",
      "Getting missing infection logs for user 'u/Diggs4MVP' from infectee 'u/suprememan20019'\n",
      "Getting missing infection logs for user 'u/Rick-Astley420' from infectee 'u/Diggs4MVP'\n",
      "Recursive error: Failed to find missing links for infector 'u/Rick-Astley420'\n",
      "Getting missing infection logs for user 'u/Shousev' from infectee 'u/doodlemoodle221'\n",
      "Getting missing infection logs for user 'u/jacterp' from infectee 'u/Shousev'\n",
      "Getting missing infection logs for user 'u/dirtmound' from infectee 'u/cameroncaml'\n",
      "Getting missing infection logs for user 'u/Eatdatyeet445' from infectee 'u/dirtmound'\n",
      "Getting missing infection logs for user 'u/Berthole' from infectee 'u/dirtmound'\n",
      "Getting missing infection logs for user 'u/greatking6009' from infectee 'u/Berthole'\n",
      "Getting missing infection logs for user 'u/iamnotkryp9' from infectee 'u/greatking6009'\n",
      "Getting missing infection logs for user 'u/beholder44' from infectee 'u/greatking6009'\n",
      "Getting missing infection logs for user 'u/Alvaro_s' from infectee 'u/greatking6009'\n",
      "Getting missing infection logs for user 'u/Pokket420' from infectee 'u/Alvaro_s'\n",
      "Getting missing infection logs for user 'u/long-pee-pee' from infectee 'u/Berthole'\n",
      "Getting missing infection logs for user 'u/EnderTeimant' from infectee 'u/hmmmmmmmmmmmms'\n",
      "Getting missing infection logs for user 'u/Releasio' from infectee 'u/EnderTeimant'\n",
      "Getting missing infection logs for user 'u/help_me_please_help' from infectee 'u/Releasio'\n",
      "Getting missing infection logs for user 'u/viableknight07' from infectee 'u/help_me_please_help'\n",
      "Getting missing infection logs for user 'u/Y3_ti' from infectee 'u/help_me_please_help'\n",
      "Getting missing infection logs for user 'u/LoganBryantAlex' from infectee 'u/EnderTeimant'\n",
      "Getting missing infection logs for user 'u/DarthReece' from infectee 'u/pshawny'\n",
      "Getting missing infection logs for user 'u/UnmetPlayer2611' from infectee 'u/DarthReece'\n",
      "Getting missing infection logs for user 'u/pawnime' from infectee 'u/pshawny'\n",
      "Getting missing infection logs for user 'u/itsslothcraft' from infectee 'u/Sungami00'\n",
      "Getting missing infection logs for user 'u/chaotemagick' from infectee 'u/Hungry-Carrot13'\n",
      "Getting missing infection logs for user 'u/echofarose' from infectee 'u/chaotemagick'\n",
      "Getting missing infection logs for user 'u/N-zar' from infectee 'u/echofarose'\n",
      "Getting missing infection logs for user 'u/Froztvyte' from infectee 'u/N-zar'\n",
      "Getting missing infection logs for user 'u/Something_Syck' from infectee 'u/N-zar'\n",
      "Getting missing infection logs for user 'u/respectful-tiktoker' from infectee 'u/Hungry-Carrot13'\n",
      "Getting missing infection logs for user 'u/vgodmeme' from infectee 'u/respectful-tiktoker'\n",
      "Getting missing infection logs for user 'u/zachcygan' from infectee 'u/vgodmeme'\n",
      "Recursive error: Failed to find missing links for infector 'u/zachcygan'\n"
     ]
    },
    {
     "name": "stderr",
     "output_type": "stream",
     "text": [
      "Retrying due to ReadTimeout(ReadTimeoutError(\"HTTPSConnectionPool(host='oauth.reddit.com', port=443): Read timed out. (read timeout=16.0)\",),) status: GET https://oauth.reddit.com/comments/fokz4j/\n"
     ]
    },
    {
     "name": "stdout",
     "output_type": "stream",
     "text": [
      "Recursive error: Failed to get comments for user 'u/respectful-tiktoker': received 200 HTTP response\n",
      "Getting missing infection logs for user 'u/Allsaints112' from infectee 'u/magic-soup'\n",
      "Getting missing infection logs for user 'u/JaSamSamzy' from infectee 'u/magic-soup'\n",
      "Getting missing infection logs for user 'u/danny_devito96' from infectee 'u/magic-soup'\n",
      "Getting missing infection logs for user 'u/RokeaVX' from infectee 'u/danny_devito96'\n",
      "Getting missing infection logs for user 'u/UnkNewN05' from infectee 'u/RokeaVX'\n"
     ]
    },
    {
     "name": "stderr",
     "output_type": "stream",
     "text": [
      "Retrying due to ReadTimeout(ReadTimeoutError(\"HTTPSConnectionPool(host='oauth.reddit.com', port=443): Read timed out. (read timeout=16.0)\",),) status: GET https://oauth.reddit.com/comments/ckyj3b/\n"
     ]
    },
    {
     "name": "stdout",
     "output_type": "stream",
     "text": [
      "Getting missing infection logs for user 'u/MomoBroYT' from infectee 'u/magic-soup'\n",
      "Getting missing infection logs for user 'u/Mohuluoji' from infectee 'u/magic-soup'\n",
      "Getting missing infection logs for user 'u/macbathie' from infectee 'u/Mohuluoji'\n",
      "Recursive error: Failed to find missing links for infector 'u/macbathie'\n",
      "Getting missing infection logs for user 'u/PenguinPride87' from infectee 'u/PredatorOwl'\n",
      "Getting missing infection logs for user 'u/SilentHunter821' from infectee 'u/PenguinPride87'\n",
      "Getting missing infection logs for user 'u/ndelte7' from infectee 'u/PenguinPride87'\n",
      "Getting missing infection logs for user 'u/Schodog' from infectee 'u/ndelte7'\n",
      "Getting missing infection logs for user 'u/potato430' from infectee 'u/PenguinPride87'\n",
      "Getting missing infection logs for user 'u/Ra-Ra-Rasmussen' from infectee 'u/potato430'\n",
      "Getting missing infection logs for user 'u/theitdude1987' from infectee 'u/potato430'\n",
      "Getting missing infection logs for user 'u/gallanto' from infectee 'u/theitdude1987'\n",
      "Getting missing infection logs for user 'u/HuskerMotion' from infectee 'u/gallanto'\n",
      "Getting missing infection logs for user 'u/dr-jaykay' from infectee 'u/theitdude1987'\n",
      "Getting missing infection logs for user 'u/ItsZlayers' from infectee 'u/dr-jaykay'\n",
      "Getting missing infection logs for user 'u/Trixie227' from infectee 'u/dr-jaykay'\n",
      "Getting missing infection logs for user 'u/fatdab4jesus' from infectee 'u/potato430'\n",
      "Getting missing infection logs for user 'u/SaleenS9' from infectee 'u/fatdab4jesus'\n",
      "Getting missing infection logs for user 'u/DH5355' from infectee 'u/SaleenS9'\n",
      "Getting missing infection logs for user 'u/DevilHoboCousin' from infectee 'u/DH5355'\n",
      "Getting missing infection logs for user 'u/DeliriousNutsack420' from infectee 'u/DevilHoboCousin'\n",
      "Getting missing infection logs for user 'u/_Vrimsy_' from infectee 'u/DevilHoboCousin'\n",
      "Getting missing infection logs for user 'u/ralfantino' from infectee 'u/SaleenS9'\n",
      "Getting missing infection logs for user 'u/JustMobsReddit' from infectee 'u/ralfantino'\n",
      "Getting missing infection logs for user 'u/UpsidedownCatfishy' from infectee 'u/JustMobsReddit'\n",
      "Getting missing infection logs for user 'u/Chadaphract' from infectee 'u/JustMobsReddit'\n",
      "Getting missing infection logs for user 'u/maybes8n' from infectee 'u/Chadaphract'\n",
      "Getting missing infection logs for user 'u/GamingWithKJ_YT' from infectee 'u/maybes8n'\n",
      "Getting missing infection logs for user 'u/NiceFelloMello' from infectee 'u/maybes8n'\n",
      "Getting missing infection logs for user 'u/Brickrat' from infectee 'u/NiceFelloMello'\n",
      "Recursive error: Failed to find missing links for infector 'u/Brickrat'\n",
      "Getting missing infection logs for user 'u/TomLAG78' from infectee 'u/NiceFelloMello'\n",
      "Getting missing infection logs for user 'u/misterhatman420' from infectee 'u/TomLAG78'\n",
      "Getting missing infection logs for user 'u/petroladdict' from infectee 'u/misterhatman420'\n",
      "Recursive error: Failed to find missing links for infector 'u/misterhatman420'\n",
      "Getting missing infection logs for user 'u/catzeatall' from infectee 'u/TomLAG78'\n",
      "Getting missing infection logs for user 'u/yawaworhttonfoo' from infectee 'u/catzeatall'\n",
      "Recursive error: Failed to find missing links for infector 'u/yawaworhttonfoo'\n",
      "Getting missing infection logs for user 'u/PixelBy_Pixel' from infectee 'u/catzeatall'\n",
      "Getting missing infection logs for user 'u/HypnoMonkey109' from infectee 'u/PixelBy_Pixel'\n",
      "Recursive error: Failed to find missing links for infector 'u/HypnoMonkey109'\n",
      "Getting missing infection logs for user 'u/KSI_Oaties' from infectee 'u/PixelBy_Pixel'\n",
      "Getting missing infection logs for user 'u/SalvadorsAnteater' from infectee 'u/catzeatall'\n",
      "Getting missing infection logs for user 'u/Forrest_69' from infectee 'u/SalvadorsAnteater'\n",
      "Getting missing infection logs for user 'u/high-im-stupid' from infectee 'u/TomLAG78'\n",
      "Getting missing infection logs for user 'u/chipsontbijt' from infectee 'u/high-im-stupid'\n",
      "Getting missing infection logs for user 'u/ShadowOfRegret14' from infectee 'u/high-im-stupid'\n",
      "Recursive error: Failed to find missing links for infector 'u/ShadowOfRegret14'\n",
      "Getting missing infection logs for user 'u/mydogsnameistheo' from infectee 'u/TomLAG78'\n",
      "Getting missing infection logs for user 'u/angelattack1' from infectee 'u/mydogsnameistheo'\n",
      "Getting missing infection logs for user 'u/A_Modern_Publicus' from infectee 'u/mydogsnameistheo'\n",
      "Getting missing infection logs for user 'u/pulcesplosiva' from infectee 'u/NiceFelloMello'\n",
      "Getting missing infection logs for user 'u/masterPNDA1234' from infectee 'u/pulcesplosiva'\n",
      "Getting missing infection logs for user 'u/Romalj420' from infectee 'u/masterPNDA1234'\n",
      "Getting missing infection logs for user 'u/qetlteq' from infectee 'u/Romalj420'\n",
      "Recursive error: Failed to find missing links for infector 'u/qetlteq'\n",
      "Getting missing infection logs for user 'u/shoe_size_scissor' from infectee 'u/Romalj420'\n",
      "Getting missing infection logs for user 'u/Abnormally_Strange' from infectee 'u/shoe_size_scissor'\n",
      "Getting missing infection logs for user 'u/WeWereYoungOnce' from infectee 'u/Romalj420'\n",
      "Getting missing infection logs for user 'u/8-Bit-Oddish' from infectee 'u/WeWereYoungOnce'\n",
      "Recursive error: Failed to find missing links for infector 'u/Romalj420'\n",
      "Getting missing infection logs for user 'u/dr_sussss' from infectee 'u/masterPNDA1234'\n",
      "Getting missing infection logs for user 'u/ragewithoutage' from infectee 'u/dr_sussss'\n",
      "Getting missing infection logs for user 'u/KapooshAwoosh' from infectee 'u/dr_sussss'\n",
      "Getting missing infection logs for user 'u/GarboMuncher' from infectee 'u/KapooshAwoosh'\n",
      "Getting missing infection logs for user 'u/Fake-DAIH' from infectee 'u/GarboMuncher'\n",
      "Getting missing infection logs for user 'u/sexysexysexyboi' from infectee 'u/Fake-DAIH'\n",
      "Getting missing infection logs for user 'u/RogerBob1' from infectee 'u/sexysexysexyboi'\n",
      "Getting missing infection logs for user 'u/Terraintaker' from infectee 'u/RogerBob1'\n",
      "Getting missing infection logs for user 'u/timurrello' from infectee 'u/Terraintaker'\n",
      "Getting missing infection logs for user 'u/productivecitizen' from infectee 'u/timurrello'\n",
      "Getting missing infection logs for user 'u/ImBusyGoAway' from infectee 'u/productivecitizen'\n",
      "Recursive error: Failed to find missing links for infector 'u/ImBusyGoAway'\n",
      "Getting missing infection logs for user 'u/theonlymexicanman' from infectee 'u/productivecitizen'\n",
      "Getting missing infection logs for user 'u/Mastroid' from infectee 'u/theonlymexicanman'\n",
      "Getting missing infection logs for user 'u/TheSalemWitch22' from infectee 'u/theonlymexicanman'\n",
      "Getting missing infection logs for user 'u/ikulcsar' from infectee 'u/productivecitizen'\n",
      "Getting missing infection logs for user 'u/Shiri-' from infectee 'u/timurrello'\n",
      "Getting missing infection logs for user 'u/HeartOfGold02' from infectee 'u/Shiri-'\n",
      "Getting missing infection logs for user 'u/bibliophilickitty' from infectee 'u/HeartOfGold02'\n",
      "Getting missing infection logs for user 'u/TheEgyptDog' from infectee 'u/HeartOfGold02'\n",
      "Getting missing infection logs for user 'u/kiIIcharge' from infectee 'u/TheEgyptDog'\n",
      "Getting missing infection logs for user 'u/Starflight07' from infectee 'u/kiIIcharge'\n",
      "Getting missing infection logs for user 'u/PrimeMemeister' from infectee 'u/kiIIcharge'\n",
      "Getting missing infection logs for user 'u/TheDancing4Skin' from infectee 'u/kiIIcharge'\n",
      "Getting missing infection logs for user 'u/gucciair' from infectee 'u/HeartOfGold02'\n",
      "Getting missing infection logs for user 'u/Trainskid15' from infectee 'u/gucciair'\n",
      "Recursive error: Failed to find missing links for infector 'u/Trainskid15'\n",
      "Getting missing infection logs for user 'u/SlideWhistler' from infectee 'u/gucciair'\n",
      "Getting missing infection logs for user 'u/just-a-simple-memer' from infectee 'u/gucciair'\n",
      "Getting missing infection logs for user 'u/ELEXCEER' from infectee 'u/HeartOfGold02'\n",
      "Getting missing infection logs for user 'u/EggsForGalaxy' from infectee 'u/ELEXCEER'\n",
      "Getting missing infection logs for user 'u/SilentCheater' from infectee 'u/ELEXCEER'\n",
      "Getting missing infection logs for user 'u/JustHereToPostandCom' from infectee 'u/SilentCheater'\n",
      "Getting missing infection logs for user 'u/MrProfessionalRetard' from infectee 'u/JustHereToPostandCom'\n"
     ]
    },
    {
     "name": "stdout",
     "output_type": "stream",
     "text": [
      "Getting missing infection logs for user 'u/milquetulips' from infectee 'u/MrProfessionalRetard'\n",
      "Getting missing infection logs for user 'u/shoey117' from infectee 'u/SilentCheater'\n",
      "Getting missing infection logs for user 'u/PiterLauchy' from infectee 'u/shoey117'\n",
      "Getting missing infection logs for user 'u/UnlawfulCrouton' from infectee 'u/ELEXCEER'\n",
      "Getting missing infection logs for user 'u/flyyoufools97' from infectee 'u/UnlawfulCrouton'\n",
      "Getting missing infection logs for user 'u/Largemanjapan' from infectee 'u/flyyoufools97'\n",
      "Getting missing infection logs for user 'u/Imafailure33' from infectee 'u/Largemanjapan'\n",
      "Getting missing infection logs for user 'u/trevermartin' from infectee 'u/UnlawfulCrouton'\n",
      "Getting missing infection logs for user 'u/BillyWhizz09' from infectee 'u/ELEXCEER'\n",
      "Getting missing infection logs for user 'u/_Levitated_Shield_' from infectee 'u/ELEXCEER'\n",
      "Getting missing infection logs for user 'u/WhatTheCuckooSaw' from infectee 'u/_Levitated_Shield_'\n",
      "Getting missing infection logs for user 'u/_Ga1ahad' from infectee 'u/ELEXCEER'\n",
      "Getting missing infection logs for user 'u/nome_j' from infectee 'u/Terraintaker'\n",
      "Getting missing infection logs for user 'u/-_-bill_cipher-_-' from infectee 'u/Terraintaker'\n",
      "Getting missing infection logs for user 'u/A_Spelling_Mitsake' from infectee 'u/Terraintaker'\n",
      "Getting missing infection logs for user 'u/2ndMouseGetsCheese' from infectee 'u/RogerBob1'\n",
      "Getting missing infection logs for user 'u/Sartyhak_YT' from infectee 'u/RogerBob1'\n",
      "Getting missing infection logs for user 'u/Depressed-Baguette' from infectee 'u/Fake-DAIH'\n",
      "Getting missing infection logs for user 'u/247Pizzaboi' from infectee 'u/Depressed-Baguette'\n",
      "Getting missing infection logs for user 'u/The_Latvian_Machine' from infectee 'u/Fake-DAIH'\n",
      "Getting missing infection logs for user 'u/mvp_lon' from infectee 'u/The_Latvian_Machine'\n",
      "Getting missing infection logs for user 'u/MrSatan00' from infectee 'u/Fake-DAIH'\n",
      "Getting missing infection logs for user 'u/philmorediesmuch' from infectee 'u/MrSatan00'\n",
      "Recursive error: Failed to find missing links for infector 'u/dr_sussss'\n",
      "Getting missing infection logs for user 'u/gameking7000' from infectee 'u/pulcesplosiva'\n",
      "Getting missing infection logs for user 'u/defkacito' from infectee 'u/gameking7000'\n",
      "Getting missing infection logs for user 'u/21ASus12' from infectee 'u/defkacito'\n",
      "Getting missing infection logs for user 'u/Bootaties' from infectee 'u/21ASus12'\n",
      "Getting missing infection logs for user 'u/WhiteWolf_34' from infectee 'u/JustMobsReddit'\n",
      "Getting missing infection logs for user 'u/lick_my_____' from infectee 'u/JustMobsReddit'\n",
      "Getting missing infection logs for user 'u/_Smpls_' from infectee 'u/lick_my_____'\n",
      "Getting missing infection logs for user 'u/GMOneyGucci' from infectee 'u/lick_my_____'\n",
      "Getting missing infection logs for user 'u/NoiceMinecraft69420' from infectee 'u/JustMobsReddit'\n"
     ]
    },
    {
     "name": "stderr",
     "output_type": "stream",
     "text": [
      "Retrying due to 504 status: GET https://oauth.reddit.com/api/info/\n"
     ]
    },
    {
     "name": "stdout",
     "output_type": "stream",
     "text": [
      "Getting missing infection logs for user 'u/joemamacare' from infectee 'u/JustMobsReddit'\n",
      "Getting missing infection logs for user 'u/LanceNovis' from infectee 'u/joemamacare'\n",
      "Getting missing infection logs for user 'u/L1norm' from infectee 'u/JustMobsReddit'\n",
      "Getting missing infection logs for user 'u/DanteP05' from infectee 'u/L1norm'\n",
      "Getting missing infection logs for user 'u/Thastertyn' from infectee 'u/DanteP05'\n",
      "Getting missing infection logs for user 'u/DummyOfTheYear1' from infectee 'u/L1norm'\n",
      "Getting missing infection logs for user 'u/jonraddd' from infectee 'u/DummyOfTheYear1'\n",
      "Recursive error: Failed to find missing links for infector 'u/jonraddd'\n",
      "Getting missing infection logs for user 'u/Jimg911' from infectee 'u/DummyOfTheYear1'\n",
      "Getting missing infection logs for user 'u/Dzigi14' from infectee 'u/Jimg911'\n",
      "Getting missing infection logs for user 'u/Yahdee' from infectee 'u/DummyOfTheYear1'\n",
      "Getting missing infection logs for user 'u/giant_cock_boy' from infectee 'u/Yahdee'\n",
      "Recursive error: Failed to find missing links for infector 'u/Yahdee'\n",
      "Getting missing infection logs for user 'u/AgentLlama47' from infectee 'u/JustMobsReddit'\n",
      "Getting missing infection logs for user 'u/TrueTriEx' from infectee 'u/AgentLlama47'\n",
      "Getting missing infection logs for user 'u/Frsh_Mms' from infectee 'u/AgentLlama47'\n",
      "Getting missing infection logs for user 'u/Fybonsize' from infectee 'u/Frsh_Mms'\n",
      "Getting missing infection logs for user 'u/Rainbowslinkyy' from infectee 'u/Fybonsize'\n",
      "Getting missing infection logs for user 'u/larsweber' from infectee 'u/Rainbowslinkyy'\n",
      "Getting missing infection logs for user 'u/RhawenKuro' from infectee 'u/Rainbowslinkyy'\n",
      "Getting missing infection logs for user 'u/gagger07' from infectee 'u/Rainbowslinkyy'\n",
      "Getting missing infection logs for user 'u/weeboo21678' from infectee 'u/gagger07'\n",
      "Getting missing infection logs for user 'u/Croder_' from infectee 'u/weeboo21678'\n",
      "Getting missing infection logs for user 'u/Homeless_Backyard' from infectee 'u/weeboo21678'\n",
      "Getting missing infection logs for user 'u/skar1983' from infectee 'u/Rainbowslinkyy'\n"
     ]
    },
    {
     "name": "stderr",
     "output_type": "stream",
     "text": [
      "Retrying due to 504 status: GET https://oauth.reddit.com/comments/cd057d/\n",
      "Retrying due to 504 status: GET https://oauth.reddit.com/api/info/\n"
     ]
    },
    {
     "name": "stdout",
     "output_type": "stream",
     "text": [
      "Getting missing infection logs for user 'u/tha1on3thing' from infectee 'u/Fybonsize'\n",
      "Getting missing infection logs for user 'u/JaydenTheMemeThief' from infectee 'u/Fybonsize'\n"
     ]
    },
    {
     "name": "stderr",
     "output_type": "stream",
     "text": [
      "Retrying due to 504 status: GET https://oauth.reddit.com/api/info/\n"
     ]
    },
    {
     "name": "stdout",
     "output_type": "stream",
     "text": [
      "Getting missing infection logs for user 'u/de_daredeviil' from infectee 'u/ralfantino'\n",
      "Getting missing infection logs for user 'u/ElChapoJr_XV' from infectee 'u/de_daredeviil'\n",
      "Getting missing infection logs for user 'u/Level8WamenRespector' from infectee 'u/de_daredeviil'\n",
      "Getting missing infection logs for user 'u/StankFangerz' from infectee 'u/Level8WamenRespector'\n",
      "Getting missing infection logs for user 'u/DaYeet1' from infectee 'u/StankFangerz'\n",
      "Recursive error: Failed to find missing links for infector 'u/DaYeet1'\n",
      "Getting missing infection logs for user 'u/TriciaLange' from infectee 'u/StankFangerz'\n",
      "Recursive error: Failed to find missing links for infector 'u/Level8WamenRespector'\n"
     ]
    },
    {
     "name": "stderr",
     "output_type": "stream",
     "text": [
      "Retrying due to 504 status: GET https://oauth.reddit.com/comments/eigsbv/\n"
     ]
    },
    {
     "name": "stdout",
     "output_type": "stream",
     "text": [
      "Getting missing infection logs for user 'u/FrenchJackhammer' from infectee 'u/de_daredeviil'\n"
     ]
    },
    {
     "name": "stderr",
     "output_type": "stream",
     "text": [
      "Retrying due to 504 status: GET https://oauth.reddit.com/comments/ee45rr/\n"
     ]
    },
    {
     "name": "stdout",
     "output_type": "stream",
     "text": [
      "Getting missing infection logs for user 'u/Lobster_dong_in_fish' from infectee 'u/ralfantino'\n",
      "Getting missing infection logs for user 'u/YouPlay4Me' from infectee 'u/ralfantino'\n",
      "Getting missing infection logs for user 'u/Lizzy8ug' from infectee 'u/YouPlay4Me'\n",
      "Getting missing infection logs for user 'u/1mememaster69' from infectee 'u/Lizzy8ug'\n",
      "Getting missing infection logs for user 'u/dark0602' from infectee 'u/YouPlay4Me'\n"
     ]
    },
    {
     "name": "stderr",
     "output_type": "stream",
     "text": [
      "Retrying due to 504 status: GET https://oauth.reddit.com/api/info/\n"
     ]
    },
    {
     "name": "stdout",
     "output_type": "stream",
     "text": [
      "Getting missing infection logs for user 'u/ThePenGod' from infectee 'u/ralfantino'\n",
      "Getting missing infection logs for user 'u/AnkitSaha_013' from infectee 'u/ralfantino'\n",
      "Getting missing infection logs for user 'u/DJTaco8' from infectee 'u/fatdab4jesus'\n",
      "Getting missing infection logs for user 'u/Sobble816' from infectee 'u/DJTaco8'\n",
      "Getting missing infection logs for user 'u/caesarstabbed' from infectee 'u/potato430'\n"
     ]
    },
    {
     "name": "stderr",
     "output_type": "stream",
     "text": [
      "Retrying due to 504 status: GET https://oauth.reddit.com/api/info/\n"
     ]
    },
    {
     "name": "stdout",
     "output_type": "stream",
     "text": [
      "Getting missing infection logs for user 'u/kajri' from infectee 'u/caesarstabbed'\n"
     ]
    },
    {
     "name": "stderr",
     "output_type": "stream",
     "text": [
      "Retrying due to 504 status: GET https://oauth.reddit.com/comments/em0f9s/\n"
     ]
    },
    {
     "name": "stdout",
     "output_type": "stream",
     "text": [
      "Getting missing infection logs for user 'u/Lilposeidion' from infectee 'u/potato430'\n",
      "Getting missing infection logs for user 'u/UniversalXForce' from infectee 'u/Lilposeidion'\n",
      "Getting missing infection logs for user 'u/Antony734' from infectee 'u/Lilposeidion'\n",
      "Getting missing infection logs for user 'u/RicketyHalo' from infectee 'u/Antony734'\n",
      "Getting missing infection logs for user 'u/EKrso' from infectee 'u/RicketyHalo'\n",
      "Getting missing infection logs for user 'u/Scorpion5437' from infectee 'u/EKrso'\n",
      "Getting missing infection logs for user 'u/JevilChaos69' from infectee 'u/Scorpion5437'\n"
     ]
    },
    {
     "name": "stderr",
     "output_type": "stream",
     "text": [
      "Retrying due to 504 status: GET https://oauth.reddit.com/comments/ev5kvr/\n",
      "Retrying due to 504 status: GET https://oauth.reddit.com/comments/e5niam/\n",
      "Retrying due to 504 status: GET https://oauth.reddit.com/api/info/\n",
      "Retrying due to 504 status: GET https://oauth.reddit.com/api/info/\n"
     ]
    },
    {
     "name": "stdout",
     "output_type": "stream",
     "text": [
      "Getting missing infection logs for user 'u/reddit_android_-' from infectee 'u/potato430'\n",
      "Getting missing infection logs for user 'u/panda_manticore13' from infectee 'u/reddit_android_-'\n",
      "Getting missing infection logs for user 'u/Masty1598755' from infectee 'u/panda_manticore13'\n",
      "Getting missing infection logs for user 'u/_SomeCzechGirl_' from infectee 'u/Masty1598755'\n",
      "Getting missing infection logs for user 'u/ImTheSparkk' from infectee 'u/_SomeCzechGirl_'\n"
     ]
    },
    {
     "name": "stderr",
     "output_type": "stream",
     "text": [
      "Retrying due to 504 status: GET https://oauth.reddit.com/comments/eqtr8n/\n"
     ]
    },
    {
     "name": "stdout",
     "output_type": "stream",
     "text": [
      "Getting missing infection logs for user 'u/Jonasm501' from infectee 'u/_SomeCzechGirl_'\n"
     ]
    },
    {
     "name": "stderr",
     "output_type": "stream",
     "text": [
      "Retrying due to 504 status: GET https://oauth.reddit.com/api/info/\n"
     ]
    },
    {
     "name": "stdout",
     "output_type": "stream",
     "text": [
      "Getting missing infection logs for user 'u/c00lingpine' from infectee 'u/_SomeCzechGirl_'\n",
      "Getting missing infection logs for user 'u/the_gay_granola_bar' from infectee 'u/_SomeCzechGirl_'\n",
      "Getting missing infection logs for user 'u/TyTv' from infectee 'u/_SomeCzechGirl_'\n",
      "Getting missing infection logs for user 'u/ItzThane' from infectee 'u/TyTv'\n",
      "Getting missing infection logs for user 'u/pershonAA' from infectee 'u/ItzThane'\n",
      "Recursive error: Failed to find missing links for infector 'u/pershonAA'\n",
      "Getting missing infection logs for user 'u/HelloGayBoi' from infectee 'u/ItzThane'\n",
      "Getting missing infection logs for user 'u/bruno123xd' from infectee 'u/HelloGayBoi'\n"
     ]
    },
    {
     "name": "stderr",
     "output_type": "stream",
     "text": [
      "Retrying due to 504 status: GET https://oauth.reddit.com/api/info/\n"
     ]
    },
    {
     "name": "stdout",
     "output_type": "stream",
     "text": [
      "Getting missing infection logs for user 'u/Caro_Potter' from infectee 'u/bruno123xd'\n",
      "Getting missing infection logs for user 'u/supermimipvp' from infectee 'u/TyTv'\n",
      "Getting missing infection logs for user 'u/WoodenDisk1' from infectee 'u/supermimipvp'\n",
      "Getting missing infection logs for user 'u/allyn-_-gracious' from infectee 'u/supermimipvp'\n",
      "Getting missing infection logs for user 'u/KabbageKing' from infectee 'u/supermimipvp'\n",
      "Getting missing infection logs for user 'u/nintenbroyt' from infectee 'u/KabbageKing'\n",
      "Getting missing infection logs for user 'u/TheTitanium-champs' from infectee 'u/TyTv'\n",
      "Getting missing infection logs for user 'u/ya_boi_meowth' from infectee 'u/TyTv'\n",
      "Getting missing infection logs for user 'u/blackbeltgamer7' from infectee 'u/TyTv'\n",
      "Getting missing infection logs for user 'u/menchcata' from infectee 'u/blackbeltgamer7'\n"
     ]
    },
    {
     "name": "stderr",
     "output_type": "stream",
     "text": [
      "Retrying due to 504 status: GET https://oauth.reddit.com/api/info/\n",
      "Retrying due to 504 status: GET https://oauth.reddit.com/comments/f3deyu/\n"
     ]
    },
    {
     "name": "stdout",
     "output_type": "stream",
     "text": [
      "Getting missing infection logs for user 'u/twitchKDANNY' from infectee 'u/TyTv'\n",
      "Getting missing infection logs for user 'u/Ca-Game' from infectee 'u/_SomeCzechGirl_'\n",
      "Getting missing infection logs for user 'u/gladman7673' from infectee 'u/Ca-Game'\n",
      "Getting missing infection logs for user 'u/GiantRobotDeadpool12' from infectee 'u/gladman7673'\n",
      "Getting missing infection logs for user 'u/Tee-Seven' from infectee 'u/GiantRobotDeadpool12'\n",
      "Getting missing infection logs for user 'u/TheGoodFiend' from infectee 'u/GiantRobotDeadpool12'\n",
      "Getting missing infection logs for user 'u/ABandofBaboons' from infectee 'u/TheGoodFiend'\n",
      "Getting missing infection logs for user 'u/Ummmmthatguy' from infectee 'u/ABandofBaboons'\n"
     ]
    },
    {
     "name": "stderr",
     "output_type": "stream",
     "text": [
      "Retrying due to 504 status: GET https://oauth.reddit.com/comments/f6e9qx/\n"
     ]
    },
    {
     "name": "stdout",
     "output_type": "stream",
     "text": [
      "Getting missing infection logs for user 'u/someone_odd' from infectee 'u/ABandofBaboons'\n",
      "Getting missing infection logs for user 'u/jcd__' from infectee 'u/someone_odd'\n",
      "Getting missing infection logs for user 'u/JLHumor' from infectee 'u/someone_odd'\n",
      "Getting missing infection logs for user 'u/Sour_Gamer' from infectee 'u/someone_odd'\n"
     ]
    },
    {
     "name": "stderr",
     "output_type": "stream",
     "text": [
      "Retrying due to 504 status: GET https://oauth.reddit.com/api/info/\n",
      "Retrying due to 504 status: GET https://oauth.reddit.com/comments/ems43k/\n"
     ]
    },
    {
     "name": "stdout",
     "output_type": "stream",
     "text": [
      "Getting missing infection logs for user 'u/PicklewrapYT' from infectee 'u/TheGoodFiend'\n",
      "Getting missing infection logs for user 'u/BigDaddyPapaw' from infectee 'u/PicklewrapYT'\n",
      "Recursive error: Failed to find missing links for infector 'u/BigDaddyPapaw'\n",
      "Getting missing infection logs for user 'u/NaziMen' from infectee 'u/PicklewrapYT'\n",
      "Getting missing infection logs for user 'u/TommyGonzo' from infectee 'u/PicklewrapYT'\n",
      "Getting missing infection logs for user 'u/Cat-Who-Wants-Cactus' from infectee 'u/PicklewrapYT'\n",
      "Getting missing infection logs for user 'u/Upachompa' from infectee 'u/TheGoodFiend'\n",
      "Getting missing infection logs for user 'u/cat_91' from infectee 'u/GiantRobotDeadpool12'\n"
     ]
    },
    {
     "name": "stderr",
     "output_type": "stream",
     "text": [
      "Retrying due to 504 status: GET https://oauth.reddit.com/comments/efhou1/\n"
     ]
    },
    {
     "name": "stdout",
     "output_type": "stream",
     "text": [
      "Getting missing infection logs for user 'u/jessuh_' from infectee 'u/_SomeCzechGirl_'\n",
      "Recursive error: Failed to find missing links for infector 'u/reddit_android_-'\n"
     ]
    },
    {
     "name": "stderr",
     "output_type": "stream",
     "text": [
      "Retrying due to 504 status: GET https://oauth.reddit.com/comments/eelvzb/\n",
      "Retrying due to 504 status: GET https://oauth.reddit.com/user/PenguinPride87/comments\n",
      "Retrying due to 504 status: GET https://oauth.reddit.com/api/info/\n"
     ]
    },
    {
     "name": "stdout",
     "output_type": "stream",
     "text": [
      "Recursive error: Failed to find missing links for infector 'u/PredatorOwl'\n",
      "Getting missing infection logs for user 'u/ZennPie' from infectee 'u/thisnameis_'\n"
     ]
    },
    {
     "name": "stderr",
     "output_type": "stream",
     "text": [
      "Retrying due to 504 status: GET https://oauth.reddit.com/api/info/\n"
     ]
    },
    {
     "name": "stdout",
     "output_type": "stream",
     "text": [
      "Getting missing infection logs for user 'u/ParlorTrix7' from infectee 'u/Prince_Paradox007'\n",
      "Getting missing infection logs for user 'u/bobert_17' from infectee 'u/TheEGreatFish'\n",
      "Getting missing infection logs for user 'u/SpringyFredbearSuit' from infectee 'u/bobert_17'\n",
      "Getting missing infection logs for user 'u/fulltimeindian' from infectee 'u/SpringyFredbearSuit'\n",
      "Getting missing infection logs for user 'u/__Brawler__' from infectee 'u/SpringyFredbearSuit'\n",
      "Getting missing infection logs for user 'u/JazzaPlays' from infectee 'u/__Brawler__'\n",
      "Getting missing infection logs for user 'u/shakerwtf' from infectee 'u/__Brawler__'\n"
     ]
    },
    {
     "name": "stderr",
     "output_type": "stream",
     "text": [
      "Retrying due to 504 status: GET https://oauth.reddit.com/api/info/\n",
      "Retrying due to 504 status: GET https://oauth.reddit.com/api/info/\n"
     ]
    },
    {
     "name": "stdout",
     "output_type": "stream",
     "text": [
      "Recursive error: Failed to find missing links for infector 'u/SpringyFredbearSuit'\n",
      "Getting missing infection logs for user 'u/dabomb127' from infectee 'u/TheEGreatFish'\n"
     ]
    },
    {
     "name": "stderr",
     "output_type": "stream",
     "text": [
      "Retrying due to 504 status: GET https://oauth.reddit.com/api/info/\n",
      "Retrying due to 504 status: GET https://oauth.reddit.com/api/info/\n"
     ]
    },
    {
     "name": "stdout",
     "output_type": "stream",
     "text": [
      "Getting missing infection logs for user 'u/Sir-ButteredBuns' from infectee 'u/TheEGreatFish'\n",
      "Getting missing infection logs for user 'u/pestilence595' from infectee 'u/Sir-ButteredBuns'\n",
      "Getting missing infection logs for user 'u/MayanBongoCat' from infectee 'u/pestilence595'\n"
     ]
    },
    {
     "name": "stderr",
     "output_type": "stream",
     "text": [
      "Retrying due to 504 status: GET https://oauth.reddit.com/comments/eksahs/\n"
     ]
    },
    {
     "name": "stdout",
     "output_type": "stream",
     "text": [
      "Getting missing infection logs for user 'u/clearblue101' from infectee 'u/Sir-ButteredBuns'\n",
      "Getting missing infection logs for user 'u/S4nsky' from infectee 'u/TheEGreatFish'\n",
      "Getting missing infection logs for user 'u/NICKGURH6969' from infectee 'u/S4nsky'\n",
      "Getting missing infection logs for user 'u/lonelyslav' from infectee 'u/S4nsky'\n",
      "Getting missing infection logs for user 'u/ChrisAllerant' from infectee 'u/lonelyslav'\n",
      "Recursive error: Failed to find missing links for infector 'u/ChrisAllerant'\n",
      "Recursive error: Failed to find missing links for infector 'u/oieknes'\n",
      "Getting missing infection logs for user 'u/shadowsheder' from infectee 'u/aineri'\n",
      "Getting missing infection logs for user 'u/goru69' from infectee 'u/shadowsheder'\n"
     ]
    },
    {
     "name": "stderr",
     "output_type": "stream",
     "text": [
      "Retrying due to 504 status: GET https://oauth.reddit.com/api/info/\n"
     ]
    },
    {
     "name": "stdout",
     "output_type": "stream",
     "text": [
      "Getting missing infection logs for user 'u/crazed_titan' from infectee 'u/aineri'\n",
      "Getting missing infection logs for user 'u/picerija' from infectee 'u/aineri'\n",
      "Getting missing infection logs for user 'u/RaticGuy' from infectee 'u/picerija'\n"
     ]
    },
    {
     "name": "stderr",
     "output_type": "stream",
     "text": [
      "Retrying due to 504 status: GET https://oauth.reddit.com/comments/f8q9um/\n"
     ]
    },
    {
     "name": "stdout",
     "output_type": "stream",
     "text": [
      "Getting missing infection logs for user 'u/vietcongguy' from infectee 'u/picerija'\n",
      "Getting missing infection logs for user 'u/fixit-tillitsbroke' from infectee 'u/vietcongguy'\n",
      "Getting missing infection logs for user 'u/shaner38' from infectee 'u/fixit-tillitsbroke'\n",
      "Recursive error: Failed to find missing links for infector 'u/vietcongguy'\n"
     ]
    },
    {
     "name": "stderr",
     "output_type": "stream",
     "text": [
      "Retrying due to 504 status: GET https://oauth.reddit.com/api/info/\n"
     ]
    },
    {
     "name": "stdout",
     "output_type": "stream",
     "text": [
      "Getting missing infection logs for user 'u/AI_user_001' from infectee 'u/picerija'\n",
      "Getting missing infection logs for user 'u/bigbois920' from infectee 'u/AI_user_001'\n",
      "Getting missing infection logs for user 'u/redditseanis' from infectee 'u/AI_user_001'\n",
      "Getting missing infection logs for user 'u/actuallyyourfloor' from infectee 'u/redditseanis'\n",
      "Getting missing infection logs for user 'u/Oman395' from infectee 'u/actuallyyourfloor'\n"
     ]
    },
    {
     "name": "stderr",
     "output_type": "stream",
     "text": [
      "Retrying due to 504 status: GET https://oauth.reddit.com/api/info/\n"
     ]
    },
    {
     "name": "stdout",
     "output_type": "stream",
     "text": [
      "Getting missing infection logs for user 'u/Pokey-stick-lover' from infectee 'u/redditseanis'\n"
     ]
    },
    {
     "name": "stderr",
     "output_type": "stream",
     "text": [
      "Retrying due to 500 status: GET https://oauth.reddit.com/api/info/\n"
     ]
    },
    {
     "name": "stdout",
     "output_type": "stream",
     "text": [
      "Getting missing infection logs for user 'u/BlackDIT-' from infectee 'u/Pokey-stick-lover'\n",
      "Getting missing infection logs for user 'u/BlairSky' from infectee 'u/BlackDIT-'\n",
      "Recursive error: Failed to find missing links for infector 'u/BlackDIT-'\n"
     ]
    },
    {
     "name": "stderr",
     "output_type": "stream",
     "text": [
      "Retrying due to 504 status: GET https://oauth.reddit.com/api/info/\n"
     ]
    },
    {
     "name": "stdout",
     "output_type": "stream",
     "text": [
      "Getting missing infection logs for user 'u/ImCoveredInBeesHelp' from infectee 'u/AI_user_001'\n",
      "Getting missing infection logs for user 'u/Bymmijprime' from infectee 'u/ImCoveredInBeesHelp'\n"
     ]
    },
    {
     "name": "stderr",
     "output_type": "stream",
     "text": [
      "Retrying due to 504 status: GET https://oauth.reddit.com/api/info/\n"
     ]
    },
    {
     "name": "stdout",
     "output_type": "stream",
     "text": [
      "Getting missing infection logs for user 'u/rockaintgonnadie' from infectee 'u/aineri'\n"
     ]
    },
    {
     "name": "stderr",
     "output_type": "stream",
     "text": [
      "Retrying due to 504 status: GET https://oauth.reddit.com/comments/bkex2i/\n"
     ]
    },
    {
     "name": "stdout",
     "output_type": "stream",
     "text": [
      "Getting missing infection logs for user 'u/marxisthobbit' from infectee 'u/collinsextonapex'\n",
      "Getting missing infection logs for user 'u/summaryfour572' from infectee 'u/marxisthobbit'\n",
      "Recursive error: Failed to find missing links for infector 'u/summaryfour572'\n"
     ]
    },
    {
     "name": "stderr",
     "output_type": "stream",
     "text": [
      "Retrying due to 504 status: GET https://oauth.reddit.com/api/info/\n",
      "Retrying due to 500 status: GET https://oauth.reddit.com/comments/eu9ljp/\n"
     ]
    },
    {
     "name": "stdout",
     "output_type": "stream",
     "text": [
      "Getting missing infection logs for user 'u/ulothrixboi' from infectee 'u/Loose-Screws'\n",
      "Recursive error: Failed to get comments for user 'u/ulothrixboi': received 404 HTTP response\n"
     ]
    },
    {
     "name": "stderr",
     "output_type": "stream",
     "text": [
      "Retrying due to 504 status: GET https://oauth.reddit.com/api/info/\n"
     ]
    },
    {
     "name": "stdout",
     "output_type": "stream",
     "text": [
      "Getting missing infection logs for user 'u/Cherri_Fizz' from infectee 'u/Loose-Screws'\n",
      "Getting missing infection logs for user 'u/Manoratha' from infectee 'u/Cherri_Fizz'\n",
      "Getting missing infection logs for user 'u/Abdang' from infectee 'u/Cherri_Fizz'\n",
      "Getting missing infection logs for user 'u/Dab647512' from infectee 'u/Abdang'\n",
      "Getting missing infection logs for user 'u/EmperorKiron' from infectee 'u/Dab647512'\n",
      "Getting missing infection logs for user 'u/Die_Seltsame_SS' from infectee 'u/Dab647512'\n",
      "Getting missing infection logs for user 'u/just_a-memer' from infectee 'u/Die_Seltsame_SS'\n",
      "Getting missing infection logs for user 'u/SpicyDorito08' from infectee 'u/Dab647512'\n",
      "Getting missing infection logs for user 'u/BelmontBoi5' from infectee 'u/SpicyDorito08'\n",
      "Getting missing infection logs for user 'u/Pri_sonMike' from infectee 'u/SpicyDorito08'\n"
     ]
    },
    {
     "name": "stderr",
     "output_type": "stream",
     "text": [
      "Retrying due to 504 status: GET https://oauth.reddit.com/api/info/\n"
     ]
    },
    {
     "name": "stdout",
     "output_type": "stream",
     "text": [
      "Getting missing infection logs for user 'u/lilbigwig' from infectee 'u/SpicyDorito08'\n"
     ]
    },
    {
     "name": "stderr",
     "output_type": "stream",
     "text": [
      "Retrying due to 504 status: GET https://oauth.reddit.com/api/info/\n"
     ]
    },
    {
     "name": "stdout",
     "output_type": "stream",
     "text": [
      "Getting missing infection logs for user 'u/Dark_pheonix1183' from infectee 'u/Abdang'\n",
      "Getting missing infection logs for user 'u/kubakuba007' from infectee 'u/Dark_pheonix1183'\n",
      "Getting missing infection logs for user 'u/M-A-X-W' from infectee 'u/kubakuba007'\n",
      "Getting missing infection logs for user 'u/Psykowz' from infectee 'u/Dark_pheonix1183'\n"
     ]
    },
    {
     "name": "stderr",
     "output_type": "stream",
     "text": [
      "Retrying due to 500 status: GET https://oauth.reddit.com/api/info/\n"
     ]
    },
    {
     "name": "stdout",
     "output_type": "stream",
     "text": [
      "Getting missing infection logs for user 'u/markssi421' from infectee 'u/Dark_pheonix1183'\n",
      "Getting missing infection logs for user 'u/DaKatos' from infectee 'u/markssi421'\n",
      "Getting missing infection logs for user 'u/Minitrain' from infectee 'u/Dark_pheonix1183'\n",
      "Getting missing infection logs for user 'u/HeliosX7' from infectee 'u/Minitrain'\n",
      "Getting missing infection logs for user 'u/elimepie' from infectee 'u/HeliosX7'\n",
      "Getting missing infection logs for user 'u/parola123y' from infectee 'u/elimepie'\n",
      "Getting missing infection logs for user 'u/randomuser33333333' from infectee 'u/parola123y'\n",
      "Getting missing infection logs for user 'u/Wepehe' from infectee 'u/parola123y'\n",
      "Getting missing infection logs for user 'u/Quasar_1016' from infectee 'u/Wepehe'\n",
      "Recursive error: Failed to find missing links for infector 'u/elimepie'\n"
     ]
    },
    {
     "name": "stderr",
     "output_type": "stream",
     "text": [
      "Retrying due to 504 status: GET https://oauth.reddit.com/user/Minitrain/comments\n",
      "Retrying due to 504 status: GET https://oauth.reddit.com/comments/e5j8ke/\n"
     ]
    },
    {
     "name": "stdout",
     "output_type": "stream",
     "text": [
      "Getting missing infection logs for user 'u/DoggoBoi46' from infectee 'u/Abdang'\n"
     ]
    },
    {
     "name": "stderr",
     "output_type": "stream",
     "text": [
      "Retrying due to 504 status: GET https://oauth.reddit.com/comments/e73elg/\n"
     ]
    },
    {
     "name": "stdout",
     "output_type": "stream",
     "text": [
      "Getting missing infection logs for user 'u/blind_vigilante' from infectee 'u/DoggoBoi46'\n",
      "Getting missing infection logs for user 'u/BobTheTomato67' from infectee 'u/blind_vigilante'\n",
      "Getting missing infection logs for user 'u/Marshmall0w_Kun' from infectee 'u/Abdang'\n",
      "Getting missing infection logs for user 'u/virenk21' from infectee 'u/Marshmall0w_Kun'\n"
     ]
    },
    {
     "name": "stderr",
     "output_type": "stream",
     "text": [
      "Retrying due to 504 status: GET https://oauth.reddit.com/comments/el9wpi/\n"
     ]
    },
    {
     "name": "stdout",
     "output_type": "stream",
     "text": [
      "Getting missing infection logs for user 'u/HoopHereIAm' from infectee 'u/Marshmall0w_Kun'\n",
      "Getting missing infection logs for user 'u/AnDr0mEdA73' from infectee 'u/HoopHereIAm'\n",
      "Getting missing infection logs for user 'u/silviagarus' from infectee 'u/AnDr0mEdA73'\n",
      "Getting missing infection logs for user 'u/TartarusBorn' from infectee 'u/silviagarus'\n",
      "Getting missing infection logs for user 'u/BaronAaldwin' from infectee 'u/HoopHereIAm'\n",
      "Getting missing infection logs for user 'u/doomturtle21' from infectee 'u/HoopHereIAm'\n",
      "Getting missing infection logs for user 'u/Sansthepenguin74' from infectee 'u/doomturtle21'\n",
      "Getting missing infection logs for user 'u/justburrito1041' from infectee 'u/doomturtle21'\n",
      "Getting missing infection logs for user 'u/SixPlatypus4027' from infectee 'u/justburrito1041'\n",
      "Getting missing infection logs for user 'u/Pangin51' from infectee 'u/SixPlatypus4027'\n",
      "Getting missing infection logs for user 'u/WesamFaris' from infectee 'u/justburrito1041'\n",
      "Getting missing infection logs for user 'u/A_Piece_Of_Fluff' from infectee 'u/justburrito1041'\n",
      "Getting missing infection logs for user 'u/lilpinapple' from infectee 'u/A_Piece_Of_Fluff'\n"
     ]
    },
    {
     "name": "stderr",
     "output_type": "stream",
     "text": [
      "Retrying due to 504 status: GET https://oauth.reddit.com/comments/e31qpe/\n"
     ]
    },
    {
     "name": "stdout",
     "output_type": "stream",
     "text": [
      "Getting missing infection logs for user 'u/gallego_d' from infectee 'u/A_Piece_Of_Fluff'\n"
     ]
    },
    {
     "name": "stderr",
     "output_type": "stream",
     "text": [
      "Retrying due to 504 status: GET https://oauth.reddit.com/comments/cok3ow/\n"
     ]
    },
    {
     "name": "stdout",
     "output_type": "stream",
     "text": [
      "Getting missing infection logs for user 'u/Laki2005' from infectee 'u/justburrito1041'\n",
      "Getting missing infection logs for user 'u/NarwhalAnusLicker00' from infectee 'u/doomturtle21'\n"
     ]
    },
    {
     "name": "stderr",
     "output_type": "stream",
     "text": [
      "Retrying due to 504 status: GET https://oauth.reddit.com/api/info/\n"
     ]
    },
    {
     "name": "stdout",
     "output_type": "stream",
     "text": [
      "Getting missing infection logs for user 'u/Abdulzy03' from infectee 'u/HoopHereIAm'\n"
     ]
    },
    {
     "name": "stderr",
     "output_type": "stream",
     "text": [
      "Retrying due to 500 status: GET https://oauth.reddit.com/comments/e05fup/\n",
      "Retrying due to 504 status: GET https://oauth.reddit.com/api/info/\n",
      "Retrying due to 500 status: GET https://oauth.reddit.com/comments/dhmlc9/\n"
     ]
    },
    {
     "name": "stdout",
     "output_type": "stream",
     "text": [
      "Getting missing infection logs for user 'u/Jolt1234567890' from infectee 'u/Abdang'\n",
      "Getting missing infection logs for user 'u/chachaa2' from infectee 'u/Cherri_Fizz'\n"
     ]
    },
    {
     "name": "stderr",
     "output_type": "stream",
     "text": [
      "Retrying due to 500 status: GET https://oauth.reddit.com/comments/f3wmux/\n"
     ]
    },
    {
     "name": "stdout",
     "output_type": "stream",
     "text": [
      "Getting missing infection logs for user 'u/Mcreeper51' from infectee 'u/chachaa2'\n",
      "Getting missing infection logs for user 'u/Bedrix96' from infectee 'u/Mcreeper51'\n",
      "Getting missing infection logs for user 'u/snipertrifler' from infectee 'u/Bedrix96'\n"
     ]
    },
    {
     "name": "stderr",
     "output_type": "stream",
     "text": [
      "Retrying due to 504 status: GET https://oauth.reddit.com/api/info/\n"
     ]
    },
    {
     "name": "stdout",
     "output_type": "stream",
     "text": [
      "Getting missing infection logs for user 'u/noobcluster' from infectee 'u/Bedrix96'\n",
      "Getting missing infection logs for user 'u/TekashiDMM' from infectee 'u/Bedrix96'\n",
      "Getting missing infection logs for user 'u/PolishPiglet' from infectee 'u/TekashiDMM'\n",
      "Recursive error: Failed to find missing links for infector 'u/PolishPiglet'\n",
      "Getting missing infection logs for user 'u/baba_yaga1001' from infectee 'u/TekashiDMM'\n",
      "Getting missing infection logs for user 'u/DogeWithCookies' from infectee 'u/baba_yaga1001'\n",
      "Getting missing infection logs for user 'u/suspicious_eggplant_' from infectee 'u/DogeWithCookies'\n",
      "Getting missing infection logs for user 'u/vihach' from infectee 'u/suspicious_eggplant_'\n",
      "Getting missing infection logs for user 'u/Black_Rose_221' from infectee 'u/vihach'\n"
     ]
    },
    {
     "name": "stderr",
     "output_type": "stream",
     "text": [
      "Retrying due to 504 status: GET https://oauth.reddit.com/api/info/\n"
     ]
    },
    {
     "name": "stdout",
     "output_type": "stream",
     "text": [
      "Getting missing infection logs for user 'u/birbthatcantbreathe' from infectee 'u/suspicious_eggplant_'\n",
      "Recursive error: Failed to find missing links for infector 'u/birbthatcantbreathe'\n",
      "Getting missing infection logs for user 'u/arkinned' from infectee 'u/baba_yaga1001'\n",
      "Getting missing infection logs for user 'u/AvengerX2024' from infectee 'u/arkinned'\n",
      "Getting missing infection logs for user 'u/KingsmanVince' from infectee 'u/AvengerX2024'\n"
     ]
    },
    {
     "name": "stderr",
     "output_type": "stream",
     "text": [
      "Retrying due to 504 status: GET https://oauth.reddit.com/comments/dtwd0q/\n"
     ]
    },
    {
     "name": "stdout",
     "output_type": "stream",
     "text": [
      "Getting missing infection logs for user 'u/MemeLord0009' from infectee 'u/TekashiDMM'\n",
      "Getting missing infection logs for user 'u/FB1_DESTROYER' from infectee 'u/MemeLord0009'\n"
     ]
    },
    {
     "name": "stderr",
     "output_type": "stream",
     "text": [
      "Retrying due to 504 status: GET https://oauth.reddit.com/comments/fb0oly/\n"
     ]
    },
    {
     "name": "stdout",
     "output_type": "stream",
     "text": [
      "Getting missing infection logs for user 'u/ZeroGBoi' from infectee 'u/MemeLord0009'\n"
     ]
    },
    {
     "name": "stderr",
     "output_type": "stream",
     "text": [
      "Retrying due to 504 status: GET https://oauth.reddit.com/comments/egk91e/\n",
      "Retrying due to 504 status: GET https://oauth.reddit.com/comments/cc4ads/\n",
      "Retrying due to 504 status: GET https://oauth.reddit.com/api/info/\n",
      "Retrying due to 504 status: GET https://oauth.reddit.com/comments/ewt6qb/\n"
     ]
    },
    {
     "name": "stdout",
     "output_type": "stream",
     "text": [
      "Getting missing infection logs for user 'u/gc_xo4life' from infectee 'u/chachaa2'\n",
      "Getting missing infection logs for user 'u/UmbertoDelRio' from infectee 'u/gc_xo4life'\n",
      "Getting missing infection logs for user 'u/Babaha101' from infectee 'u/UmbertoDelRio'\n",
      "Recursive error: Failed to find missing links for infector 'u/Babaha101'\n",
      "Getting missing infection logs for user 'u/count_the_teeth' from infectee 'u/UmbertoDelRio'\n",
      "Getting missing infection logs for user 'u/IvanOG_Ranger' from infectee 'u/gc_xo4life'\n",
      "Getting missing infection logs for user 'u/Fehlurian_' from infectee 'u/IvanOG_Ranger'\n"
     ]
    },
    {
     "name": "stderr",
     "output_type": "stream",
     "text": [
      "Retrying due to 504 status: GET https://oauth.reddit.com/comments/e5iv7k/\n",
      "Retrying due to 504 status: GET https://oauth.reddit.com/api/info/\n"
     ]
    },
    {
     "name": "stdout",
     "output_type": "stream",
     "text": [
      "Getting missing infection logs for user 'u/diversecultures' from infectee 'u/gc_xo4life'\n"
     ]
    },
    {
     "name": "stderr",
     "output_type": "stream",
     "text": [
      "Retrying due to 504 status: GET https://oauth.reddit.com/api/info/\n"
     ]
    },
    {
     "name": "stdout",
     "output_type": "stream",
     "text": [
      "Getting missing infection logs for user 'u/theslimycowboy' from infectee 'u/infamouszoggy'\n",
      "Getting missing infection logs for user 'u/MladjaLlama' from infectee 'u/theslimycowboy'\n",
      "Getting missing infection logs for user 'u/TheDerpyDrummer' from infectee 'u/xPhoenixFiresx'\n",
      "Getting missing infection logs for user 'u/ehgwdf' from infectee 'u/TheDerpyDrummer'\n",
      "Getting missing infection logs for user 'u/Luna0995' from infectee 'u/ehgwdf'\n",
      "Getting missing infection logs for user 'u/Robjongen2006' from infectee 'u/ehgwdf'\n",
      "Getting missing infection logs for user 'u/adenboio' from infectee 'u/Robjongen2006'\n",
      "Getting missing infection logs for user 'u/T70Awesome_YT' from infectee 'u/adenboio'\n",
      "Getting missing infection logs for user 'u/5352536488' from infectee 'u/T70Awesome_YT'\n",
      "Getting missing infection logs for user 'u/lintheflower' from infectee 'u/T70Awesome_YT'\n",
      "Getting missing infection logs for user 'u/beakf' from infectee 'u/lintheflower'\n",
      "Getting missing infection logs for user 'u/all-knowing-unicorn' from infectee 'u/beakf'\n",
      "Getting missing infection logs for user 'u/DarkNader501' from infectee 'u/lintheflower'\n",
      "Getting missing infection logs for user 'u/Beck564' from infectee 'u/DarkNader501'\n",
      "Getting missing infection logs for user 'u/IStoleYourHoney' from infectee 'u/lintheflower'\n",
      "Getting missing infection logs for user 'u/Red-hoody11' from infectee 'u/IStoleYourHoney'\n",
      "Getting missing infection logs for user 'u/DenomicClechner44' from infectee 'u/Red-hoody11'\n",
      "Getting missing infection logs for user 'u/XDLAv5' from infectee 'u/IStoleYourHoney'\n",
      "Getting missing infection logs for user 'u/1_know_too_much' from infectee 'u/XDLAv5'\n"
     ]
    },
    {
     "name": "stderr",
     "output_type": "stream",
     "text": [
      "Retrying due to 504 status: GET https://oauth.reddit.com/api/info/\n"
     ]
    },
    {
     "name": "stdout",
     "output_type": "stream",
     "text": [
      "Getting missing infection logs for user 'u/P3rs0n0412' from infectee 'u/XDLAv5'\n",
      "Getting missing infection logs for user 'u/dodo-bird-guy' from infectee 'u/P3rs0n0412'\n",
      "Getting missing infection logs for user 'u/Fist_dem_goats' from infectee 'u/lintheflower'\n",
      "Getting missing infection logs for user 'u/Singed4life' from infectee 'u/T70Awesome_YT'\n",
      "Getting missing infection logs for user 'u/yak_on_meth' from infectee 'u/Singed4life'\n",
      "Getting missing infection logs for user 'u/onekillerde2' from infectee 'u/yak_on_meth'\n",
      "Getting missing infection logs for user 'u/Razorwh1p' from infectee 'u/onekillerde2'\n",
      "Getting missing infection logs for user 'u/TheRudDud' from infectee 'u/yak_on_meth'\n",
      "Getting missing infection logs for user 'u/OG-Name-Do-Not-Steal' from infectee 'u/TheRudDud'\n",
      "Getting missing infection logs for user 'u/Dakemonster' from infectee 'u/OG-Name-Do-Not-Steal'\n",
      "Getting missing infection logs for user 'u/Shyam_the_Warrier' from infectee 'u/Dakemonster'\n",
      "Recursive error: Failed to find missing links for infector 'u/Shyam_the_Warrier'\n",
      "Getting missing infection logs for user 'u/321543' from infectee 'u/Dakemonster'\n",
      "Recursive error: Failed to find missing links for infector 'u/321543'\n",
      "Getting missing infection logs for user 'u/thanksdamien' from infectee 'u/Dakemonster'\n",
      "Getting missing infection logs for user 'u/that_dude_behindyou' from infectee 'u/OG-Name-Do-Not-Steal'\n",
      "Getting missing infection logs for user 'u/ameeeeeen' from infectee 'u/that_dude_behindyou'\n"
     ]
    },
    {
     "name": "stderr",
     "output_type": "stream",
     "text": [
      "Retrying due to 504 status: GET https://oauth.reddit.com/api/info/\n"
     ]
    },
    {
     "name": "stdout",
     "output_type": "stream",
     "text": [
      "Getting missing infection logs for user 'u/TheOnlyShyG' from infectee 'u/that_dude_behindyou'\n",
      "Getting missing infection logs for user 'u/chgghg' from infectee 'u/TheOnlyShyG'\n",
      "Getting missing infection logs for user 'u/_ThePaperball' from infectee 'u/TheOnlyShyG'\n",
      "Getting missing infection logs for user 'u/RandomVm8' from infectee 'u/_ThePaperball'\n",
      "Getting missing infection logs for user 'u/abocadorollz' from infectee 'u/_ThePaperball'\n",
      "Getting missing infection logs for user 'u/NotFunnyBuddy' from infectee 'u/abocadorollz'\n",
      "Getting missing infection logs for user 'u/Mydiddlydarnitdude' from infectee 'u/NotFunnyBuddy'\n"
     ]
    },
    {
     "name": "stderr",
     "output_type": "stream",
     "text": [
      "Retrying due to 504 status: GET https://oauth.reddit.com/api/info/\n",
      "Retrying due to 504 status: GET https://oauth.reddit.com/api/info/\n"
     ]
    },
    {
     "name": "stdout",
     "output_type": "stream",
     "text": [
      "Getting missing infection logs for user 'u/mikerichh' from infectee 'u/_ThePaperball'\n",
      "Getting missing infection logs for user 'u/BlazeAmaze_268' from infectee 'u/_ThePaperball'\n",
      "Getting missing infection logs for user 'u/DitiProGamezzz' from infectee 'u/BlazeAmaze_268'\n",
      "Getting missing infection logs for user 'u/the_rainbow_wolf' from infectee 'u/DitiProGamezzz'\n",
      "Getting missing infection logs for user 'u/ArenShahini' from infectee 'u/TheOnlyShyG'\n",
      "Getting missing infection logs for user 'u/Pokenare' from infectee 'u/ArenShahini'\n",
      "Getting missing infection logs for user 'u/ItzMeMilo' from infectee 'u/Pokenare'\n",
      "Getting missing infection logs for user 'u/lebrian' from infectee 'u/Pokenare'\n",
      "Getting missing infection logs for user 'u/Lindsaybird1' from infectee 'u/ArenShahini'\n",
      "Getting missing infection logs for user 'u/GlitchAndAHalf' from infectee 'u/OG-Name-Do-Not-Steal'\n",
      "Getting missing infection logs for user 'u/Lil-Irms' from infectee 'u/OG-Name-Do-Not-Steal'\n",
      "Getting missing infection logs for user 'u/el-fayok' from infectee 'u/TheRudDud'\n",
      "Recursive error: Failed to find missing links for infector 'u/TheRudDud'\n",
      "Getting missing infection logs for user 'u/lolalynch' from infectee 'u/yak_on_meth'\n",
      "Recursive error: Failed to find missing links for infector 'u/lolalynch'\n",
      "Getting missing infection logs for user 'u/Companyinc' from infectee 'u/yak_on_meth'\n",
      "Getting missing infection logs for user 'u/y_and_z' from infectee 'u/Companyinc'\n",
      "Getting missing infection logs for user 'u/Salty-Advance' from infectee 'u/adenboio'\n",
      "Getting missing infection logs for user 'u/The_Milk_Man2' from infectee 'u/Salty-Advance'\n",
      "Getting missing infection logs for user 'u/itsyourmememimi' from infectee 'u/The_Milk_Man2'\n",
      "Getting missing infection logs for user 'u/wooffle_the1' from infectee 'u/adenboio'\n",
      "Getting missing infection logs for user 'u/thefuckisthishet' from infectee 'u/wooffle_the1'\n",
      "Recursive error: Failed to find missing links for infector 'u/thefuckisthishet'\n",
      "Getting missing infection logs for user 'u/johnbillyjoe' from infectee 'u/TheSCP_3008'\n",
      "Getting missing infection logs for user 'u/thehoethatsuckdick' from infectee 'u/johnbillyjoe'\n",
      "Recursive error: Failed to find missing links for infector 'u/thehoethatsuckdick'\n",
      "Getting missing infection logs for user 'u/A_N3RD0' from infectee 'u/johnbillyjoe'\n",
      "Getting missing infection logs for user 'u/zombieninja9000' from infectee 'u/johnbillyjoe'\n",
      "Getting missing infection logs for user 'u/Faranocks' from infectee 'u/johnbillyjoe'\n",
      "Getting missing infection logs for user 'u/WitheredApricot' from infectee 'u/johnbillyjoe'\n",
      "Getting missing infection logs for user 'u/BeastBoxGaming' from infectee 'u/johnbillyjoe'\n",
      "Getting missing infection logs for user 'u/memegod25' from infectee 'u/BeastBoxGaming'\n",
      "Getting missing infection logs for user 'u/NixelGamer12' from infectee 'u/memegod25'\n"
     ]
    },
    {
     "name": "stderr",
     "output_type": "stream",
     "text": [
      "Retrying due to 504 status: GET https://oauth.reddit.com/comments/bohzil/\n"
     ]
    },
    {
     "name": "stdout",
     "output_type": "stream",
     "text": [
      "Getting missing infection logs for user 'u/LouieAnimated' from infectee 'u/memegod25'\n",
      "Getting missing infection logs for user 'u/rayzeyyt' from infectee 'u/LouieAnimated'\n",
      "Getting missing infection logs for user 'u/Someoneisgreat' from infectee 'u/memegod25'\n"
     ]
    },
    {
     "name": "stderr",
     "output_type": "stream",
     "text": [
      "Retrying due to 504 status: GET https://oauth.reddit.com/comments/fsqo54/\n"
     ]
    },
    {
     "name": "stdout",
     "output_type": "stream",
     "text": [
      "Getting missing infection logs for user 'u/niqletism' from infectee 'u/TheSCP_3008'\n"
     ]
    },
    {
     "name": "stderr",
     "output_type": "stream",
     "text": [
      "Retrying due to 504 status: GET https://oauth.reddit.com/comments/czeoxq/\n"
     ]
    },
    {
     "name": "stdout",
     "output_type": "stream",
     "text": [
      "Getting missing infection logs for user 'u/Ravenuil' from infectee 'u/BiggestNoobAlive'\n",
      "Getting missing infection logs for user 'u/HotsuDogsu' from infectee 'u/throwie66642069'\n",
      "Recursive error: Failed to find missing links for infector 'u/HotsuDogsu'\n",
      "Getting missing infection logs for user 'u/Adramalech50' from infectee 'u/throwie66642069'\n",
      "Getting missing infection logs for user 'u/G31U5' from infectee 'u/Adramalech50'\n",
      "Getting missing infection logs for user 'u/Nitr3xx' from infectee 'u/throwie66642069'\n",
      "Getting missing infection logs for user 'u/Potato_Chips03' from infectee 'u/throwie66642069'\n",
      "Getting missing infection logs for user 'u/Contene' from infectee 'u/Potato_Chips03'\n",
      "Getting missing infection logs for user 'u/Nottherealjeremy' from infectee 'u/Contene'\n"
     ]
    },
    {
     "name": "stderr",
     "output_type": "stream",
     "text": [
      "Retrying due to 504 status: GET https://oauth.reddit.com/user/Contene/comments\n"
     ]
    },
    {
     "name": "stdout",
     "output_type": "stream",
     "text": [
      "Getting missing infection logs for user 'u/cloister__black' from infectee 'u/throwie66642069'\n",
      "Getting missing infection logs for user 'u/Dat_Chicken04' from infectee 'u/throwie66642069'\n",
      "Getting missing infection logs for user 'u/evy0311' from infectee 'u/Dat_Chicken04'\n",
      "Getting missing infection logs for user 'u/Kind_Apartment' from infectee 'u/evy0311'\n",
      "Getting missing infection logs for user 'u/IneverKnoWhattoDo' from infectee 'u/Kind_Apartment'\n",
      "Getting missing infection logs for user 'u/VideoGameBoy18' from infectee 'u/Kind_Apartment'\n"
     ]
    },
    {
     "name": "stderr",
     "output_type": "stream",
     "text": [
      "Retrying due to 504 status: GET https://oauth.reddit.com/comments/ekvdix/\n"
     ]
    },
    {
     "name": "stdout",
     "output_type": "stream",
     "text": [
      "Getting missing infection logs for user 'u/Haxorante' from infectee 'u/VideoGameBoy18'\n",
      "Getting missing infection logs for user 'u/DraGon7237' from infectee 'u/Kind_Apartment'\n",
      "Getting missing infection logs for user 'u/JustJayPM' from infectee 'u/Kind_Apartment'\n",
      "Getting missing infection logs for user 'u/Mapex_proM' from infectee 'u/JustJayPM'\n",
      "Getting missing infection logs for user 'u/sambro-' from infectee 'u/Kind_Apartment'\n",
      "Getting missing infection logs for user 'u/AresTheTyrant' from infectee 'u/throwie66642069'\n",
      "Getting missing infection logs for user 'u/howitbehowitgo' from infectee 'u/throwie66642069'\n"
     ]
    },
    {
     "name": "stderr",
     "output_type": "stream",
     "text": [
      "Retrying due to 504 status: GET https://oauth.reddit.com/comments/ftb623/\n",
      "Retrying due to 504 status: GET https://oauth.reddit.com/comments/ewv16e/\n"
     ]
    },
    {
     "name": "stdout",
     "output_type": "stream",
     "text": [
      "Getting missing infection logs for user 'u/GoBlueBMW' from infectee 'u/throwie66642069'\n",
      "Getting missing infection logs for user 'u/LenTrexlersLettuce' from infectee 'u/inslatafresca_'\n",
      "Getting missing infection logs for user 'u/halZ82666' from infectee 'u/LenTrexlersLettuce'\n",
      "Getting missing infection logs for user 'u/Tjlization' from infectee 'u/halZ82666'\n",
      "Getting missing infection logs for user 'u/UrRandomConsumer' from infectee 'u/Tjlization'\n",
      "Getting missing infection logs for user 'u/totallyahumanperson1' from infectee 'u/Tjlization'\n",
      "Getting missing infection logs for user 'u/bnl1' from infectee 'u/totallyahumanperson1'\n",
      "Getting missing infection logs for user 'u/matelok' from infectee 'u/totallyahumanperson1'\n"
     ]
    },
    {
     "name": "stderr",
     "output_type": "stream",
     "text": [
      "Retrying due to 504 status: GET https://oauth.reddit.com/api/info/\n",
      "Retrying due to 504 status: GET https://oauth.reddit.com/api/info/\n"
     ]
    },
    {
     "name": "stdout",
     "output_type": "stream",
     "text": [
      "Getting missing infection logs for user 'u/seanrm92' from infectee 'u/Tjlization'\n",
      "Getting missing infection logs for user 'u/Gilpif' from infectee 'u/seanrm92'\n",
      "Getting missing infection logs for user 'u/low-balling-johnson' from infectee 'u/halZ82666'\n",
      "Getting missing infection logs for user 'u/What-is-life77' from infectee 'u/LenTrexlersLettuce'\n",
      "Getting missing infection logs for user 'u/Rogue_Melon' from infectee 'u/What-is-life77'\n"
     ]
    },
    {
     "name": "stderr",
     "output_type": "stream",
     "text": [
      "Retrying due to 504 status: GET https://oauth.reddit.com/api/info/\n"
     ]
    },
    {
     "name": "stdout",
     "output_type": "stream",
     "text": [
      "Getting missing infection logs for user 'u/Grymbaldknight' from infectee 'u/LenTrexlersLettuce'\n",
      "Getting missing infection logs for user 'u/ViolenceIs4Assholes' from infectee 'u/Grymbaldknight'\n",
      "Getting missing infection logs for user 'u/marcwithnok' from infectee 'u/ViolenceIs4Assholes'\n",
      "Getting missing infection logs for user 'u/ArvarBoi' from infectee 'u/Grymbaldknight'\n"
     ]
    },
    {
     "name": "stderr",
     "output_type": "stream",
     "text": [
      "Retrying due to 504 status: GET https://oauth.reddit.com/api/info/\n"
     ]
    },
    {
     "name": "stdout",
     "output_type": "stream",
     "text": [
      "Getting missing infection logs for user 'u/TwicerUpvoter' from infectee 'u/inslatafresca_'\n",
      "Getting missing infection logs for user 'u/yesmodeset' from infectee 'u/TwicerUpvoter'\n",
      "Getting missing infection logs for user 'u/henksteende' from infectee 'u/yesmodeset'\n",
      "Getting missing infection logs for user 'u/LasagnaLizard0' from infectee 'u/henksteende'\n",
      "Getting missing infection logs for user 'u/TheTiniestKitten' from infectee 'u/LasagnaLizard0'\n",
      "Getting missing infection logs for user 'u/precastdisk2785' from infectee 'u/TheTiniestKitten'\n",
      "Getting missing infection logs for user 'u/Sketccartist' from infectee 'u/henksteende'\n",
      "Getting missing infection logs for user 'u/KillerBee41265' from infectee 'u/TwicerUpvoter'\n",
      "Getting missing infection logs for user 'u/azfar19_b' from infectee 'u/5amukai'\n"
     ]
    },
    {
     "name": "stderr",
     "output_type": "stream",
     "text": [
      "Retrying due to 504 status: GET https://oauth.reddit.com/comments/eezwcm/\n"
     ]
    },
    {
     "name": "stdout",
     "output_type": "stream",
     "text": [
      "Getting missing infection logs for user 'u/capicorn564' from infectee 'u/tukboss'\n",
      "Getting missing infection logs for user 'u/Geekxter' from infectee 'u/tukboss'\n",
      "Getting missing infection logs for user 'u/hellofakepuppets' from infectee 'u/Geekxter'\n",
      "Getting missing infection logs for user 'u/Xarvizal' from infectee 'u/hellofakepuppets'\n",
      "Getting missing infection logs for user 'u/The_engine_mouse' from infectee 'u/kratotheze'\n",
      "Getting missing infection logs for user 'u/Moisty-Mangus' from infectee 'u/Teacherson404'\n",
      "Getting missing infection logs for user 'u/Smart2805' from infectee 'u/Moisty-Mangus'\n",
      "Getting missing infection logs for user 'u/mjams808' from infectee 'u/Smart2805'\n",
      "Getting missing infection logs for user 'u/Memeiboi69' from infectee 'u/mjams808'\n",
      "Getting missing infection logs for user 'u/Niqqck' from infectee 'u/Memeiboi69'\n",
      "Getting missing infection logs for user 'u/aafikk' from infectee 'u/Niqqck'\n"
     ]
    },
    {
     "name": "stderr",
     "output_type": "stream",
     "text": [
      "Retrying due to 504 status: GET https://oauth.reddit.com/api/info/\n"
     ]
    },
    {
     "name": "stdout",
     "output_type": "stream",
     "text": [
      "Getting missing infection logs for user 'u/Scarecrow_1912' from infectee 'u/Niqqck'\n"
     ]
    },
    {
     "name": "stderr",
     "output_type": "stream",
     "text": [
      "Retrying due to 504 status: GET https://oauth.reddit.com/comments/e4jvlc/\n"
     ]
    },
    {
     "name": "stdout",
     "output_type": "stream",
     "text": [
      "Getting missing infection logs for user 'u/Pivinne' from infectee 'u/Niqqck'\n",
      "Getting missing infection logs for user 'u/WeAreGaren' from infectee 'u/Pivinne'\n",
      "Getting missing infection logs for user 'u/Killjoys13' from infectee 'u/WeAreGaren'\n",
      "Getting missing infection logs for user 'u/Dtgs_' from infectee 'u/Killjoys13'\n",
      "Recursive error: Failed to find missing links for infector 'u/WeAreGaren'\n",
      "Recursive error: Failed to find missing links for infector 'u/mjams808'\n"
     ]
    },
    {
     "name": "stderr",
     "output_type": "stream",
     "text": [
      "Retrying due to 504 status: GET https://oauth.reddit.com/api/info/\n",
      "Retrying due to 504 status: GET https://oauth.reddit.com/api/info/\n"
     ]
    },
    {
     "name": "stdout",
     "output_type": "stream",
     "text": [
      "Getting missing infection logs for user 'u/mischievous-snake' from infectee 'u/Smart2805'\n"
     ]
    },
    {
     "name": "stderr",
     "output_type": "stream",
     "text": [
      "Retrying due to 504 status: GET https://oauth.reddit.com/comments/bn9pku/\n",
      "Retrying due to 504 status: GET https://oauth.reddit.com/comments/esj4iu/\n"
     ]
    },
    {
     "name": "stdout",
     "output_type": "stream",
     "text": [
      "Getting missing infection logs for user 'u/Splat1221' from infectee 'u/Teacherson404'\n",
      "Getting missing infection logs for user 'u/Username_Egli' from infectee 'u/Splat1221'\n"
     ]
    },
    {
     "name": "stderr",
     "output_type": "stream",
     "text": [
      "Retrying due to 504 status: GET https://oauth.reddit.com/api/info/\n"
     ]
    },
    {
     "name": "stdout",
     "output_type": "stream",
     "text": [
      "Getting missing infection logs for user 'u/Mustartz' from infectee 'u/Username_Egli'\n",
      "Getting missing infection logs for user 'u/dubblgg' from infectee 'u/Splat1221'\n"
     ]
    },
    {
     "name": "stderr",
     "output_type": "stream",
     "text": [
      "Retrying due to 500 status: GET https://oauth.reddit.com/api/info/\n",
      "Retrying due to 504 status: GET https://oauth.reddit.com/api/info/\n",
      "Retrying due to 504 status: GET https://oauth.reddit.com/api/info/\n",
      "Retrying due to 504 status: GET https://oauth.reddit.com/api/info/\n"
     ]
    },
    {
     "name": "stdout",
     "output_type": "stream",
     "text": [
      "Getting missing infection logs for user 'u/EdTheSurviver' from infectee 'u/Kaarssteun'\n"
     ]
    },
    {
     "name": "stderr",
     "output_type": "stream",
     "text": [
      "Retrying due to 504 status: GET https://oauth.reddit.com/api/info/\n"
     ]
    },
    {
     "name": "stdout",
     "output_type": "stream",
     "text": [
      "Getting missing infection logs for user 'u/elizaeffect' from infectee 'u/Kaarssteun'\n",
      "Getting missing infection logs for user 'u/TheUnreal_Lolo' from infectee 'u/elizaeffect'\n",
      "Getting missing infection logs for user 'u/RandomnessGod' from infectee 'u/Kaarssteun'\n",
      "Getting missing infection logs for user 'u/ChadWorthington1' from infectee 'u/Kaarssteun'\n",
      "Getting missing infection logs for user 'u/I-Lost-My-Katana' from infectee 'u/Mr-360'\n",
      "Getting missing infection logs for user 'u/poopjohn4049' from infectee 'u/I-Lost-My-Katana'\n"
     ]
    },
    {
     "name": "stderr",
     "output_type": "stream",
     "text": [
      "Retrying due to 504 status: GET https://oauth.reddit.com/comments/fi0hqg/\n"
     ]
    },
    {
     "name": "stdout",
     "output_type": "stream",
     "text": [
      "Getting missing infection logs for user 'u/TheKeH20' from infectee 'u/D3V1L_D0G'\n",
      "Getting missing infection logs for user 'u/ARandom_Fabian' from infectee 'u/TheKeH20'\n"
     ]
    },
    {
     "name": "stderr",
     "output_type": "stream",
     "text": [
      "Retrying due to 504 status: GET https://oauth.reddit.com/comments/fduqtf/\n"
     ]
    },
    {
     "name": "stdout",
     "output_type": "stream",
     "text": [
      "Getting missing infection logs for user 'u/chaos_akito' from infectee 'u/ARandom_Fabian'\n",
      "Getting missing infection logs for user 'u/Houdeanie19' from infectee 'u/alex_NSI'\n",
      "Getting missing infection logs for user 'u/rexaronni' from infectee 'u/Houdeanie19'\n"
     ]
    },
    {
     "name": "stderr",
     "output_type": "stream",
     "text": [
      "Retrying due to 504 status: GET https://oauth.reddit.com/comments/fijwqp/\n"
     ]
    },
    {
     "name": "stdout",
     "output_type": "stream",
     "text": [
      "Getting missing infection logs for user 'u/arcprocrastinates' from infectee 'u/Courtlander1993'\n",
      "Getting missing infection logs for user 'u/OGUncleSherm' from infectee 'u/arcprocrastinates'\n",
      "Getting missing infection logs for user 'u/ninjagold007' from infectee 'u/OGUncleSherm'\n"
     ]
    },
    {
     "name": "stderr",
     "output_type": "stream",
     "text": [
      "Retrying due to 504 status: GET https://oauth.reddit.com/comments/bgf3e6/\n",
      "Retrying due to 504 status: GET https://oauth.reddit.com/comments/ejl8hm/\n"
     ]
    },
    {
     "name": "stdout",
     "output_type": "stream",
     "text": [
      "Getting missing infection logs for user 'u/dwarfInTheFlask56' from infectee 'u/bigboomer420'\n",
      "Getting missing infection logs for user 'u/JohnnyBravoguy' from infectee 'u/dwarfInTheFlask56'\n",
      "Getting missing infection logs for user 'u/Yung-Flabby' from infectee 'u/bigboomer420'\n"
     ]
    },
    {
     "name": "stderr",
     "output_type": "stream",
     "text": [
      "Retrying due to 504 status: GET https://oauth.reddit.com/api/info/\n"
     ]
    },
    {
     "name": "stdout",
     "output_type": "stream",
     "text": [
      "Getting missing infection logs for user 'u/LethalZedboi' from infectee 'u/Yung-Flabby'\n",
      "Getting missing infection logs for user 'u/ThatPenguinGuy12' from infectee 'u/LethalZedboi'\n",
      "Getting missing infection logs for user 'u/XLKhalid' from infectee 'u/ThatPenguinGuy12'\n",
      "Getting missing infection logs for user 'u/ImTheElephantMan' from infectee 'u/ThatPenguinGuy12'\n",
      "Getting missing infection logs for user 'u/Limpthon' from infectee 'u/bigboomer420'\n",
      "Getting missing infection logs for user 'u/boigabusboy' from infectee 'u/Limpthon'\n",
      "Getting missing infection logs for user 'u/Liquid_PL' from infectee 'u/Limpthon'\n",
      "Getting missing infection logs for user 'u/RTChaud' from infectee 'u/Limpthon'\n"
     ]
    },
    {
     "name": "stderr",
     "output_type": "stream",
     "text": [
      "Retrying due to 504 status: GET https://oauth.reddit.com/comments/ezo9n6/\n"
     ]
    },
    {
     "name": "stdout",
     "output_type": "stream",
     "text": [
      "Getting missing infection logs for user 'u/slingbladde' from infectee 'u/Supergamer5465'\n",
      "Getting missing infection logs for user 'u/hgfgjgpg' from infectee 'u/Supergamer5465'\n",
      "Getting missing infection logs for user 'u/rant-rant-rant' from infectee 'u/_insert_Nick_here_'\n",
      "Getting missing infection logs for user 'u/nope-and-why' from infectee 'u/rant-rant-rant'\n",
      "Getting missing infection logs for user 'u/daberle123' from infectee 'u/nope-and-why'\n",
      "Getting missing infection logs for user 'u/Earthquakob' from infectee 'u/daberle123'\n"
     ]
    },
    {
     "name": "stderr",
     "output_type": "stream",
     "text": [
      "Retrying due to 504 status: GET https://oauth.reddit.com/user/Earthquakob/comments\n"
     ]
    },
    {
     "name": "stdout",
     "output_type": "stream",
     "text": [
      "Getting missing infection logs for user 'u/MarinusT_0111' from infectee 'u/daberle123'\n",
      "Getting missing infection logs for user 'u/alecgu3' from infectee 'u/daberle123'\n"
     ]
    },
    {
     "name": "stderr",
     "output_type": "stream",
     "text": [
      "Retrying due to 504 status: GET https://oauth.reddit.com/api/info/\n",
      "Retrying due to 504 status: GET https://oauth.reddit.com/api/info/\n"
     ]
    },
    {
     "name": "stdout",
     "output_type": "stream",
     "text": [
      "Getting missing infection logs for user 'u/CeasingCorgi3' from infectee 'u/_insert_Nick_here_'\n",
      "Getting missing infection logs for user 'u/BmartUSA' from infectee 'u/_insert_Nick_here_'\n"
     ]
    },
    {
     "name": "stderr",
     "output_type": "stream",
     "text": [
      "Retrying due to 504 status: GET https://oauth.reddit.com/comments/ca9ed9/\n"
     ]
    },
    {
     "name": "stdout",
     "output_type": "stream",
     "text": [
      "Getting missing infection logs for user 'u/KingHalt234676' from infectee 'u/AlexysYoung'\n",
      "Getting missing infection logs for user 'u/xdLukas' from infectee 'u/KingHalt234676'\n",
      "Getting missing infection logs for user 'u/baergboy' from infectee 'u/xdLukas'\n",
      "Getting missing infection logs for user 'u/Burlytown-20' from infectee 'u/baergboy'\n",
      "Recursive error: Failed to find missing links for infector 'u/baergboy'\n",
      "Getting missing infection logs for user 'u/Niken272' from infectee 'u/KingHalt234676'\n",
      "Getting missing infection logs for user 'u/Flying_Fish115' from infectee 'u/KingHalt234676'\n",
      "Getting missing infection logs for user 'u/Emapolve8' from infectee 'u/Flying_Fish115'\n",
      "Getting missing infection logs for user 'u/y-fella' from infectee 'u/jimmydcriket'\n",
      "Getting missing infection logs for user 'u/Tiegoo2' from infectee 'u/y-fella'\n"
     ]
    },
    {
     "name": "stderr",
     "output_type": "stream",
     "text": [
      "Retrying due to 504 status: GET https://oauth.reddit.com/api/info/\n"
     ]
    },
    {
     "name": "stdout",
     "output_type": "stream",
     "text": [
      "Getting missing infection logs for user 'u/DatHorsebo1' from infectee 'u/Tiegoo2'\n",
      "Getting missing infection logs for user 'u/epilstee' from infectee 'u/DatHorsebo1'\n",
      "Getting missing infection logs for user 'u/JauntyKnight' from infectee 'u/epilstee'\n",
      "Getting missing infection logs for user 'u/HokageOfAmerica' from infectee 'u/JauntyKnight'\n",
      "Getting missing infection logs for user 'u/lezappaz' from infectee 'u/HokageOfAmerica'\n",
      "Getting missing infection logs for user 'u/theQuaker92' from infectee 'u/lezappaz'\n",
      "Getting missing infection logs for user 'u/SteveTartar' from infectee 'u/lezappaz'\n",
      "Getting missing infection logs for user 'u/DaFreakingFox' from infectee 'u/DatHorsebo1'\n",
      "Getting missing infection logs for user 'u/a_turtle_boi' from infectee 'u/DatHorsebo1'\n",
      "Getting missing infection logs for user 'u/angryshoopdawoop' from infectee 'u/a_turtle_boi'\n",
      "Getting missing infection logs for user 'u/respondingarthur' from infectee 'u/angryshoopdawoop'\n",
      "Getting missing infection logs for user 'u/M_add0x' from infectee 'u/respondingarthur'\n",
      "Getting missing infection logs for user 'u/corvenal' from infectee 'u/jimmydcriket'\n",
      "Getting missing infection logs for user 'u/AeonianAura' from infectee 'u/corvenal'\n",
      "Getting missing infection logs for user 'u/jayxlmao' from infectee 'u/AeonianAura'\n",
      "Getting missing infection logs for user 'u/xandermalicious' from infectee 'u/jayxlmao'\n",
      "Getting missing infection logs for user 'u/GiggleFish3' from infectee 'u/jayxlmao'\n",
      "Getting missing infection logs for user 'u/MidwestCoastalBand' from infectee 'u/GiggleFish3'\n",
      "Getting missing infection logs for user 'u/andreimrvlach' from infectee 'u/MidwestCoastalBand'\n",
      "Getting missing infection logs for user 'u/SludgyWudgy' from infectee 'u/andreimrvlach'\n",
      "Getting missing infection logs for user 'u/sayko666' from infectee 'u/SludgyWudgy'\n",
      "Getting missing infection logs for user 'u/TheMemeGod3' from infectee 'u/andreimrvlach'\n",
      "Getting missing infection logs for user 'u/AdamantArmadillo' from infectee 'u/TheMemeGod3'\n"
     ]
    },
    {
     "name": "stderr",
     "output_type": "stream",
     "text": [
      "Retrying due to 504 status: GET https://oauth.reddit.com/comments/eseo9t/\n"
     ]
    },
    {
     "name": "stdout",
     "output_type": "stream",
     "text": [
      "Getting missing infection logs for user 'u/colbywankenobi0' from infectee 'u/MidwestCoastalBand'\n",
      "Getting missing infection logs for user 'u/BoomBug' from infectee 'u/colbywankenobi0'\n",
      "Getting missing infection logs for user 'u/timmy-long' from infectee 'u/jayxlmao'\n",
      "Getting missing infection logs for user 'u/fersanityyy' from infectee 'u/jayxlmao'\n",
      "Getting missing infection logs for user 'u/mary7roses' from infectee 'u/fersanityyy'\n",
      "Recursive error: Failed to find missing links for infector 'u/mary7roses'\n",
      "Getting missing infection logs for user 'u/charmsiren' from infectee 'u/corvenal'\n",
      "Getting missing infection logs for user 'u/GerardWaysBloodDonor' from infectee 'u/corvenal'\n",
      "Recursive error: Failed to find missing links for infector 'u/GerardWaysBloodDonor'\n"
     ]
    },
    {
     "name": "stderr",
     "output_type": "stream",
     "text": [
      "Retrying due to 504 status: GET https://oauth.reddit.com/api/info/\n"
     ]
    },
    {
     "name": "stdout",
     "output_type": "stream",
     "text": [
      "Getting missing infection logs for user 'u/im-got-no-insides' from infectee 'u/jimmydcriket'\n",
      "Getting missing infection logs for user 'u/DespacitoNumber88' from infectee 'u/im-got-no-insides'\n",
      "Getting missing infection logs for user 'u/VanashinGlory' from infectee 'u/jimmydcriket'\n",
      "Getting missing infection logs for user 'u/joseph-mother-49' from infectee 'u/VanashinGlory'\n",
      "Getting missing infection logs for user 'u/ElMachoDelSracko' from infectee 'u/VanashinGlory'\n",
      "Getting missing infection logs for user 'u/cArLiE506' from infectee 'u/VanashinGlory'\n",
      "Getting missing infection logs for user 'u/HammyKA' from infectee 'u/cArLiE506'\n",
      "Getting missing infection logs for user 'u/rossvalve' from infectee 'u/HammyKA'\n",
      "Getting missing infection logs for user 'u/ifdhjekekfn-' from infectee 'u/rossvalve'\n",
      "Getting missing infection logs for user 'u/LingLing40hrs' from infectee 'u/rossvalve'\n",
      "Getting missing infection logs for user 'u/fruity_cups' from infectee 'u/cArLiE506'\n",
      "Getting missing infection logs for user 'u/Cenzho' from infectee 'u/VanashinGlory'\n",
      "Getting missing infection logs for user 'u/LucasX1002_br' from infectee 'u/VanashinGlory'\n",
      "Getting missing infection logs for user 'u/Avitha101' from infectee 'u/LucasX1002_br'\n",
      "Getting missing infection logs for user 'u/odaxboi' from infectee 'u/Avitha101'\n",
      "Getting missing infection logs for user 'u/ademalawer' from infectee 'u/Avitha101'\n",
      "Getting missing infection logs for user 'u/Kerimio' from infectee 'u/ademalawer'\n",
      "Getting missing infection logs for user 'u/Oli15768' from infectee 'u/Kerimio'\n",
      "Recursive error: Failed to find missing links for infector 'u/ademalawer'\n",
      "Getting missing infection logs for user 'u/thedeemedaclown' from infectee 'u/LucasX1002_br'\n",
      "Getting missing infection logs for user 'u/ICELXRD' from infectee 'u/VanashinGlory'\n",
      "Getting missing infection logs for user 'u/SDWGNFLD' from infectee 'u/VanashinGlory'\n",
      "Getting missing infection logs for user 'u/ZezoGhandoor' from infectee 'u/SDWGNFLD'\n",
      "Getting missing infection logs for user 'u/Hdobfjsiv' from infectee 'u/ZezoGhandoor'\n",
      "Getting missing infection logs for user 'u/notreallymoz' from infectee 'u/Hdobfjsiv'\n",
      "Getting missing infection logs for user 'u/Eddix17' from infectee 'u/ZezoGhandoor'\n",
      "Recursive error: Failed to find missing links for infector 'u/Eddix17'\n",
      "Getting missing infection logs for user 'u/IAmAddictedToHentai' from infectee 'u/SDWGNFLD'\n"
     ]
    },
    {
     "name": "stderr",
     "output_type": "stream",
     "text": [
      "Retrying due to 504 status: GET https://oauth.reddit.com/comments/ejctgt/\n"
     ]
    },
    {
     "name": "stdout",
     "output_type": "stream",
     "text": [
      "Getting missing infection logs for user 'u/TheOnly1Savag3' from infectee 'u/VanashinGlory'\n",
      "Getting missing infection logs for user 'u/SamiSwoosh' from infectee 'u/VanashinGlory'\n",
      "Getting missing infection logs for user 'u/Memefan12369420666' from infectee 'u/VanashinGlory'\n",
      "Getting missing infection logs for user 'u/miznix25' from infectee 'u/Memefan12369420666'\n",
      "Getting missing infection logs for user 'u/bhimsical' from infectee 'u/VanashinGlory'\n",
      "Getting missing infection logs for user 'u/octopus2208' from infectee 'u/VanashinGlory'\n",
      "Getting missing infection logs for user 'u/Zedia_' from infectee 'u/octopus2208'\n",
      "Getting missing infection logs for user 'u/kirpi42' from infectee 'u/octopus2208'\n",
      "Recursive error: Failed to find missing links for infector 'u/kirpi42'\n",
      "Getting missing infection logs for user 'u/Comrade_Achraf7' from infectee 'u/jimmydcriket'\n",
      "Getting missing infection logs for user 'u/TypicalGrammarNazi' from infectee 'u/jimmydcriket'\n",
      "Recursive error: Failed to find missing links for infector 'u/TypicalGrammarNazi'\n",
      "Getting missing infection logs for user 'u/GG_SKYNET' from infectee 'u/jimmydcriket'\n",
      "Getting missing infection logs for user 'u/RamBig55small' from infectee 'u/jimmydcriket'\n",
      "Getting missing infection logs for user 'u/Wolfeiz64' from infectee 'u/jimmydcriket'\n",
      "Getting missing infection logs for user 'u/BurntChaos' from infectee 'u/Wolfeiz64'\n",
      "Recursive error: Failed to find missing links for infector 'u/BurntChaos'\n",
      "Getting missing infection logs for user 'u/dzertus' from infectee 'u/jimmydcriket'\n",
      "Recursive error: Failed to find missing links for infector 'u/dzertus'\n",
      "Getting missing infection logs for user 'u/Trashpanda4827' from infectee 'u/jimmydcriket'\n",
      "Getting missing infection logs for user 'u/Cactus228' from infectee 'u/Trashpanda4827'\n",
      "Recursive error: Failed to find missing links for infector 'u/Trashpanda4827'\n",
      "Getting missing infection logs for user 'u/HarleyBabuy' from infectee 'u/jimmydcriket'\n",
      "Getting missing infection logs for user 'u/ssj4_fp_gogeta' from infectee 'u/HarleyBabuy'\n",
      "Recursive error: Failed to find missing links for infector 'u/HarleyBabuy'\n",
      "Getting missing infection logs for user 'u/vendingmachine69' from infectee 'u/jimmydcriket'\n",
      "Recursive error: Failed to find missing links for infector 'u/vendingmachine69'\n",
      "Getting missing infection logs for user 'u/iam_inevtable' from infectee 'u/jimmydcriket'\n",
      "Getting missing infection logs for user 'u/hooman_not_rubutt' from infectee 'u/iam_inevtable'\n"
     ]
    },
    {
     "name": "stderr",
     "output_type": "stream",
     "text": [
      "Retrying due to 500 status: GET https://oauth.reddit.com/comments/eo1ult/\n"
     ]
    },
    {
     "name": "stdout",
     "output_type": "stream",
     "text": [
      "Getting missing infection logs for user 'u/Tackerta' from infectee 'None'\n",
      "Getting missing infection logs for user 'u/Kirby-For-Life05' from infectee 'None'\n",
      "Failed to get comments for user 'u/Kirby-For-Life05': received 403 HTTP response\n",
      "Getting missing infection logs for user 'u/biggested304' from infectee 'None'\n"
     ]
    },
    {
     "name": "stderr",
     "output_type": "stream",
     "text": [
      "Retrying due to 504 status: GET https://oauth.reddit.com/api/info/\n"
     ]
    },
    {
     "name": "stdout",
     "output_type": "stream",
     "text": [
      "Getting missing infection logs for user 'u/kiIIcharge' from infectee 'None'\n",
      "Getting missing infection logs for user 'u/FivesG' from infectee 'None'\n",
      "Getting missing infection logs for user 'u/Vishvraj' from infectee 'None'\n",
      "Getting missing infection logs for user 'u/spiritually_deceased' from infectee 'None'\n",
      "Getting missing infection logs for user 'u/Subhan75' from infectee 'u/spiritually_deceased'\n",
      "Getting missing infection logs for user 'u/colbywankenobi0' from infectee 'None'\n",
      "Getting missing infection logs for user 'u/PhenomenalOneZ' from infectee 'None'\n",
      "Getting missing infection logs for user 'u/GiantRobotDeadpool12' from infectee 'None'\n",
      "Getting missing infection logs for user 'u/mb032475' from infectee 'None'\n"
     ]
    },
    {
     "name": "stderr",
     "output_type": "stream",
     "text": [
      "Retrying due to 504 status: GET https://oauth.reddit.com/api/info/\n"
     ]
    },
    {
     "name": "stdout",
     "output_type": "stream",
     "text": [
      "Getting missing infection logs for user 'u/theMeatman7' from infectee 'None'\n",
      "Getting missing infection logs for user 'u/p0g0s71ck' from infectee 'None'\n"
     ]
    },
    {
     "name": "stderr",
     "output_type": "stream",
     "text": [
      "Retrying due to 504 status: GET https://oauth.reddit.com/comments/f2tpto/\n"
     ]
    },
    {
     "name": "stdout",
     "output_type": "stream",
     "text": [
      "Getting missing infection logs for user 'u/benben1492' from infectee 'u/p0g0s71ck'\n",
      "Getting missing infection logs for user 'u/kickmore007' from infectee 'u/benben1492'\n",
      "Getting missing infection logs for user 'u/MapleSyrupSquirrel' from infectee 'None'\n",
      "Failed to find missing links for infector 'u/MapleSyrupSquirrel'\n",
      "Getting missing infection logs for user 'u/AutisthicccGuy' from infectee 'None'\n",
      "Getting missing infection logs for user 'u/Chong_Long_Dong' from infectee 'None'\n"
     ]
    },
    {
     "name": "stderr",
     "output_type": "stream",
     "text": [
      "Retrying due to 504 status: GET https://oauth.reddit.com/api/info/\n"
     ]
    },
    {
     "name": "stdout",
     "output_type": "stream",
     "text": [
      "Getting missing infection logs for user 'u/imperial-germany3' from infectee 'u/Chong_Long_Dong'\n",
      "Getting missing infection logs for user 'u/Chong_Long_Dong' from infectee 'u/imperial-germany3'\n",
      "Getting missing infection logs for user 'u/djdvelo22' from infectee 'u/Chong_Long_Dong'\n",
      "Getting missing infection logs for user 'u/fellowmonarchist' from infectee 'u/Chong_Long_Dong'\n",
      "Getting missing infection logs for user 'u/dalo6126' from infectee 'u/fellowmonarchist'\n",
      "Getting missing infection logs for user 'u/Gandereche' from infectee 'u/dalo6126'\n",
      "Getting missing infection logs for user 'u/Tako-Su' from infectee 'u/Chong_Long_Dong'\n",
      "Getting missing infection logs for user 'u/why_am_i_alive227' from infectee 'u/Tako-Su'\n"
     ]
    },
    {
     "name": "stderr",
     "output_type": "stream",
     "text": [
      "Retrying due to 504 status: GET https://oauth.reddit.com/api/info/\n",
      "Retrying due to 504 status: GET https://oauth.reddit.com/comments/elw59r/\n"
     ]
    },
    {
     "name": "stdout",
     "output_type": "stream",
     "text": [
      "Getting missing infection logs for user 'u/Names-all-taken' from infectee 'u/imperial-germany3'\n",
      "Getting missing infection logs for user 'u/Vlad-uf-complexity' from infectee 'u/Names-all-taken'\n",
      "Getting missing infection logs for user 'u/Thelostlegend10' from infectee 'u/Names-all-taken'\n",
      "Getting missing infection logs for user 'u/HeartOfGold02' from infectee 'None'\n"
     ]
    },
    {
     "name": "stderr",
     "output_type": "stream",
     "text": [
      "Retrying due to 504 status: GET https://oauth.reddit.com/comments/f51z7o/\n"
     ]
    },
    {
     "name": "stdout",
     "output_type": "stream",
     "text": [
      "Getting missing infection logs for user 'u/thetrueSG' from infectee 'None'\n",
      "Getting missing infection logs for user 'u/koolaidman28' from infectee 'u/thetrueSG'\n",
      "Getting missing infection logs for user 'u/genie_on_a_porcini' from infectee 'u/koolaidman28'\n",
      "Getting missing infection logs for user 'u/thetrueSG' from infectee 'u/koolaidman28'\n",
      "Getting missing infection logs for user 'u/_wazzupp_' from infectee 'None'\n",
      "Getting missing infection logs for user 'u/Drodr10' from infectee 'None'\n"
     ]
    },
    {
     "name": "stderr",
     "output_type": "stream",
     "text": [
      "Retrying due to 504 status: GET https://oauth.reddit.com/api/info/\n"
     ]
    },
    {
     "name": "stdout",
     "output_type": "stream",
     "text": [
      "Failed to find missing links for infector 'u/Drodr10'\n",
      "Getting missing infection logs for user 'u/IllegalBruhDealer' from infectee 'None'\n",
      "Getting missing infection logs for user 'u/shreygay123' from infectee 'None'\n",
      "Failed to find missing links for infector 'u/shreygay123'\n",
      "Getting missing infection logs for user 'u/cyberdrugs' from infectee 'None'\n",
      "Getting missing infection logs for user 'u/immortalshadows4334' from infectee 'u/cyberdrugs'\n",
      "Getting missing infection logs for user 'u/DieHarD04' from infectee 'u/immortalshadows4334'\n",
      "Failed to find missing links for infector 'u/cyberdrugs'\n",
      "Getting missing infection logs for user 'u/BeardPhile' from infectee 'None'\n",
      "Getting missing infection logs for user 'u/ItsSynnoX' from infectee 'u/BeardPhile'\n",
      "Getting missing infection logs for user 'u/BeardPhile' from infectee 'u/ItsSynnoX'\n"
     ]
    },
    {
     "name": "stderr",
     "output_type": "stream",
     "text": [
      "Retrying due to 504 status: GET https://oauth.reddit.com/api/info/\n"
     ]
    },
    {
     "name": "stdout",
     "output_type": "stream",
     "text": [
      "Recursive error: Failed to find missing links for infector 'u/BeardPhile'\n",
      "Getting missing infection logs for user 'u/RandomKonong' from infectee 'u/ItsSynnoX'\n",
      "Failed to find missing links for infector 'u/BeardPhile'\n",
      "Getting missing infection logs for user 'u/Scarecrow_1912' from infectee 'None'\n",
      "Getting missing infection logs for user 'u/ItsSynnoX' from infectee 'None'\n",
      "Getting missing infection logs for user 'u/GloryToDucks39' from infectee 'None'\n",
      "Getting missing infection logs for user 'u/yee3009' from infectee 'None'\n",
      "Getting missing infection logs for user 'u/Darkess_Nightmare' from infectee 'u/yee3009'\n",
      "Getting missing infection logs for user 'u/bigmannn69' from infectee 'u/yee3009'\n",
      "Getting missing infection logs for user 'u/yee3009' from infectee 'u/bigmannn69'\n",
      "Getting missing infection logs for user 'u/UnKnOwNLIKER' from infectee 'None'\n"
     ]
    },
    {
     "name": "stderr",
     "output_type": "stream",
     "text": [
      "Retrying due to 504 status: GET https://oauth.reddit.com/comments/fokw9n/\n"
     ]
    },
    {
     "name": "stdout",
     "output_type": "stream",
     "text": [
      "Getting missing infection logs for user 'u/NotFunnyBuddy' from infectee 'None'\n"
     ]
    },
    {
     "name": "stderr",
     "output_type": "stream",
     "text": [
      "Retrying due to 504 status: GET https://oauth.reddit.com/comments/d7uwtn/\n"
     ]
    },
    {
     "name": "stdout",
     "output_type": "stream",
     "text": [
      "Getting missing infection logs for user 'u/Sweatytowelz' from infectee 'None'\n",
      "Getting missing infection logs for user 'u/red5478' from infectee 'u/Sweatytowelz'\n",
      "Getting missing infection logs for user 'u/mrbagal' from infectee 'u/red5478'\n",
      "Getting missing infection logs for user 'u/PulsarPlayzYT' from infectee 'u/mrbagal'\n",
      "Getting missing infection logs for user 'u/GroovingPict' from infectee 'u/PulsarPlayzYT'\n",
      "Getting missing infection logs for user 'u/Zac929' from infectee 'u/PulsarPlayzYT'\n",
      "Getting missing infection logs for user 'u/GreyIII' from infectee 'u/mrbagal'\n",
      "Getting missing infection logs for user 'u/SirQwacksAlot' from infectee 'None'\n",
      "Failed to find missing links for infector 'u/SirQwacksAlot'\n",
      "Getting missing infection logs for user 'u/themangoperson' from infectee 'None'\n",
      "Getting missing infection logs for user 'u/jontrop' from infectee 'None'\n",
      "Getting missing infection logs for user 'u/NewBoySam' from infectee 'u/jontrop'\n",
      "Getting missing infection logs for user 'u/Gavittz' from infectee 'u/NewBoySam'\n"
     ]
    },
    {
     "name": "stderr",
     "output_type": "stream",
     "text": [
      "Retrying due to 504 status: GET https://oauth.reddit.com/api/info/\n"
     ]
    },
    {
     "name": "stdout",
     "output_type": "stream",
     "text": [
      "Getting missing infection logs for user 'u/Aspiring_Lich' from infectee 'u/NewBoySam'\n",
      "Getting missing infection logs for user 'u/Fusion03' from infectee 'u/Aspiring_Lich'\n",
      "Getting missing infection logs for user 'u/Macdaboss' from infectee 'u/NewBoySam'\n"
     ]
    },
    {
     "name": "stderr",
     "output_type": "stream",
     "text": [
      "Retrying due to 504 status: GET https://oauth.reddit.com/api/info/\n"
     ]
    },
    {
     "name": "stdout",
     "output_type": "stream",
     "text": [
      "Getting missing infection logs for user 'u/blalalbaba' from infectee 'u/NewBoySam'\n",
      "Getting missing infection logs for user 'u/inspired136' from infectee 'u/NewBoySam'\n"
     ]
    },
    {
     "name": "stderr",
     "output_type": "stream",
     "text": [
      "Retrying due to 504 status: GET https://oauth.reddit.com/api/info/\n"
     ]
    },
    {
     "name": "stdout",
     "output_type": "stream",
     "text": [
      "Getting missing infection logs for user 'u/Brewtality76' from infectee 'u/NewBoySam'\n",
      "Getting missing infection logs for user 'u/Komrade97' from infectee 'u/Brewtality76'\n",
      "Getting missing infection logs for user 'u/Moj21356' from infectee 'u/NewBoySam'\n",
      "Getting missing infection logs for user 'u/RN_FADED' from infectee 'u/Moj21356'\n",
      "Getting missing infection logs for user 'u/JstTamer' from infectee 'u/RN_FADED'\n"
     ]
    },
    {
     "name": "stderr",
     "output_type": "stream",
     "text": [
      "Retrying due to 504 status: GET https://oauth.reddit.com/api/info/\n"
     ]
    },
    {
     "name": "stdout",
     "output_type": "stream",
     "text": [
      "Getting missing infection logs for user 'u/usb' from infectee 'u/Moj21356'\n",
      "Recursive error: Failed to get comments for user 'u/usb': received 404 HTTP response\n",
      "Getting missing infection logs for user 'u/HellorHeavens' from infectee 'u/NewBoySam'\n",
      "Getting missing infection logs for user 'u/Fractured_Nova' from infectee 'u/HellorHeavens'\n",
      "Getting missing infection logs for user 'u/Nutella-The-Hun-' from infectee 'u/Fractured_Nova'\n",
      "Recursive error: Failed to find missing links for infector 'u/Nutella-The-Hun-'\n",
      "Getting missing infection logs for user 'u/BoomBug' from infectee 'None'\n",
      "Getting missing infection logs for user 'u/casualgamer71' from infectee 'None'\n",
      "Getting missing infection logs for user 'u/Bit_of_a_Hater' from infectee 'None'\n",
      "Getting missing infection logs for user 'u/Rocketlock27' from infectee 'u/Bit_of_a_Hater'\n",
      "Getting missing infection logs for user 'u/HeinrichHimmler69420' from infectee 'u/Rocketlock27'\n",
      "Getting missing infection logs for user 'u/Bit_of_a_Hater' from infectee 'u/Rocketlock27'\n"
     ]
    },
    {
     "name": "stderr",
     "output_type": "stream",
     "text": [
      "Retrying due to 504 status: GET https://oauth.reddit.com/api/info/\n"
     ]
    },
    {
     "name": "stdout",
     "output_type": "stream",
     "text": [
      "Getting missing infection logs for user 'u/Cottoncandyskiesthrw' from infectee 'None'\n",
      "Getting missing infection logs for user 'u/sakzeroone' from infectee 'u/Cottoncandyskiesthrw'\n",
      "Failed to find missing links for infector 'u/Cottoncandyskiesthrw'\n",
      "Getting missing infection logs for user 'u/kidrah2201' from infectee 'None'\n",
      "Getting missing infection logs for user 'u/SeaSmokie' from infectee 'None'\n",
      "Getting missing infection logs for user 'u/isyankar1979' from infectee 'u/SeaSmokie'\n",
      "Getting missing infection logs for user 'u/SeaSmokie' from infectee 'u/isyankar1979'\n",
      "Getting missing infection logs for user 'u/1beachedwhale1' from infectee 'u/SeaSmokie'\n",
      "Getting missing infection logs for user 'u/Spongy21' from infectee 'u/SeaSmokie'\n",
      "Getting missing infection logs for user 'u/emofather' from infectee 'u/SeaSmokie'\n",
      "Getting missing infection logs for user 'u/osasuna' from infectee 'u/SeaSmokie'\n",
      "Getting missing infection logs for user 'u/sameer0000001' from infectee 'u/osasuna'\n",
      "Getting missing infection logs for user 'u/KarenOfficial' from infectee 'None'\n",
      "Getting missing infection logs for user 'u/Xc4lib3r' from infectee 'u/KarenOfficial'\n",
      "Getting missing infection logs for user 'u/CrunchyAl' from infectee 'u/Xc4lib3r'\n",
      "Getting missing infection logs for user 'u/Hrxcky' from infectee 'None'\n",
      "Getting missing infection logs for user 'u/Something_Syck' from infectee 'None'\n"
     ]
    },
    {
     "name": "stderr",
     "output_type": "stream",
     "text": [
      "Retrying due to 504 status: GET https://oauth.reddit.com/user/Something_Syck/comments\n"
     ]
    },
    {
     "name": "stdout",
     "output_type": "stream",
     "text": [
      "Getting missing infection logs for user 'u/drewmanchu74' from infectee 'None'\n",
      "Getting missing infection logs for user 'u/Just-a-n0body' from infectee 'u/drewmanchu74'\n",
      "Getting missing infection logs for user 'u/dash_smash' from infectee 'u/Just-a-n0body'\n",
      "Getting missing infection logs for user 'u/CleebHistoryGuy' from infectee 'u/dash_smash'\n",
      "Getting missing infection logs for user 'u/Plapadus' from infectee 'u/CleebHistoryGuy'\n",
      "Getting missing infection logs for user 'u/kylerbentley' from infectee 'u/Plapadus'\n",
      "Getting missing infection logs for user 'u/diamontigressa' from infectee 'u/dash_smash'\n"
     ]
    },
    {
     "name": "stderr",
     "output_type": "stream",
     "text": [
      "Retrying due to 504 status: GET https://oauth.reddit.com/user/diamontigressa/comments\n",
      "Retrying due to 504 status: GET https://oauth.reddit.com/api/info/\n",
      "Retrying due to 504 status: GET https://oauth.reddit.com/api/info/\n",
      "Retrying due to 504 status: GET https://oauth.reddit.com/comments/c6iykn/\n"
     ]
    },
    {
     "name": "stdout",
     "output_type": "stream",
     "text": [
      "Getting missing infection logs for user 'u/Mighty_Zhdun' from infectee 'u/drewmanchu74'\n",
      "Getting missing infection logs for user 'u/xMemester666' from infectee 'u/Mighty_Zhdun'\n",
      "Recursive error: Failed to find missing links for infector 'u/xMemester666'\n",
      "Failed to find missing links for infector 'u/drewmanchu74'\n",
      "Getting missing infection logs for user 'u/ruilybro' from infectee 'None'\n",
      "Failed to find missing links for infector 'u/ruilybro'\n",
      "Getting missing infection logs for user 'u/PersonMan6000' from infectee 'None'\n",
      "Getting missing infection logs for user 'u/disappointedtaci' from infectee 'None'\n",
      "Getting missing infection logs for user 'u/lolyouseriousxoxo' from infectee 'u/disappointedtaci'\n",
      "Getting missing infection logs for user 'u/DeadDogBurgers' from infectee 'u/lolyouseriousxoxo'\n",
      "Getting missing infection logs for user 'u/shaquillesleftarm' from infectee 'u/DeadDogBurgers'\n",
      "Getting missing infection logs for user 'u/icysnowman19' from infectee 'u/shaquillesleftarm'\n"
     ]
    },
    {
     "name": "stderr",
     "output_type": "stream",
     "text": [
      "Retrying due to 504 status: GET https://oauth.reddit.com/comments/d319qj/\n"
     ]
    },
    {
     "name": "stdout",
     "output_type": "stream",
     "text": [
      "Getting missing infection logs for user 'u/ToastedForkForDinner' from infectee 'u/disappointedtaci'\n",
      "Getting missing infection logs for user 'u/CUP_Official' from infectee 'u/ToastedForkForDinner'\n",
      "Getting missing infection logs for user 'u/LeaveWithAStickyShoe' from infectee 'u/CUP_Official'\n",
      "Getting missing infection logs for user 'u/RllyGudGuy' from infectee 'u/LeaveWithAStickyShoe'\n",
      "Getting missing infection logs for user 'u/CaterpillarThriller' from infectee 'u/RllyGudGuy'\n",
      "Getting missing infection logs for user 'u/Secret_CZECH' from infectee 'u/CaterpillarThriller'\n"
     ]
    },
    {
     "name": "stderr",
     "output_type": "stream",
     "text": [
      "Retrying due to 504 status: GET https://oauth.reddit.com/comments/f0q2el/\n"
     ]
    },
    {
     "name": "stdout",
     "output_type": "stream",
     "text": [
      "Getting missing infection logs for user 'u/Solid-Snack-e' from infectee 'u/RllyGudGuy'\n"
     ]
    },
    {
     "name": "stderr",
     "output_type": "stream",
     "text": [
      "Retrying due to 504 status: GET https://oauth.reddit.com/api/info/\n"
     ]
    },
    {
     "name": "stdout",
     "output_type": "stream",
     "text": [
      "Getting missing infection logs for user 'u/applejooooose' from infectee 'u/ToastedForkForDinner'\n",
      "Getting missing infection logs for user 'u/Rich_YT' from infectee 'u/applejooooose'\n",
      "Getting missing infection logs for user 'u/DeimossGaming' from infectee 'u/Rich_YT'\n",
      "Getting missing infection logs for user 'u/PunntheGreat' from infectee 'None'\n",
      "Getting missing infection logs for user 'u/ETHEKILLER' from infectee 'None'\n",
      "Getting missing infection logs for user 'u/Kirby-For-Life05' from infectee 'u/ETHEKILLER'\n",
      "Recursive error: Failed to get comments for user 'u/Kirby-For-Life05': received 403 HTTP response\n",
      "Getting missing infection logs for user 'u/Carvinski' from infectee 'u/ETHEKILLER'\n",
      "Getting missing infection logs for user 'u/Minibotas' from infectee 'u/Carvinski'\n"
     ]
    },
    {
     "name": "stderr",
     "output_type": "stream",
     "text": [
      "Retrying due to 504 status: GET https://oauth.reddit.com/comments/fet7lj/\n"
     ]
    },
    {
     "name": "stdout",
     "output_type": "stream",
     "text": [
      "Getting missing infection logs for user 'u/level100brad' from infectee 'u/ETHEKILLER'\n",
      "Getting missing infection logs for user 'u/ETHEKILLER' from infectee 'u/level100brad'\n"
     ]
    },
    {
     "name": "stderr",
     "output_type": "stream",
     "text": [
      "Retrying due to 504 status: GET https://oauth.reddit.com/api/info/\n",
      "Retrying due to 504 status: GET https://oauth.reddit.com/comments/fh5i32/\n"
     ]
    },
    {
     "name": "stdout",
     "output_type": "stream",
     "text": [
      "Failed to find missing links for infector 'u/ETHEKILLER'\n",
      "Getting missing infection logs for user 'u/Yusuri-San' from infectee 'None'\n",
      "Getting missing infection logs for user 'u/kink_creamson' from infectee 'u/Yusuri-San'\n",
      "Getting missing infection logs for user 'u/Yusuri-San' from infectee 'u/kink_creamson'\n",
      "Getting missing infection logs for user 'u/Trupfbuur' from infectee 'u/Yusuri-San'\n",
      "Getting missing infection logs for user 'u/deReluctantKing' from infectee 'u/Yusuri-San'\n",
      "Getting missing infection logs for user 'u/Ojas0123' from infectee 'u/deReluctantKing'\n",
      "Getting missing infection logs for user 'u/FGreyleaf' from infectee 'u/deReluctantKing'\n",
      "Getting missing infection logs for user 'u/greatking6009' from infectee 'None'\n"
     ]
    },
    {
     "name": "stderr",
     "output_type": "stream",
     "text": [
      "Retrying due to 504 status: GET https://oauth.reddit.com/api/info/\n"
     ]
    },
    {
     "name": "stdout",
     "output_type": "stream",
     "text": [
      "Getting missing infection logs for user 'u/BaclavaBoyEnlou' from infectee 'u/greatking6009'\n",
      "Getting missing infection logs for user 'u/Bluuet' from infectee 'u/BaclavaBoyEnlou'\n",
      "Getting missing infection logs for user 'u/dnk-onri' from infectee 'u/Bluuet'\n",
      "Getting missing infection logs for user 'u/SH4D0W0733' from infectee 'u/dnk-onri'\n",
      "Getting missing infection logs for user 'u/AlternativeCondition' from infectee 'u/SH4D0W0733'\n",
      "Getting missing infection logs for user 'u/gpassi' from infectee 'u/AlternativeCondition'\n",
      "Recursive error: Failed to find missing links for infector 'u/SH4D0W0733'\n"
     ]
    },
    {
     "name": "stderr",
     "output_type": "stream",
     "text": [
      "Retrying due to 504 status: GET https://oauth.reddit.com/comments/dz6cf9/\n"
     ]
    },
    {
     "name": "stdout",
     "output_type": "stream",
     "text": [
      "Recursive error: Failed to find missing links for infector 'u/dnk-onri'\n",
      "Getting missing infection logs for user 'u/ZurgoHM' from infectee 'u/Bluuet'\n",
      "Getting missing infection logs for user 'u/Spicy_Stokes' from infectee 'u/ZurgoHM'\n",
      "Getting missing infection logs for user 'u/TECHNOCAT112' from infectee 'None'\n",
      "Getting missing infection logs for user 'u/the-69-guy' from infectee 'None'\n",
      "Getting missing infection logs for user 'u/immortalshadows4334' from infectee 'None'\n"
     ]
    },
    {
     "name": "stderr",
     "output_type": "stream",
     "text": [
      "Retrying due to 504 status: GET https://oauth.reddit.com/api/info/\n"
     ]
    },
    {
     "name": "stdout",
     "output_type": "stream",
     "text": [
      "Failed to find missing links for infector 'u/immortalshadows4334'\n",
      "Getting missing infection logs for user 'u/maplejuice424' from infectee 'None'\n",
      "Getting missing infection logs for user 'u/jgreenshields4554' from infectee 'u/maplejuice424'\n",
      "Getting missing infection logs for user 'u/zerodog111' from infectee 'u/jgreenshields4554'\n",
      "Getting missing infection logs for user 'u/H1TLER_WAS_GOOD' from infectee 'u/jgreenshields4554'\n",
      "Getting missing infection logs for user 'u/ga1ahad02' from infectee 'u/H1TLER_WAS_GOOD'\n",
      "Getting missing infection logs for user 'u/SK570' from infectee 'u/ga1ahad02'\n",
      "Getting missing infection logs for user 'u/kones_6999' from infectee 'u/H1TLER_WAS_GOOD'\n",
      "Recursive error: Failed to find missing links for infector 'u/kones_6999'\n",
      "Getting missing infection logs for user 'u/maplejuice424' from infectee 'u/jgreenshields4554'\n",
      "Getting missing infection logs for user 'u/That_Old_TV' from infectee 'u/maplejuice424'\n",
      "Getting missing infection logs for user 'u/Pathodox' from infectee 'None'\n",
      "Getting missing infection logs for user 'u/ARegularGuy101' from infectee 'u/Pathodox'\n",
      "Getting missing infection logs for user 'u/cheez-it-consumer71' from infectee 'u/ARegularGuy101'\n",
      "Getting missing infection logs for user 'u/Nemesis301' from infectee 'u/cheez-it-consumer71'\n",
      "Getting missing infection logs for user 'u/j4_n1k' from infectee 'u/ARegularGuy101'\n",
      "Getting missing infection logs for user 'u/Lemon_Lord1' from infectee 'u/ARegularGuy101'\n"
     ]
    },
    {
     "name": "stderr",
     "output_type": "stream",
     "text": [
      "Retrying due to 504 status: GET https://oauth.reddit.com/api/info/\n"
     ]
    },
    {
     "name": "stdout",
     "output_type": "stream",
     "text": [
      "Getting missing infection logs for user 'u/LONELYTMex' from infectee 'u/ARegularGuy101'\n",
      "Getting missing infection logs for user 'u/mouldwarp' from infectee 'u/LONELYTMex'\n",
      "Getting missing infection logs for user 'u/BubGear' from infectee 'u/LONELYTMex'\n",
      "Getting missing infection logs for user 'u/Cody_Eastwood' from infectee 'u/BubGear'\n",
      "Getting missing infection logs for user 'u/MegaFez' from infectee 'u/Pathodox'\n",
      "Getting missing infection logs for user 'u/Cigarettes_AND_salad' from infectee 'u/Pathodox'\n",
      "Getting missing infection logs for user 'u/RedTourms' from infectee 'u/Cigarettes_AND_salad'\n",
      "Getting missing infection logs for user 'u/TheDemoRat' from infectee 'u/Cigarettes_AND_salad'\n",
      "Getting missing infection logs for user 'u/KJ0062' from infectee 'u/TheDemoRat'\n",
      "Getting missing infection logs for user 'u/Ethossa79' from infectee 'u/KJ0062'\n",
      "Getting missing infection logs for user 'u/B1GB10' from infectee 'u/Ethossa79'\n",
      "Getting missing infection logs for user 'u/kink_creamson' from infectee 'None'\n"
     ]
    },
    {
     "name": "stderr",
     "output_type": "stream",
     "text": [
      "Retrying due to 504 status: GET https://oauth.reddit.com/api/info/\n"
     ]
    },
    {
     "name": "stdout",
     "output_type": "stream",
     "text": [
      "Getting missing infection logs for user 'u/DieHarD04' from infectee 'None'\n",
      "Getting missing infection logs for user 'u/Sour_Gamer' from infectee 'None'\n",
      "Getting missing infection logs for user 'u/Sex_Shop_Souvenir' from infectee 'None'\n",
      "Getting missing infection logs for user 'u/litterly-jesus' from infectee 'None'\n",
      "Getting missing infection logs for user 'u/IamGrooot77' from infectee 'None'\n",
      "Getting missing infection logs for user 'u/ImJustDubzzz' from infectee 'None'\n"
     ]
    },
    {
     "name": "stderr",
     "output_type": "stream",
     "text": [
      "Retrying due to 504 status: GET https://oauth.reddit.com/api/info/\n"
     ]
    },
    {
     "name": "stdout",
     "output_type": "stream",
     "text": [
      "Failed to find missing links for infector 'u/ImJustDubzzz'\n",
      "Getting missing infection logs for user 'u/Faustonreddit' from infectee 'None'\n",
      "Getting missing infection logs for user 'u/not-a-Shrek' from infectee 'None'\n",
      "Getting missing infection logs for user 'u/sohvos' from infectee 'None'\n",
      "Getting missing infection logs for user 'u/my-name-is-blank' from infectee 'None'\n",
      "Getting missing infection logs for user 'u/DonSab' from infectee 'u/my-name-is-blank'\n",
      "Getting missing infection logs for user 'u/CoochieFister69420' from infectee 'u/DonSab'\n",
      "Getting missing infection logs for user 'u/neopolitam' from infectee 'None'\n",
      "Getting missing infection logs for user 'u/young_yeehaw1' from infectee 'None'\n",
      "Getting missing infection logs for user 'u/UncleRetard' from infectee 'u/young_yeehaw1'\n",
      "Getting missing infection logs for user 'u/Lucabanana19' from infectee 'u/young_yeehaw1'\n",
      "Getting missing infection logs for user 'u/Oli15768' from infectee 'None'\n"
     ]
    },
    {
     "name": "stderr",
     "output_type": "stream",
     "text": [
      "Retrying due to 504 status: GET https://oauth.reddit.com/api/info/\n"
     ]
    },
    {
     "name": "stdout",
     "output_type": "stream",
     "text": [
      "Getting missing infection logs for user 'u/naveen000can' from infectee 'None'\n",
      "Getting missing infection logs for user 'u/tukboss' from infectee 'None'\n",
      "Getting missing infection logs for user 'u/5amukai' from infectee 'None'\n"
     ]
    },
    {
     "name": "stderr",
     "output_type": "stream",
     "text": [
      "Retrying due to 504 status: GET https://oauth.reddit.com/api/info/\n"
     ]
    },
    {
     "name": "stdout",
     "output_type": "stream",
     "text": [
      "Getting missing infection logs for user 'u/lolking0' from infectee 'None'\n",
      "Getting missing infection logs for user 'u/lil-bruh4206969' from infectee 'None'\n",
      "Getting missing infection logs for user 'u/jrodjh' from infectee 'None'\n",
      "Failed to find missing links for infector 'u/jrodjh'\n",
      "Getting missing infection logs for user 'u/Durmath' from infectee 'None'\n",
      "Getting missing infection logs for user 'u/LeonidtheWill' from infectee 'None'\n",
      "Getting missing infection logs for user 'u/JustMobsReddit' from infectee 'None'\n"
     ]
    },
    {
     "name": "stderr",
     "output_type": "stream",
     "text": [
      "Retrying due to 504 status: GET https://oauth.reddit.com/api/info/\n"
     ]
    },
    {
     "name": "stdout",
     "output_type": "stream",
     "text": [
      "Getting missing infection logs for user 'u/meatball-the-toad' from infectee 'None'\n",
      "Getting missing infection logs for user 'u/farazj4' from infectee 'u/meatball-the-toad'\n",
      "Getting missing infection logs for user 'u/D3monm4n9' from infectee 'u/farazj4'\n",
      "Recursive error: Failed to find missing links for infector 'u/D3monm4n9'\n"
     ]
    },
    {
     "name": "stderr",
     "output_type": "stream",
     "text": [
      "Retrying due to 504 status: GET https://oauth.reddit.com/api/info/\n"
     ]
    },
    {
     "name": "stdout",
     "output_type": "stream",
     "text": [
      "Getting missing infection logs for user 'u/monkeydude0514' from infectee 'u/farazj4'\n",
      "Getting missing infection logs for user 'u/LexaGoodDog' from infectee 'u/farazj4'\n"
     ]
    },
    {
     "name": "stderr",
     "output_type": "stream",
     "text": [
      "Retrying due to 504 status: GET https://oauth.reddit.com/user/farazj4/comments\n"
     ]
    },
    {
     "name": "stdout",
     "output_type": "stream",
     "text": [
      "Getting missing infection logs for user 'u/kajri' from infectee 'None'\n",
      "Getting missing infection logs for user 'u/longlivestheking' from infectee 'None'\n"
     ]
    },
    {
     "name": "stderr",
     "output_type": "stream",
     "text": [
      "Retrying due to 504 status: GET https://oauth.reddit.com/user/longlivestheking/comments\n"
     ]
    },
    {
     "name": "stdout",
     "output_type": "stream",
     "text": [
      "Getting missing infection logs for user 'u/Anoobis100percent' from infectee 'None'\n",
      "Getting missing infection logs for user 'u/schlogumann' from infectee 'None'\n",
      "Getting missing infection logs for user 'u/crazed_titan' from infectee 'None'\n",
      "Getting missing infection logs for user 'u/Ca-Game' from infectee 'None'\n",
      "Getting missing infection logs for user 'u/Uncle_Freddy' from infectee 'None'\n",
      "Getting missing infection logs for user 'u/infamouszoggy' from infectee 'None'\n",
      "Getting missing infection logs for user 'u/CosmicThot500' from infectee 'u/infamouszoggy'\n",
      "Getting missing infection logs for user 'u/Danialbeaster19' from infectee 'u/CosmicThot500'\n",
      "Getting missing infection logs for user 'u/frozen-heart-28' from infectee 'u/CosmicThot500'\n",
      "Getting missing infection logs for user 'u/dashhrafa1' from infectee 'u/frozen-heart-28'\n",
      "Recursive error: Failed to find missing links for infector 'u/dashhrafa1'\n",
      "Getting missing infection logs for user 'u/NeepBeepO_o' from infectee 'u/frozen-heart-28'\n",
      "Recursive error: Failed to find missing links for infector 'u/NeepBeepO_o'\n"
     ]
    },
    {
     "name": "stderr",
     "output_type": "stream",
     "text": [
      "Retrying due to 504 status: GET https://oauth.reddit.com/api/info/\n"
     ]
    },
    {
     "name": "stdout",
     "output_type": "stream",
     "text": [
      "Getting missing infection logs for user 'u/Grrreeen' from infectee 'u/frozen-heart-28'\n"
     ]
    },
    {
     "name": "stderr",
     "output_type": "stream",
     "text": [
      "Retrying due to 504 status: GET https://oauth.reddit.com/comments/az9qln/\n"
     ]
    },
    {
     "name": "stdout",
     "output_type": "stream",
     "text": [
      "Getting missing infection logs for user 'u/lilb3nn0' from infectee 'None'\n",
      "Getting missing infection logs for user 'u/_TheRope' from infectee 'None'\n",
      "Getting missing infection logs for user 'u/leo2k20' from infectee 'None'\n",
      "Getting missing infection logs for user 'u/Garaogu' from infectee 'None'\n",
      "Getting missing infection logs for user 'u/C0uchP0t4tO' from infectee 'None'\n",
      "Getting missing infection logs for user 'u/Swarm474' from infectee 'None'\n",
      "Getting missing infection logs for user 'u/XDLAv5' from infectee 'None'\n",
      "Getting missing infection logs for user 'u/Succulent-Squid' from infectee 'u/XDLAv5'\n",
      "Getting missing infection logs for user 'u/inslatafresca_' from infectee 'None'\n"
     ]
    },
    {
     "name": "stderr",
     "output_type": "stream",
     "text": [
      "Retrying due to 504 status: GET https://oauth.reddit.com/api/info/\n"
     ]
    },
    {
     "name": "stdout",
     "output_type": "stream",
     "text": [
      "Getting missing infection logs for user 'u/jospehjoestar' from infectee 'None'\n",
      "Getting missing infection logs for user 'u/just_hands' from infectee 'u/jospehjoestar'\n",
      "Getting missing infection logs for user 'u/Eydeey' from infectee 'u/just_hands'\n",
      "Recursive error: Failed to find missing links for infector 'u/just_hands'\n",
      "Getting missing infection logs for user 'u/skootus' from infectee 'None'\n",
      "Getting missing infection logs for user 'u/A_shovel_' from infectee 'None'\n",
      "Getting missing infection logs for user 'u/__LemonDemon__' from infectee 'u/A_shovel_'\n",
      "Getting missing infection logs for user 'u/Nits_shnitz' from infectee 'u/A_shovel_'\n",
      "Getting missing infection logs for user 'u/Houdeanie19' from infectee 'None'\n"
     ]
    },
    {
     "name": "stderr",
     "output_type": "stream",
     "text": [
      "Retrying due to 504 status: GET https://oauth.reddit.com/api/info/\n"
     ]
    },
    {
     "name": "stdout",
     "output_type": "stream",
     "text": [
      "Getting missing infection logs for user 'u/Xc4lib3r' from infectee 'None'\n"
     ]
    },
    {
     "name": "stderr",
     "output_type": "stream",
     "text": [
      "Retrying due to 504 status: GET https://oauth.reddit.com/comments/f5wh2m/\n",
      "Retrying due to 504 status: GET https://oauth.reddit.com/api/info/\n"
     ]
    },
    {
     "name": "stdout",
     "output_type": "stream",
     "text": [
      "Getting missing infection logs for user 'u/Vile-Bagger' from infectee 'None'\n",
      "Getting missing infection logs for user 'u/ImGettingBannedHuh' from infectee 'u/Vile-Bagger'\n",
      "Getting missing infection logs for user 'u/triwizchamp05' from infectee 'u/Vile-Bagger'\n",
      "Failed to find missing links for infector 'u/Vile-Bagger'\n",
      "Getting missing infection logs for user 'u/OneNootBoi' from infectee 'None'\n",
      "Getting missing infection logs for user 'u/SpicyDorito08' from infectee 'None'\n",
      "Getting missing infection logs for user 'u/neptun_3' from infectee 'None'\n",
      "Getting missing infection logs for user 'u/TerryBlue2' from infectee 'None'\n",
      "Getting missing infection logs for user 'u/GarageInc' from infectee 'None'\n",
      "Getting missing infection logs for user 'u/LazarusNecrosis' from infectee 'u/GarageInc'\n",
      "Getting missing infection logs for user 'u/ImSoFaboolous' from infectee 'u/GarageInc'\n",
      "Getting missing infection logs for user 'u/jasmiin23' from infectee 'u/ImSoFaboolous'\n",
      "Getting missing infection logs for user 'u/AngusVanhookHinson' from infectee 'u/ImSoFaboolous'\n",
      "Getting missing infection logs for user 'u/Gwiilo' from infectee 'u/ImSoFaboolous'\n",
      "Getting missing infection logs for user 'u/SenchaLeaf' from infectee 'u/Gwiilo'\n",
      "Recursive error: Failed to find missing links for infector 'u/SenchaLeaf'\n",
      "Getting missing infection logs for user 'u/-iaminevitable-' from infectee 'u/Gwiilo'\n",
      "Getting missing infection logs for user 'u/aWheelOfCheeze' from infectee 'u/-iaminevitable-'\n",
      "Getting missing infection logs for user 'u/CatGirl67' from infectee 'u/aWheelOfCheeze'\n",
      "Getting missing infection logs for user 'u/JesusChristQc' from infectee 'u/CatGirl67'\n",
      "Getting missing infection logs for user 'u/randomranand' from infectee 'u/JesusChristQc'\n",
      "Getting missing infection logs for user 'u/Diggory-Dildo' from infectee 'u/CatGirl67'\n",
      "Getting missing infection logs for user 'u/mrAnonymousCzech' from infectee 'u/Diggory-Dildo'\n",
      "Getting missing infection logs for user 'u/RummanNaser' from infectee 'u/CatGirl67'\n",
      "Getting missing infection logs for user 'u/RossOfFriends' from infectee 'u/RummanNaser'\n",
      "Getting missing infection logs for user 'u/_MrYaMaGa_' from infectee 'u/RossOfFriends'\n",
      "Recursive error: Failed to find missing links for infector 'u/_MrYaMaGa_'\n",
      "Getting missing infection logs for user 'u/Aithistannen' from infectee 'u/RummanNaser'\n",
      "Getting missing infection logs for user 'u/calebj88g' from infectee 'u/Aithistannen'\n",
      "Recursive error: Failed to find missing links for infector 'u/calebj88g'\n",
      "Recursive error: Failed to find missing links for infector 'u/Aithistannen'\n",
      "Getting missing infection logs for user 'u/swiebeke' from infectee 'u/RummanNaser'\n",
      "Recursive error: Failed to find missing links for infector 'u/swiebeke'\n",
      "Getting missing infection logs for user 'u/vuckovacokolada' from infectee 'u/-iaminevitable-'\n",
      "Getting missing infection logs for user 'u/Latch-The-Third' from infectee 'u/-iaminevitable-'\n",
      "Recursive error: Failed to find missing links for infector 'u/Latch-The-Third'\n",
      "Getting missing infection logs for user 'u/wishe308' from infectee 'u/-iaminevitable-'\n",
      "Getting missing infection logs for user 'u/Rob-the-shadows' from infectee 'u/wishe308'\n",
      "Getting missing infection logs for user 'u/PatientMantisMD' from infectee 'u/Rob-the-shadows'\n",
      "Getting missing infection logs for user 'u/AlbertXFish' from infectee 'None'\n",
      "Getting missing infection logs for user 'u/Latricc' from infectee 'u/AlbertXFish'\n",
      "Getting missing infection logs for user 'u/Nurazidore' from infectee 'u/Latricc'\n",
      "Getting missing infection logs for user 'u/CatchThatSquirtle' from infectee 'u/Nurazidore'\n",
      "Getting missing infection logs for user 'u/sammyiwas' from infectee 'u/Nurazidore'\n",
      "Getting missing infection logs for user 'u/Orbidsku' from infectee 'u/Nurazidore'\n",
      "Recursive error: Failed to find missing links for infector 'u/Orbidsku'\n",
      "Getting missing infection logs for user 'u/TWINKYWINKY199' from infectee 'u/Latricc'\n",
      "Getting missing infection logs for user 'u/Foxgamer64' from infectee 'u/Latricc'\n",
      "Getting missing infection logs for user 'u/JustMqrko' from infectee 'u/Foxgamer64'\n",
      "Recursive error: Failed to find missing links for infector 'u/JustMqrko'\n",
      "Getting missing infection logs for user 'u/upsettispaghetti7' from infectee 'u/Foxgamer64'\n",
      "Recursive error: Failed to get comments for user 'u/upsettispaghetti7': received 404 HTTP response\n",
      "Getting missing infection logs for user 'u/ufonight' from infectee 'u/Foxgamer64'\n",
      "Recursive error: Failed to get comments for user 'u/ufonight': received 404 HTTP response\n",
      "Recursive error: Failed to get comments for user 'u/Foxgamer64': received 200 HTTP response\n"
     ]
    },
    {
     "name": "stderr",
     "output_type": "stream",
     "text": [
      "Retrying due to ReadTimeout(ReadTimeoutError(\"HTTPSConnectionPool(host='oauth.reddit.com', port=443): Read timed out. (read timeout=16.0)\",),) status: GET https://oauth.reddit.com/user/Latricc/comments\n",
      "Retrying due to ReadTimeout(ReadTimeoutError(\"HTTPSConnectionPool(host='oauth.reddit.com', port=443): Read timed out. (read timeout=16.0)\",),) status: GET https://oauth.reddit.com/comments/e987qm/\n"
     ]
    },
    {
     "name": "stdout",
     "output_type": "stream",
     "text": [
      "Getting missing infection logs for user 'u/macobus' from infectee 'None'\n"
     ]
    },
    {
     "name": "stderr",
     "output_type": "stream",
     "text": [
      "Retrying due to ReadTimeout(ReadTimeoutError(\"HTTPSConnectionPool(host='oauth.reddit.com', port=443): Read timed out. (read timeout=16.0)\",),) status: GET https://oauth.reddit.com/user/macobus/comments\n",
      "Retrying due to 500 status: GET https://oauth.reddit.com/api/info/\n"
     ]
    },
    {
     "name": "stdout",
     "output_type": "stream",
     "text": [
      "Getting missing infection logs for user 'u/Mr_Roberge' from infectee 'None'\n"
     ]
    },
    {
     "name": "stderr",
     "output_type": "stream",
     "text": [
      "Retrying due to ReadTimeout(ReadTimeoutError(\"HTTPSConnectionPool(host='oauth.reddit.com', port=443): Read timed out. (read timeout=16.0)\",),) status: GET https://oauth.reddit.com/comments/dn3mob/\n"
     ]
    },
    {
     "name": "stdout",
     "output_type": "stream",
     "text": [
      "Getting missing infection logs for user 'u/beannie_babbiiee' from infectee 'None'\n"
     ]
    },
    {
     "name": "stderr",
     "output_type": "stream",
     "text": [
      "Retrying due to ReadTimeout(ReadTimeoutError(\"HTTPSConnectionPool(host='oauth.reddit.com', port=443): Read timed out. (read timeout=16.0)\",),) status: GET https://oauth.reddit.com/user/beannie_babbiiee/comments\n",
      "Retrying due to ReadTimeout(ReadTimeoutError(\"HTTPSConnectionPool(host='oauth.reddit.com', port=443): Read timed out. (read timeout=16.0)\",),) status: GET https://oauth.reddit.com/comments/folyfm/\n"
     ]
    },
    {
     "name": "stdout",
     "output_type": "stream",
     "text": [
      "Failed to get comments for user 'u/beannie_babbiiee': received 200 HTTP response\n",
      "Getting missing infection logs for user 'u/TheSCP_3008' from infectee 'None'\n"
     ]
    },
    {
     "name": "stderr",
     "output_type": "stream",
     "text": [
      "Retrying due to ReadTimeout(ReadTimeoutError(\"HTTPSConnectionPool(host='oauth.reddit.com', port=443): Read timed out. (read timeout=16.0)\",),) status: GET https://oauth.reddit.com/user/TheSCP_3008/comments\n"
     ]
    }
   ],
   "source": [
    "infection_groups, failure_groups = get_missing_ancestry(infectee_data, missing_infectors)"
   ]
  },
  {
   "cell_type": "code",
   "execution_count": null,
   "metadata": {},
   "outputs": [],
   "source": [
    "infection_groups"
   ]
  },
  {
   "cell_type": "code",
   "execution_count": 178,
   "metadata": {
    "scrolled": true
   },
   "outputs": [
    {
     "ename": "FileNotFoundError",
     "evalue": "[Errno 2] File b'../../data/memes_infections.6.22.log' does not exist: b'../../data/memes_infections.6.22.log'",
     "output_type": "error",
     "traceback": [
      "\u001b[0;31m---------------------------------------------------------------------------\u001b[0m",
      "\u001b[0;31mFileNotFoundError\u001b[0m                         Traceback (most recent call last)",
      "\u001b[0;32m<ipython-input-178-1eb9eefe3ad3>\u001b[0m in \u001b[0;36m<module>\u001b[0;34m\u001b[0m\n\u001b[0;32m----> 1\u001b[0;31m \u001b[0mfix_missing_ancestry\u001b[0m\u001b[0;34m(\u001b[0m\u001b[0minfection_groups\u001b[0m\u001b[0;34m)\u001b[0m\u001b[0;34m\u001b[0m\u001b[0m\n\u001b[0m",
      "\u001b[0;32m<ipython-input-177-1267bfeeaf8c>\u001b[0m in \u001b[0;36mfix_missing_ancestry\u001b[0;34m(infection_groups)\u001b[0m\n\u001b[1;32m    119\u001b[0m             \u001b[0mdt\u001b[0m \u001b[0;34m=\u001b[0m \u001b[0mparser\u001b[0m\u001b[0;34m.\u001b[0m\u001b[0mparse\u001b[0m\u001b[0;34m(\u001b[0m\u001b[0mlog\u001b[0m\u001b[0;34m.\u001b[0m\u001b[0mpost_dt\u001b[0m\u001b[0;34m)\u001b[0m\u001b[0;34m\u001b[0m\u001b[0m\n\u001b[1;32m    120\u001b[0m             \u001b[0m_fname\u001b[0m \u001b[0;34m=\u001b[0m \u001b[0;34m'{}/memes_infections.{}.{}.log'\u001b[0m\u001b[0;34m.\u001b[0m\u001b[0mformat\u001b[0m\u001b[0;34m(\u001b[0m\u001b[0mdata_dir\u001b[0m\u001b[0;34m,\u001b[0m \u001b[0mdt\u001b[0m\u001b[0;34m.\u001b[0m\u001b[0mday\u001b[0m\u001b[0;34m,\u001b[0m \u001b[0mdt\u001b[0m\u001b[0;34m.\u001b[0m\u001b[0mhour\u001b[0m\u001b[0;34m)\u001b[0m\u001b[0;34m\u001b[0m\u001b[0m\n\u001b[0;32m--> 121\u001b[0;31m             \u001b[0mdf\u001b[0m \u001b[0;34m=\u001b[0m \u001b[0mget_file\u001b[0m\u001b[0;34m(\u001b[0m\u001b[0m_fname\u001b[0m\u001b[0;34m)\u001b[0m\u001b[0;34m\u001b[0m\u001b[0m\n\u001b[0m\u001b[1;32m    122\u001b[0m             \u001b[0mprint\u001b[0m\u001b[0;34m(\u001b[0m\u001b[0;34m\"writing new log to file: {} + {}\"\u001b[0m\u001b[0;34m.\u001b[0m\u001b[0mformat\u001b[0m\u001b[0;34m(\u001b[0m\u001b[0m_fname\u001b[0m\u001b[0;34m,\u001b[0m \u001b[0mlog\u001b[0m\u001b[0;34m)\u001b[0m\u001b[0;34m)\u001b[0m\u001b[0;34m\u001b[0m\u001b[0m\n\u001b[1;32m    123\u001b[0m             \u001b[0mdf\u001b[0m\u001b[0;34m.\u001b[0m\u001b[0mappend\u001b[0m\u001b[0;34m(\u001b[0m\u001b[0mlog\u001b[0m\u001b[0;34m.\u001b[0m\u001b[0m_asdict\u001b[0m\u001b[0;34m(\u001b[0m\u001b[0;34m)\u001b[0m\u001b[0;34m,\u001b[0m \u001b[0mignore_index\u001b[0m\u001b[0;34m=\u001b[0m\u001b[0;32mTrue\u001b[0m\u001b[0;34m)\u001b[0m\u001b[0;34m\u001b[0m\u001b[0m\n",
      "\u001b[0;32m<ipython-input-168-ff0231c67d54>\u001b[0m in \u001b[0;36m<lambda>\u001b[0;34m(fname)\u001b[0m\n\u001b[1;32m     18\u001b[0m             'comment_or_submission'],\n\u001b[1;32m     19\u001b[0m     \u001b[0mparse_dates\u001b[0m\u001b[0;34m=\u001b[0m\u001b[0;34m[\u001b[0m\u001b[0;34m'post_dt'\u001b[0m\u001b[0;34m]\u001b[0m\u001b[0;34m,\u001b[0m\u001b[0;34m\u001b[0m\u001b[0m\n\u001b[0;32m---> 20\u001b[0;31m     \u001b[0mdtype\u001b[0m\u001b[0;34m=\u001b[0m\u001b[0;34m{\u001b[0m\u001b[0;34m'infectee_name'\u001b[0m\u001b[0;34m:\u001b[0m \u001b[0mstr\u001b[0m\u001b[0;34m,\u001b[0m \u001b[0;34m'infectee_post_id'\u001b[0m\u001b[0;34m:\u001b[0m \u001b[0mstr\u001b[0m\u001b[0;34m,\u001b[0m \u001b[0;34m'infector_name'\u001b[0m\u001b[0;34m:\u001b[0m \u001b[0mstr\u001b[0m\u001b[0;34m,\u001b[0m \u001b[0;34m'infector_post_id'\u001b[0m\u001b[0;34m:\u001b[0m \u001b[0mstr\u001b[0m\u001b[0;34m,\u001b[0m \u001b[0;34m'comment_or_submission'\u001b[0m\u001b[0;34m:\u001b[0m \u001b[0mstr\u001b[0m\u001b[0;34m}\u001b[0m\u001b[0;34m\u001b[0m\u001b[0m\n\u001b[0m\u001b[1;32m     21\u001b[0m )\n\u001b[1;32m     22\u001b[0m \u001b[0;34m\u001b[0m\u001b[0m\n",
      "\u001b[0;32m~/.virtualenvs/nd230-ml-tensorflow-p1/lib/python3.5/site-packages/pandas/io/parsers.py\u001b[0m in \u001b[0;36mparser_f\u001b[0;34m(filepath_or_buffer, sep, delimiter, header, names, index_col, usecols, squeeze, prefix, mangle_dupe_cols, dtype, engine, converters, true_values, false_values, skipinitialspace, skiprows, skipfooter, nrows, na_values, keep_default_na, na_filter, verbose, skip_blank_lines, parse_dates, infer_datetime_format, keep_date_col, date_parser, dayfirst, cache_dates, iterator, chunksize, compression, thousands, decimal, lineterminator, quotechar, quoting, doublequote, escapechar, comment, encoding, dialect, error_bad_lines, warn_bad_lines, delim_whitespace, low_memory, memory_map, float_precision)\u001b[0m\n\u001b[1;32m    683\u001b[0m         )\n\u001b[1;32m    684\u001b[0m \u001b[0;34m\u001b[0m\u001b[0m\n\u001b[0;32m--> 685\u001b[0;31m         \u001b[0;32mreturn\u001b[0m \u001b[0m_read\u001b[0m\u001b[0;34m(\u001b[0m\u001b[0mfilepath_or_buffer\u001b[0m\u001b[0;34m,\u001b[0m \u001b[0mkwds\u001b[0m\u001b[0;34m)\u001b[0m\u001b[0;34m\u001b[0m\u001b[0m\n\u001b[0m\u001b[1;32m    686\u001b[0m \u001b[0;34m\u001b[0m\u001b[0m\n\u001b[1;32m    687\u001b[0m     \u001b[0mparser_f\u001b[0m\u001b[0;34m.\u001b[0m\u001b[0m__name__\u001b[0m \u001b[0;34m=\u001b[0m \u001b[0mname\u001b[0m\u001b[0;34m\u001b[0m\u001b[0m\n",
      "\u001b[0;32m~/.virtualenvs/nd230-ml-tensorflow-p1/lib/python3.5/site-packages/pandas/io/parsers.py\u001b[0m in \u001b[0;36m_read\u001b[0;34m(filepath_or_buffer, kwds)\u001b[0m\n\u001b[1;32m    455\u001b[0m \u001b[0;34m\u001b[0m\u001b[0m\n\u001b[1;32m    456\u001b[0m     \u001b[0;31m# Create the parser.\u001b[0m\u001b[0;34m\u001b[0m\u001b[0;34m\u001b[0m\u001b[0m\n\u001b[0;32m--> 457\u001b[0;31m     \u001b[0mparser\u001b[0m \u001b[0;34m=\u001b[0m \u001b[0mTextFileReader\u001b[0m\u001b[0;34m(\u001b[0m\u001b[0mfp_or_buf\u001b[0m\u001b[0;34m,\u001b[0m \u001b[0;34m**\u001b[0m\u001b[0mkwds\u001b[0m\u001b[0;34m)\u001b[0m\u001b[0;34m\u001b[0m\u001b[0m\n\u001b[0m\u001b[1;32m    458\u001b[0m \u001b[0;34m\u001b[0m\u001b[0m\n\u001b[1;32m    459\u001b[0m     \u001b[0;32mif\u001b[0m \u001b[0mchunksize\u001b[0m \u001b[0;32mor\u001b[0m \u001b[0miterator\u001b[0m\u001b[0;34m:\u001b[0m\u001b[0;34m\u001b[0m\u001b[0m\n",
      "\u001b[0;32m~/.virtualenvs/nd230-ml-tensorflow-p1/lib/python3.5/site-packages/pandas/io/parsers.py\u001b[0m in \u001b[0;36m__init__\u001b[0;34m(self, f, engine, **kwds)\u001b[0m\n\u001b[1;32m    893\u001b[0m             \u001b[0mself\u001b[0m\u001b[0;34m.\u001b[0m\u001b[0moptions\u001b[0m\u001b[0;34m[\u001b[0m\u001b[0;34m\"has_index_names\"\u001b[0m\u001b[0;34m]\u001b[0m \u001b[0;34m=\u001b[0m \u001b[0mkwds\u001b[0m\u001b[0;34m[\u001b[0m\u001b[0;34m\"has_index_names\"\u001b[0m\u001b[0;34m]\u001b[0m\u001b[0;34m\u001b[0m\u001b[0m\n\u001b[1;32m    894\u001b[0m \u001b[0;34m\u001b[0m\u001b[0m\n\u001b[0;32m--> 895\u001b[0;31m         \u001b[0mself\u001b[0m\u001b[0;34m.\u001b[0m\u001b[0m_make_engine\u001b[0m\u001b[0;34m(\u001b[0m\u001b[0mself\u001b[0m\u001b[0;34m.\u001b[0m\u001b[0mengine\u001b[0m\u001b[0;34m)\u001b[0m\u001b[0;34m\u001b[0m\u001b[0m\n\u001b[0m\u001b[1;32m    896\u001b[0m \u001b[0;34m\u001b[0m\u001b[0m\n\u001b[1;32m    897\u001b[0m     \u001b[0;32mdef\u001b[0m \u001b[0mclose\u001b[0m\u001b[0;34m(\u001b[0m\u001b[0mself\u001b[0m\u001b[0;34m)\u001b[0m\u001b[0;34m:\u001b[0m\u001b[0;34m\u001b[0m\u001b[0m\n",
      "\u001b[0;32m~/.virtualenvs/nd230-ml-tensorflow-p1/lib/python3.5/site-packages/pandas/io/parsers.py\u001b[0m in \u001b[0;36m_make_engine\u001b[0;34m(self, engine)\u001b[0m\n\u001b[1;32m   1133\u001b[0m     \u001b[0;32mdef\u001b[0m \u001b[0m_make_engine\u001b[0m\u001b[0;34m(\u001b[0m\u001b[0mself\u001b[0m\u001b[0;34m,\u001b[0m \u001b[0mengine\u001b[0m\u001b[0;34m=\u001b[0m\u001b[0;34m\"c\"\u001b[0m\u001b[0;34m)\u001b[0m\u001b[0;34m:\u001b[0m\u001b[0;34m\u001b[0m\u001b[0m\n\u001b[1;32m   1134\u001b[0m         \u001b[0;32mif\u001b[0m \u001b[0mengine\u001b[0m \u001b[0;34m==\u001b[0m \u001b[0;34m\"c\"\u001b[0m\u001b[0;34m:\u001b[0m\u001b[0;34m\u001b[0m\u001b[0m\n\u001b[0;32m-> 1135\u001b[0;31m             \u001b[0mself\u001b[0m\u001b[0;34m.\u001b[0m\u001b[0m_engine\u001b[0m \u001b[0;34m=\u001b[0m \u001b[0mCParserWrapper\u001b[0m\u001b[0;34m(\u001b[0m\u001b[0mself\u001b[0m\u001b[0;34m.\u001b[0m\u001b[0mf\u001b[0m\u001b[0;34m,\u001b[0m \u001b[0;34m**\u001b[0m\u001b[0mself\u001b[0m\u001b[0;34m.\u001b[0m\u001b[0moptions\u001b[0m\u001b[0;34m)\u001b[0m\u001b[0;34m\u001b[0m\u001b[0m\n\u001b[0m\u001b[1;32m   1136\u001b[0m         \u001b[0;32melse\u001b[0m\u001b[0;34m:\u001b[0m\u001b[0;34m\u001b[0m\u001b[0m\n\u001b[1;32m   1137\u001b[0m             \u001b[0;32mif\u001b[0m \u001b[0mengine\u001b[0m \u001b[0;34m==\u001b[0m \u001b[0;34m\"python\"\u001b[0m\u001b[0;34m:\u001b[0m\u001b[0;34m\u001b[0m\u001b[0m\n",
      "\u001b[0;32m~/.virtualenvs/nd230-ml-tensorflow-p1/lib/python3.5/site-packages/pandas/io/parsers.py\u001b[0m in \u001b[0;36m__init__\u001b[0;34m(self, src, **kwds)\u001b[0m\n\u001b[1;32m   1915\u001b[0m         \u001b[0mkwds\u001b[0m\u001b[0;34m[\u001b[0m\u001b[0;34m\"usecols\"\u001b[0m\u001b[0;34m]\u001b[0m \u001b[0;34m=\u001b[0m \u001b[0mself\u001b[0m\u001b[0;34m.\u001b[0m\u001b[0musecols\u001b[0m\u001b[0;34m\u001b[0m\u001b[0m\n\u001b[1;32m   1916\u001b[0m \u001b[0;34m\u001b[0m\u001b[0m\n\u001b[0;32m-> 1917\u001b[0;31m         \u001b[0mself\u001b[0m\u001b[0;34m.\u001b[0m\u001b[0m_reader\u001b[0m \u001b[0;34m=\u001b[0m \u001b[0mparsers\u001b[0m\u001b[0;34m.\u001b[0m\u001b[0mTextReader\u001b[0m\u001b[0;34m(\u001b[0m\u001b[0msrc\u001b[0m\u001b[0;34m,\u001b[0m \u001b[0;34m**\u001b[0m\u001b[0mkwds\u001b[0m\u001b[0;34m)\u001b[0m\u001b[0;34m\u001b[0m\u001b[0m\n\u001b[0m\u001b[1;32m   1918\u001b[0m         \u001b[0mself\u001b[0m\u001b[0;34m.\u001b[0m\u001b[0munnamed_cols\u001b[0m \u001b[0;34m=\u001b[0m \u001b[0mself\u001b[0m\u001b[0;34m.\u001b[0m\u001b[0m_reader\u001b[0m\u001b[0;34m.\u001b[0m\u001b[0munnamed_cols\u001b[0m\u001b[0;34m\u001b[0m\u001b[0m\n\u001b[1;32m   1919\u001b[0m \u001b[0;34m\u001b[0m\u001b[0m\n",
      "\u001b[0;32mpandas/_libs/parsers.pyx\u001b[0m in \u001b[0;36mpandas._libs.parsers.TextReader.__cinit__\u001b[0;34m()\u001b[0m\n",
      "\u001b[0;32mpandas/_libs/parsers.pyx\u001b[0m in \u001b[0;36mpandas._libs.parsers.TextReader._setup_parser_source\u001b[0;34m()\u001b[0m\n",
      "\u001b[0;31mFileNotFoundError\u001b[0m: [Errno 2] File b'../../data/memes_infections.6.22.log' does not exist: b'../../data/memes_infections.6.22.log'"
     ]
    }
   ],
   "source": [
    "fix_missing_ancestry(infection_groups)"
   ]
  },
  {
   "cell_type": "code",
   "execution_count": 139,
   "metadata": {},
   "outputs": [
    {
     "data": {
      "text/plain": [
       "'fv7eoi'"
      ]
     },
     "execution_count": 139,
     "metadata": {},
     "output_type": "execute_result"
    }
   ],
   "source": [
    "sr = _reddit.subreddit('memes').new(limit=1)\n",
    "com = list(sr)[0]\n",
    "com.id"
   ]
  },
  {
   "cell_type": "code",
   "execution_count": 204,
   "metadata": {
    "scrolled": false
   },
   "outputs": [
    {
     "data": {
      "text/html": [
       "<div>\n",
       "<style scoped>\n",
       "    .dataframe tbody tr th:only-of-type {\n",
       "        vertical-align: middle;\n",
       "    }\n",
       "\n",
       "    .dataframe tbody tr th {\n",
       "        vertical-align: top;\n",
       "    }\n",
       "\n",
       "    .dataframe thead th {\n",
       "        text-align: right;\n",
       "    }\n",
       "</style>\n",
       "<table border=\"1\" class=\"dataframe\">\n",
       "  <thead>\n",
       "    <tr style=\"text-align: right;\">\n",
       "      <th></th>\n",
       "      <th>post_dt</th>\n",
       "      <th>infectee_name</th>\n",
       "      <th>infectee_post_id</th>\n",
       "      <th>infector_name</th>\n",
       "      <th>infector_post_id</th>\n",
       "      <th>comment_or_submission</th>\n",
       "    </tr>\n",
       "  </thead>\n",
       "  <tbody>\n",
       "    <tr>\n",
       "      <th>136</th>\n",
       "      <td>2020-03-21 07:54:50.598404</td>\n",
       "      <td>u/AutoModerator</td>\n",
       "      <td>fl3n8gg</td>\n",
       "      <td>u/embracethemems</td>\n",
       "      <td>fmduoi</td>\n",
       "      <td>S</td>\n",
       "    </tr>\n",
       "  </tbody>\n",
       "</table>\n",
       "</div>"
      ],
      "text/plain": [
       "                       post_dt    infectee_name infectee_post_id  \\\n",
       "136 2020-03-21 07:54:50.598404  u/AutoModerator          fl3n8gg   \n",
       "\n",
       "        infector_name infector_post_id comment_or_submission  \n",
       "136  u/embracethemems           fmduoi                     S  "
      ]
     },
     "execution_count": 204,
     "metadata": {},
     "output_type": "execute_result"
    }
   ],
   "source": [
    "dftest = pandas.concat([get_file(f) for f in all_files])\n",
    "dftest[dftest['infectee_name'] == 'u/AutoModerator']"
   ]
  },
  {
   "cell_type": "code",
   "execution_count": 12,
   "metadata": {
    "scrolled": true
   },
   "outputs": [
    {
     "name": "stdout",
     "output_type": "stream",
     "text": [
      "../../data/memes_infections.20.19.log\n",
      "../../data/memes_infections.20.20.log\n",
      "../../data/memes_infections.20.21.log\n",
      "../../data/memes_infections.20.22.log\n",
      "../../data/memes_infections.20.23.log\n",
      "../../data/memes_infections.21.0.log\n",
      "../../data/memes_infections.21.1.log\n",
      "../../data/memes_infections.21.2.log\n",
      "../../data/memes_infections.21.3.log\n",
      "../../data/memes_infections.21.4.log\n",
      "../../data/memes_infections.21.5.log\n",
      "../../data/memes_infections.21.6.log\n",
      "../../data/memes_infections.21.7.log\n",
      "../../data/memes_infections.21.8.log\n",
      "../../data/memes_infections.21.9.log\n",
      "../../data/memes_infections.21.10.log\n",
      "../../data/memes_infections.21.11.log\n",
      "../../data/memes_infections.21.12.log\n",
      "../../data/memes_infections.21.13.log\n",
      "../../data/memes_infections.21.14.log\n",
      "../../data/memes_infections.21.15.log\n",
      "../../data/memes_infections.21.16.log\n",
      "../../data/memes_infections.21.17.log\n",
      "../../data/memes_infections.21.18.log\n",
      "../../data/memes_infections.21.19.log\n",
      "../../data/memes_infections.21.20.log\n",
      "../../data/memes_infections.21.21.log\n",
      "../../data/memes_infections.21.22.log\n",
      "../../data/memes_infections.21.23.log\n",
      "../../data/memes_infections.22.0.log\n",
      "../../data/memes_infections.22.1.log\n",
      "../../data/memes_infections.22.2.log\n",
      "../../data/memes_infections.22.3.log\n",
      "../../data/memes_infections.22.4.log\n",
      "../../data/memes_infections.22.5.log\n",
      "../../data/memes_infections.22.6.log\n",
      "../../data/memes_infections.22.7.log\n",
      "../../data/memes_infections.22.8.log\n",
      "../../data/memes_infections.22.9.log\n",
      "../../data/memes_infections.22.10.log\n",
      "../../data/memes_infections.22.11.log\n",
      "../../data/memes_infections.22.12.log\n",
      "../../data/memes_infections.22.13.log\n",
      "../../data/memes_infections.22.14.log\n",
      "15 indexes removed\n",
      "../../data/memes_infections.22.15.log\n",
      "28 indexes removed\n",
      "../../data/memes_infections.22.16.log\n",
      "19 indexes removed\n",
      "../../data/memes_infections.22.17.log\n",
      "16 indexes removed\n",
      "../../data/memes_infections.22.18.log\n",
      "15 indexes removed\n",
      "../../data/memes_infections.22.19.log\n",
      "11 indexes removed\n",
      "../../data/memes_infections.22.20.log\n",
      "15 indexes removed\n",
      "../../data/memes_infections.22.21.log\n",
      "16 indexes removed\n",
      "../../data/memes_infections.22.22.log\n",
      "11 indexes removed\n",
      "../../data/memes_infections.22.23.log\n",
      "13 indexes removed\n",
      "../../data/memes_infections.23.0.log\n",
      "18 indexes removed\n",
      "../../data/memes_infections.23.1.log\n",
      "12 indexes removed\n",
      "../../data/memes_infections.23.2.log\n",
      "15 indexes removed\n",
      "../../data/memes_infections.23.3.log\n",
      "20 indexes removed\n",
      "../../data/memes_infections.23.4.log\n",
      "13 indexes removed\n",
      "../../data/memes_infections.23.5.log\n",
      "14 indexes removed\n",
      "../../data/memes_infections.23.6.log\n",
      "6 indexes removed\n",
      "../../data/memes_infections.23.7.log\n",
      "16 indexes removed\n",
      "../../data/memes_infections.23.8.log\n",
      "9 indexes removed\n",
      "../../data/memes_infections.23.9.log\n",
      "9 indexes removed\n",
      "../../data/memes_infections.23.10.log\n",
      "8 indexes removed\n",
      "../../data/memes_infections.23.11.log\n",
      "8 indexes removed\n",
      "../../data/memes_infections.23.12.log\n",
      "5 indexes removed\n",
      "../../data/memes_infections.23.13.log\n",
      "5 indexes removed\n",
      "../../data/memes_infections.23.14.log\n",
      "12 indexes removed\n",
      "../../data/memes_infections.23.15.log\n",
      "11 indexes removed\n",
      "../../data/memes_infections.23.16.log\n",
      "16 indexes removed\n",
      "../../data/memes_infections.23.17.log\n",
      "6 indexes removed\n",
      "../../data/memes_infections.23.18.log\n",
      "3 indexes removed\n",
      "../../data/memes_infections.23.19.log\n",
      "15 indexes removed\n",
      "../../data/memes_infections.23.20.log\n",
      "10 indexes removed\n",
      "../../data/memes_infections.23.21.log\n",
      "9 indexes removed\n",
      "../../data/memes_infections.23.22.log\n",
      "8 indexes removed\n",
      "../../data/memes_infections.23.23.log\n",
      "11 indexes removed\n",
      "../../data/memes_infections.24.0.log\n",
      "11 indexes removed\n",
      "../../data/memes_infections.24.1.log\n",
      "11 indexes removed\n",
      "../../data/memes_infections.24.2.log\n",
      "10 indexes removed\n",
      "../../data/memes_infections.24.3.log\n",
      "13 indexes removed\n",
      "../../data/memes_infections.24.4.log\n",
      "11 indexes removed\n",
      "../../data/memes_infections.24.5.log\n",
      "16 indexes removed\n",
      "../../data/memes_infections.24.6.log\n",
      "16 indexes removed\n",
      "../../data/memes_infections.24.7.log\n",
      "21 indexes removed\n",
      "../../data/memes_infections.24.8.log\n",
      "16 indexes removed\n",
      "../../data/memes_infections.24.9.log\n",
      "7 indexes removed\n",
      "../../data/memes_infections.24.10.log\n",
      "8 indexes removed\n",
      "../../data/memes_infections.24.11.log\n",
      "9 indexes removed\n",
      "../../data/memes_infections.24.12.log\n",
      "8 indexes removed\n",
      "../../data/memes_infections.24.13.log\n",
      "13 indexes removed\n",
      "../../data/memes_infections.24.14.log\n",
      "4 indexes removed\n",
      "../../data/memes_infections.24.15.log\n",
      "5 indexes removed\n",
      "../../data/memes_infections.24.16.log\n",
      "15 indexes removed\n",
      "../../data/memes_infections.24.17.log\n",
      "6 indexes removed\n",
      "../../data/memes_infections.24.18.log\n",
      "14 indexes removed\n",
      "../../data/memes_infections.24.19.log\n",
      "11 indexes removed\n",
      "../../data/memes_infections.24.20.log\n",
      "11 indexes removed\n",
      "../../data/memes_infections.24.21.log\n",
      "4 indexes removed\n",
      "../../data/memes_infections.24.22.log\n",
      "13 indexes removed\n",
      "../../data/memes_infections.24.23.log\n",
      "6 indexes removed\n",
      "../../data/memes_infections.25.0.log\n",
      "6 indexes removed\n",
      "../../data/memes_infections.25.3.log\n",
      "../../data/memes_infections.25.4.log\n",
      "9 indexes removed\n",
      "../../data/memes_infections.25.5.log\n",
      "4 indexes removed\n",
      "../../data/memes_infections.25.6.log\n",
      "13 indexes removed\n",
      "../../data/memes_infections.25.7.log\n",
      "8 indexes removed\n",
      "../../data/memes_infections.25.8.log\n",
      "7 indexes removed\n",
      "../../data/memes_infections.25.9.log\n",
      "6 indexes removed\n",
      "../../data/memes_infections.25.10.log\n",
      "2 indexes removed\n",
      "../../data/memes_infections.25.11.log\n",
      "5 indexes removed\n",
      "../../data/memes_infections.25.12.log\n",
      "13 indexes removed\n",
      "../../data/memes_infections.25.13.log\n",
      "6 indexes removed\n",
      "../../data/memes_infections.25.14.log\n",
      "3 indexes removed\n",
      "../../data/memes_infections.25.15.log\n",
      "12 indexes removed\n",
      "../../data/memes_infections.25.16.log\n",
      "21 indexes removed\n",
      "../../data/memes_infections.25.17.log\n",
      "22 indexes removed\n",
      "../../data/memes_infections.25.18.log\n",
      "21 indexes removed\n",
      "../../data/memes_infections.25.19.log\n",
      "9 indexes removed\n",
      "../../data/memes_infections.25.20.log\n",
      "13 indexes removed\n",
      "../../data/memes_infections.25.21.log\n",
      "19 indexes removed\n",
      "../../data/memes_infections.25.22.log\n",
      "22 indexes removed\n",
      "../../data/memes_infections.25.23.log\n",
      "24 indexes removed\n",
      "../../data/memes_infections.26.0.log\n",
      "24 indexes removed\n",
      "../../data/memes_infections.26.1.log\n",
      "11 indexes removed\n",
      "../../data/memes_infections.26.2.log\n",
      "26 indexes removed\n",
      "../../data/memes_infections.26.3.log\n",
      "8 indexes removed\n",
      "../../data/memes_infections.26.4.log\n",
      "21 indexes removed\n",
      "../../data/memes_infections.26.5.log\n",
      "21 indexes removed\n",
      "../../data/memes_infections.26.6.log\n",
      "9 indexes removed\n",
      "../../data/memes_infections.26.7.log\n",
      "11 indexes removed\n",
      "../../data/memes_infections.26.8.log\n",
      "4 indexes removed\n",
      "../../data/memes_infections.26.9.log\n",
      "4 indexes removed\n",
      "../../data/memes_infections.26.10.log\n",
      "14 indexes removed\n",
      "../../data/memes_infections.26.11.log\n",
      "5 indexes removed\n",
      "../../data/memes_infections.26.12.log\n",
      "9 indexes removed\n",
      "../../data/memes_infections.26.13.log\n",
      "9 indexes removed\n",
      "../../data/memes_infections.26.14.log\n",
      "5 indexes removed\n",
      "../../data/memes_infections.26.15.log\n",
      "6 indexes removed\n",
      "../../data/memes_infections.26.16.log\n",
      "2 indexes removed\n",
      "../../data/memes_infections.26.17.log\n",
      "5 indexes removed\n",
      "../../data/memes_infections.26.18.log\n",
      "8 indexes removed\n",
      "../../data/memes_infections.26.19.log\n",
      "7 indexes removed\n",
      "../../data/memes_infections.26.20.log\n",
      "10 indexes removed\n",
      "../../data/memes_infections.26.21.log\n",
      "5 indexes removed\n",
      "../../data/memes_infections.26.22.log\n",
      "13 indexes removed\n",
      "../../data/memes_infections.26.23.log\n",
      "8 indexes removed\n",
      "../../data/memes_infections.27.0.log\n",
      "10 indexes removed\n",
      "../../data/memes_infections.27.1.log\n",
      "10 indexes removed\n",
      "../../data/memes_infections.27.2.log\n",
      "11 indexes removed\n",
      "../../data/memes_infections.27.3.log\n",
      "13 indexes removed\n",
      "../../data/memes_infections.27.4.log\n",
      "13 indexes removed\n",
      "../../data/memes_infections.27.5.log\n",
      "8 indexes removed\n",
      "../../data/memes_infections.27.6.log\n",
      "12 indexes removed\n",
      "../../data/memes_infections.27.7.log\n",
      "12 indexes removed\n",
      "../../data/memes_infections.27.8.log\n",
      "7 indexes removed\n",
      "../../data/memes_infections.27.9.log\n",
      "12 indexes removed\n",
      "../../data/memes_infections.27.10.log\n",
      "13 indexes removed\n",
      "../../data/memes_infections.27.11.log\n",
      "4 indexes removed\n",
      "../../data/memes_infections.27.12.log\n",
      "5 indexes removed\n",
      "../../data/memes_infections.27.13.log\n"
     ]
    },
    {
     "name": "stdout",
     "output_type": "stream",
     "text": [
      "10 indexes removed\n",
      "../../data/memes_infections.27.14.log\n",
      "7 indexes removed\n",
      "../../data/memes_infections.27.15.log\n",
      "8 indexes removed\n",
      "../../data/memes_infections.27.16.log\n",
      "5 indexes removed\n",
      "../../data/memes_infections.27.17.log\n",
      "5 indexes removed\n",
      "../../data/memes_infections.27.18.log\n",
      "6 indexes removed\n",
      "../../data/memes_infections.27.19.log\n",
      "11 indexes removed\n",
      "../../data/memes_infections.27.20.log\n",
      "7 indexes removed\n",
      "../../data/memes_infections.27.21.log\n",
      "6 indexes removed\n",
      "../../data/memes_infections.27.22.log\n",
      "23 indexes removed\n",
      "../../data/memes_infections.27.23.log\n",
      "14 indexes removed\n",
      "../../data/memes_infections.28.0.log\n",
      "11 indexes removed\n",
      "../../data/memes_infections.28.1.log\n",
      "7 indexes removed\n",
      "../../data/memes_infections.28.2.log\n",
      "4 indexes removed\n",
      "../../data/memes_infections.28.3.log\n",
      "11 indexes removed\n",
      "../../data/memes_infections.28.4.log\n",
      "14 indexes removed\n",
      "../../data/memes_infections.28.5.log\n",
      "7 indexes removed\n",
      "../../data/memes_infections.28.6.log\n",
      "3 indexes removed\n",
      "../../data/memes_infections.28.7.log\n",
      "7 indexes removed\n",
      "../../data/memes_infections.28.8.log\n",
      "3 indexes removed\n",
      "../../data/memes_infections.28.9.log\n",
      "13 indexes removed\n",
      "../../data/memes_infections.28.10.log\n",
      "14 indexes removed\n",
      "../../data/memes_infections.28.11.log\n",
      "8 indexes removed\n",
      "../../data/memes_infections.28.12.log\n",
      "6 indexes removed\n",
      "../../data/memes_infections.28.13.log\n",
      "7 indexes removed\n",
      "../../data/memes_infections.28.14.log\n",
      "17 indexes removed\n",
      "../../data/memes_infections.28.15.log\n",
      "5 indexes removed\n",
      "../../data/memes_infections.28.16.log\n",
      "6 indexes removed\n",
      "../../data/memes_infections.28.17.log\n",
      "12 indexes removed\n",
      "../../data/memes_infections.28.18.log\n",
      "17 indexes removed\n",
      "../../data/memes_infections.28.19.log\n",
      "19 indexes removed\n",
      "../../data/memes_infections.28.20.log\n",
      "5 indexes removed\n",
      "../../data/memes_infections.28.21.log\n",
      "13 indexes removed\n",
      "../../data/memes_infections.28.22.log\n",
      "5 indexes removed\n",
      "../../data/memes_infections.28.23.log\n",
      "15 indexes removed\n",
      "../../data/memes_infections.29.0.log\n",
      "4 indexes removed\n",
      "../../data/memes_infections.29.1.log\n",
      "12 indexes removed\n",
      "../../data/memes_infections.29.2.log\n",
      "6 indexes removed\n",
      "../../data/memes_infections.29.3.log\n",
      "11 indexes removed\n",
      "../../data/memes_infections.29.4.log\n",
      "6 indexes removed\n",
      "../../data/memes_infections.29.5.log\n",
      "8 indexes removed\n",
      "../../data/memes_infections.29.6.log\n",
      "9 indexes removed\n",
      "../../data/memes_infections.29.7.log\n",
      "11 indexes removed\n",
      "../../data/memes_infections.29.8.log\n",
      "11 indexes removed\n",
      "../../data/memes_infections.29.9.log\n",
      "16 indexes removed\n",
      "../../data/memes_infections.29.10.log\n",
      "9 indexes removed\n",
      "../../data/memes_infections.29.11.log\n",
      "4 indexes removed\n",
      "../../data/memes_infections.29.12.log\n",
      "4 indexes removed\n",
      "../../data/memes_infections.29.13.log\n",
      "5 indexes removed\n",
      "../../data/memes_infections.29.14.log\n",
      "2 indexes removed\n",
      "../../data/memes_infections.29.15.log\n",
      "9 indexes removed\n",
      "../../data/memes_infections.29.16.log\n",
      "4 indexes removed\n",
      "../../data/memes_infections.29.17.log\n",
      "8 indexes removed\n",
      "../../data/memes_infections.29.18.log\n",
      "9 indexes removed\n",
      "../../data/memes_infections.29.19.log\n",
      "8 indexes removed\n",
      "../../data/memes_infections.29.20.log\n",
      "14 indexes removed\n",
      "../../data/memes_infections.29.21.log\n",
      "7 indexes removed\n",
      "../../data/memes_infections.29.22.log\n",
      "9 indexes removed\n",
      "../../data/memes_infections.29.23.log\n",
      "4 indexes removed\n",
      "../../data/memes_infections.30.0.log\n",
      "7 indexes removed\n",
      "../../data/memes_infections.30.1.log\n",
      "13 indexes removed\n",
      "../../data/memes_infections.30.2.log\n",
      "14 indexes removed\n",
      "../../data/memes_infections.30.3.log\n",
      "4 indexes removed\n",
      "../../data/memes_infections.30.4.log\n",
      "4 indexes removed\n",
      "../../data/memes_infections.30.5.log\n",
      "10 indexes removed\n",
      "../../data/memes_infections.30.6.log\n",
      "11 indexes removed\n",
      "../../data/memes_infections.30.7.log\n",
      "8 indexes removed\n",
      "../../data/memes_infections.30.8.log\n",
      "11 indexes removed\n",
      "../../data/memes_infections.30.9.log\n",
      "3 indexes removed\n",
      "../../data/memes_infections.30.10.log\n",
      "4 indexes removed\n",
      "../../data/memes_infections.30.11.log\n",
      "2 indexes removed\n",
      "../../data/memes_infections.30.12.log\n",
      "4 indexes removed\n",
      "../../data/memes_infections.30.13.log\n",
      "5 indexes removed\n",
      "../../data/memes_infections.30.14.log\n",
      "10 indexes removed\n",
      "../../data/memes_infections.30.15.log\n",
      "9 indexes removed\n",
      "../../data/memes_infections.30.16.log\n",
      "8 indexes removed\n",
      "../../data/memes_infections.30.17.log\n",
      "8 indexes removed\n",
      "../../data/memes_infections.30.18.log\n",
      "7 indexes removed\n",
      "../../data/memes_infections.30.19.log\n",
      "3 indexes removed\n",
      "../../data/memes_infections.30.20.log\n",
      "3 indexes removed\n",
      "../../data/memes_infections.30.21.log\n",
      "7 indexes removed\n",
      "../../data/memes_infections.30.22.log\n",
      "13 indexes removed\n",
      "../../data/memes_infections.30.23.log\n",
      "13 indexes removed\n",
      "../../data/memes_infections.31.0.log\n",
      "3 indexes removed\n",
      "../../data/memes_infections.31.1.log\n",
      "8 indexes removed\n",
      "../../data/memes_infections.31.2.log\n",
      "9 indexes removed\n",
      "../../data/memes_infections.31.3.log\n",
      "10 indexes removed\n",
      "../../data/memes_infections.31.4.log\n",
      "7 indexes removed\n",
      "../../data/memes_infections.31.5.log\n",
      "8 indexes removed\n",
      "../../data/memes_infections.31.6.log\n",
      "7 indexes removed\n",
      "../../data/memes_infections.31.7.log\n",
      "9 indexes removed\n",
      "../../data/memes_infections.31.8.log\n",
      "7 indexes removed\n",
      "../../data/memes_infections.31.9.log\n",
      "6 indexes removed\n",
      "../../data/memes_infections.31.10.log\n",
      "6 indexes removed\n",
      "../../data/memes_infections.31.11.log\n",
      "5 indexes removed\n",
      "../../data/memes_infections.31.12.log\n",
      "3 indexes removed\n",
      "../../data/memes_infections.31.13.log\n",
      "12 indexes removed\n",
      "../../data/memes_infections.31.14.log\n",
      "4 indexes removed\n",
      "../../data/memes_infections.31.15.log\n",
      "4 indexes removed\n",
      "../../data/memes_infections.31.16.log\n",
      "7 indexes removed\n",
      "../../data/memes_infections.31.17.log\n",
      "10 indexes removed\n",
      "../../data/memes_infections.31.18.log\n",
      "2 indexes removed\n",
      "../../data/memes_infections.31.19.log\n",
      "5 indexes removed\n",
      "../../data/memes_infections.31.20.log\n",
      "10 indexes removed\n",
      "../../data/memes_infections.31.21.log\n",
      "13 indexes removed\n",
      "../../data/memes_infections.31.22.log\n",
      "13 indexes removed\n",
      "../../data/memes_infections.31.23.log\n",
      "4 indexes removed\n",
      "../../data/memes_infections.1.0.log\n",
      "7 indexes removed\n",
      "../../data/memes_infections.1.1.log\n",
      "7 indexes removed\n",
      "../../data/memes_infections.1.2.log\n",
      "6 indexes removed\n",
      "../../data/memes_infections.1.3.log\n",
      "7 indexes removed\n",
      "../../data/memes_infections.1.4.log\n",
      "4 indexes removed\n",
      "../../data/memes_infections.1.5.log\n",
      "9 indexes removed\n",
      "../../data/memes_infections.1.6.log\n",
      "5 indexes removed\n",
      "../../data/memes_infections.1.7.log\n",
      "3 indexes removed\n",
      "../../data/memes_infections.1.8.log\n",
      "8 indexes removed\n",
      "../../data/memes_infections.1.9.log\n",
      "5 indexes removed\n",
      "../../data/memes_infections.1.10.log\n",
      "4 indexes removed\n",
      "../../data/memes_infections.1.11.log\n",
      "7 indexes removed\n",
      "../../data/memes_infections.1.12.log\n",
      "5 indexes removed\n",
      "../../data/memes_infections.1.13.log\n",
      "11 indexes removed\n",
      "../../data/memes_infections.1.14.log\n",
      "8 indexes removed\n",
      "../../data/memes_infections.1.15.log\n",
      "9 indexes removed\n",
      "../../data/memes_infections.1.16.log\n",
      "6 indexes removed\n",
      "../../data/memes_infections.1.17.log\n",
      "12 indexes removed\n",
      "../../data/memes_infections.1.18.log\n",
      "5 indexes removed\n",
      "../../data/memes_infections.1.19.log\n",
      "7 indexes removed\n",
      "../../data/memes_infections.1.20.log\n",
      "7 indexes removed\n",
      "../../data/memes_infections.1.21.log\n",
      "5 indexes removed\n",
      "../../data/memes_infections.1.22.log\n",
      "6 indexes removed\n",
      "../../data/memes_infections.1.23.log\n",
      "5 indexes removed\n",
      "../../data/memes_infections.2.0.log\n",
      "9 indexes removed\n",
      "../../data/memes_infections.2.1.log\n",
      "11 indexes removed\n",
      "../../data/memes_infections.2.2.log\n",
      "8 indexes removed\n",
      "../../data/memes_infections.2.3.log\n",
      "4 indexes removed\n",
      "../../data/memes_infections.2.4.log\n",
      "1 indexes removed\n",
      "../../data/memes_infections.2.5.log\n",
      "2 indexes removed\n",
      "../../data/memes_infections.2.6.log\n",
      "6 indexes removed\n",
      "../../data/memes_infections.2.7.log\n",
      "3 indexes removed\n",
      "../../data/memes_infections.2.8.log\n",
      "14 indexes removed\n",
      "../../data/memes_infections.2.9.log\n",
      "10 indexes removed\n",
      "../../data/memes_infections.2.10.log\n",
      "8 indexes removed\n",
      "../../data/memes_infections.2.11.log\n",
      "4 indexes removed\n",
      "../../data/memes_infections.2.12.log\n",
      "5 indexes removed\n",
      "../../data/memes_infections.2.13.log\n",
      "4 indexes removed\n",
      "../../data/memes_infections.2.14.log\n",
      "4 indexes removed\n",
      "../../data/memes_infections.2.15.log\n",
      "3 indexes removed\n",
      "../../data/memes_infections.2.16.log\n",
      "10 indexes removed\n",
      "../../data/memes_infections.2.17.log\n"
     ]
    },
    {
     "name": "stdout",
     "output_type": "stream",
     "text": [
      "4 indexes removed\n",
      "../../data/memes_infections.2.18.log\n",
      "5 indexes removed\n",
      "../../data/memes_infections.2.19.log\n",
      "12 indexes removed\n",
      "../../data/memes_infections.2.20.log\n",
      "5 indexes removed\n",
      "../../data/memes_infections.2.21.log\n",
      "6 indexes removed\n",
      "../../data/memes_infections.2.22.log\n",
      "10 indexes removed\n",
      "../../data/memes_infections.2.23.log\n",
      "16 indexes removed\n",
      "../../data/memes_infections.3.0.log\n",
      "7 indexes removed\n",
      "../../data/memes_infections.3.1.log\n",
      "../../data/memes_infections.3.2.log\n",
      "3 indexes removed\n",
      "../../data/memes_infections.3.3.log\n",
      "5 indexes removed\n",
      "../../data/memes_infections.3.4.log\n",
      "4 indexes removed\n",
      "../../data/memes_infections.3.5.log\n",
      "4 indexes removed\n",
      "../../data/memes_infections.3.6.log\n",
      "4 indexes removed\n",
      "../../data/memes_infections.3.7.log\n",
      "7 indexes removed\n",
      "../../data/memes_infections.3.8.log\n",
      "9 indexes removed\n",
      "../../data/memes_infections.3.9.log\n",
      "10 indexes removed\n",
      "../../data/memes_infections.3.10.log\n",
      "10 indexes removed\n",
      "../../data/memes_infections.3.11.log\n",
      "4 indexes removed\n",
      "../../data/memes_infections.3.12.log\n",
      "6 indexes removed\n",
      "../../data/memes_infections.3.13.log\n",
      "13 indexes removed\n",
      "../../data/memes_infections.3.14.log\n",
      "6 indexes removed\n",
      "../../data/memes_infections.3.15.log\n",
      "5 indexes removed\n",
      "../../data/memes_infections.3.16.log\n",
      "1 indexes removed\n",
      "../../data/memes_infections.3.17.log\n",
      "2 indexes removed\n",
      "../../data/memes_infections.3.18.log\n",
      "3 indexes removed\n",
      "../../data/memes_infections.3.19.log\n",
      "3 indexes removed\n",
      "../../data/memes_infections.3.20.log\n",
      "5 indexes removed\n",
      "../../data/memes_infections.3.21.log\n",
      "10 indexes removed\n",
      "../../data/memes_infections.3.22.log\n",
      "6 indexes removed\n",
      "../../data/memes_infections.3.23.log\n",
      "11 indexes removed\n",
      "../../data/memes_infections.4.0.log\n",
      "3 indexes removed\n",
      "../../data/memes_infections.4.1.log\n",
      "5 indexes removed\n",
      "../../data/memes_infections.4.2.log\n",
      "8 indexes removed\n",
      "../../data/memes_infections.4.3.log\n",
      "2 indexes removed\n",
      "../../data/memes_infections.4.4.log\n",
      "3 indexes removed\n",
      "../../data/memes_infections.4.5.log\n",
      "2 indexes removed\n",
      "../../data/memes_infections.4.6.log\n",
      "2 indexes removed\n",
      "../../data/memes_infections.4.7.log\n",
      "4 indexes removed\n",
      "../../data/memes_infections.4.8.log\n",
      "1 indexes removed\n",
      "../../data/memes_infections.4.9.log\n",
      "1 indexes removed\n",
      "../../data/memes_infections.4.10.log\n",
      "../../data/memes_infections.4.11.log\n",
      "../../data/memes_infections.4.12.log\n",
      "../../data/memes_infections.4.13.log\n",
      "1 indexes removed\n",
      "../../data/memes_infections.4.14.log\n",
      "../../data/memes_infections.4.15.log\n",
      "../../data/memes_infections.4.16.log\n",
      "3 indexes removed\n",
      "../../data/memes_infections.4.17.log\n",
      "3 indexes removed\n",
      "../../data/memes_infections.4.18.log\n",
      "1 indexes removed\n",
      "../../data/memes_infections.4.19.log\n",
      "../../data/memes_infections.4.20.log\n",
      "1 indexes removed\n",
      "../../data/memes_infections.4.21.log\n",
      "1 indexes removed\n",
      "../../data/memes_infections.4.22.log\n",
      "../../data/memes_infections.4.23.log\n",
      "2 indexes removed\n",
      "../../data/memes_infections.5.0.log\n",
      "5 indexes removed\n",
      "../../data/memes_infections.5.1.log\n",
      "1 indexes removed\n",
      "../../data/memes_infections.5.2.log\n",
      "1 indexes removed\n",
      "../../data/memes_infections.5.3.log\n",
      "1 indexes removed\n",
      "../../data/memes_infections.5.4.log\n",
      "../../data/memes_infections.5.5.log\n",
      "2 indexes removed\n",
      "../../data/memes_infections.5.6.log\n",
      "1 indexes removed\n",
      "../../data/memes_infections.5.7.log\n",
      "1 indexes removed\n",
      "../../data/memes_infections.5.8.log\n",
      "1 indexes removed\n",
      "../../data/memes_infections.5.9.log\n",
      "1 indexes removed\n",
      "../../data/memes_infections.5.10.log\n",
      "12 indexes removed\n",
      "../../data/memes_infections.5.11.log\n",
      "2 indexes removed\n",
      "../../data/memes_infections.5.12.log\n",
      "8 indexes removed\n",
      "../../data/memes_infections.5.13.log\n",
      "5 indexes removed\n",
      "../../data/memes_infections.5.14.log\n",
      "9 indexes removed\n",
      "../../data/memes_infections.5.15.log\n",
      "4 indexes removed\n",
      "../../data/memes_infections.5.16.log\n",
      "4 indexes removed\n",
      "../../data/memes_infections.5.17.log\n",
      "10 indexes removed\n",
      "../../data/memes_infections.5.18.log\n",
      "3 indexes removed\n",
      "../../data/memes_infections.5.19.log\n",
      "5 indexes removed\n",
      "../../data/memes_infections.5.20.log\n",
      "6 indexes removed\n",
      "../../data/memes_infections.5.21.log\n",
      "6 indexes removed\n",
      "../../data/memes_infections.5.22.log\n",
      "6 indexes removed\n",
      "../../data/memes_infections.5.23.log\n",
      "4 indexes removed\n",
      "../../data/memes_infections.6.0.log\n",
      "5 indexes removed\n",
      "../../data/memes_infections.6.1.log\n",
      "4 indexes removed\n",
      "../../data/memes_infections.6.2.log\n",
      "7 indexes removed\n",
      "../../data/memes_infections.6.3.log\n",
      "11 indexes removed\n",
      "../../data/memes_infections.6.4.log\n",
      "4 indexes removed\n",
      "../../data/memes_infections.6.5.log\n",
      "7 indexes removed\n",
      "../../data/memes_infections.6.6.log\n",
      "3 indexes removed\n",
      "../../data/memes_infections.6.7.log\n",
      "11 indexes removed\n",
      "../../data/memes_infections.6.8.log\n",
      "9 indexes removed\n",
      "../../data/memes_infections.6.9.log\n",
      "3 indexes removed\n",
      "../../data/memes_infections.6.10.log\n",
      "5 indexes removed\n",
      "../../data/memes_infections.6.11.log\n",
      "5 indexes removed\n",
      "../../data/memes_infections.6.12.log\n",
      "../../data/memes_infections.6.13.log\n",
      "4 indexes removed\n",
      "../../data/memes_infections.6.14.log\n",
      "7 indexes removed\n",
      "../../data/memes_infections.6.15.log\n",
      "4 indexes removed\n",
      "../../data/memes_infections.6.16.log\n",
      "13 indexes removed\n",
      "../../data/memes_infections.6.17.log\n",
      "11 indexes removed\n",
      "../../data/memes_infections.6.18.log\n",
      "4 indexes removed\n",
      "../../data/memes_infections.6.19.log\n",
      "4 indexes removed\n",
      "../../data/memes_infections.6.20.log\n",
      "8 indexes removed\n",
      "../../data/memes_infections.6.21.log\n",
      "3 indexes removed\n",
      "../../data/memes_infections.6.22.log\n",
      "9 indexes removed\n",
      "../../data/memes_infections.6.23.log\n",
      "10 indexes removed\n",
      "../../data/memes_infections.7.0.log\n",
      "4 indexes removed\n",
      "../../data/memes_infections.7.1.log\n",
      "5 indexes removed\n",
      "../../data/memes_infections.7.2.log\n",
      "9 indexes removed\n",
      "../../data/memes_infections.7.3.log\n",
      "11 indexes removed\n",
      "../../data/memes_infections.7.4.log\n",
      "3 indexes removed\n",
      "../../data/memes_infections.7.5.log\n",
      "9 indexes removed\n",
      "../../data/memes_infections.7.6.log\n",
      "5 indexes removed\n",
      "../../data/memes_infections.7.7.log\n",
      "3 indexes removed\n",
      "../../data/memes_infections.7.8.log\n",
      "4 indexes removed\n",
      "../../data/memes_infections.7.9.log\n",
      "4 indexes removed\n",
      "../../data/memes_infections.7.10.log\n",
      "1 indexes removed\n",
      "../../data/memes_infections.7.11.log\n",
      "6 indexes removed\n",
      "../../data/memes_infections.7.12.log\n",
      "10 indexes removed\n",
      "../../data/memes_infections.7.13.log\n",
      "9 indexes removed\n",
      "../../data/memes_infections.7.14.log\n",
      "8 indexes removed\n",
      "../../data/memes_infections.7.15.log\n",
      "5 indexes removed\n",
      "../../data/memes_infections.7.16.log\n",
      "3 indexes removed\n",
      "../../data/memes_infections.7.17.log\n",
      "6 indexes removed\n",
      "../../data/memes_infections.7.18.log\n",
      "1 indexes removed\n",
      "../../data/memes_infections.7.19.log\n",
      "7 indexes removed\n",
      "../../data/memes_infections.7.20.log\n",
      "5 indexes removed\n",
      "../../data/memes_infections.7.21.log\n",
      "2 indexes removed\n",
      "../../data/memes_infections.7.22.log\n",
      "2 indexes removed\n",
      "../../data/memes_infections.7.23.log\n",
      "6 indexes removed\n",
      "../../data/memes_infections.8.0.log\n",
      "12 indexes removed\n",
      "../../data/memes_infections.8.1.log\n",
      "8 indexes removed\n",
      "../../data/memes_infections.8.2.log\n",
      "5 indexes removed\n",
      "../../data/memes_infections.8.3.log\n",
      "21 indexes removed\n",
      "../../data/memes_infections.8.4.log\n",
      "9 indexes removed\n",
      "../../data/memes_infections.8.5.log\n",
      "7 indexes removed\n",
      "../../data/memes_infections.8.6.log\n",
      "6 indexes removed\n",
      "../../data/memes_infections.8.7.log\n",
      "10 indexes removed\n",
      "../../data/memes_infections.8.8.log\n",
      "2 indexes removed\n",
      "../../data/memes_infections.8.9.log\n",
      "4 indexes removed\n",
      "../../data/memes_infections.8.10.log\n",
      "5 indexes removed\n",
      "../../data/memes_infections.8.11.log\n",
      "5 indexes removed\n",
      "../../data/memes_infections.8.12.log\n",
      "9 indexes removed\n",
      "../../data/memes_infections.8.13.log\n",
      "5 indexes removed\n",
      "../../data/memes_infections.8.14.log\n",
      "4 indexes removed\n",
      "../../data/memes_infections.8.15.log\n",
      "8 indexes removed\n",
      "../../data/memes_infections.8.16.log\n",
      "6 indexes removed\n",
      "../../data/memes_infections.8.17.log\n",
      "10 indexes removed\n",
      "../../data/memes_infections.8.18.log\n",
      "6 indexes removed\n",
      "../../data/memes_infections.8.19.log\n",
      "7 indexes removed\n",
      "../../data/memes_infections.8.20.log\n",
      "11 indexes removed\n",
      "../../data/memes_infections.8.21.log\n",
      "2 indexes removed\n",
      "../../data/memes_infections.8.22.log\n",
      "10 indexes removed\n",
      "../../data/memes_infections.8.23.log\n",
      "8 indexes removed\n",
      "../../data/memes_infections.9.0.log\n",
      "13 indexes removed\n",
      "../../data/memes_infections.9.1.log\n",
      "10 indexes removed\n",
      "../../data/memes_infections.9.2.log\n"
     ]
    },
    {
     "name": "stdout",
     "output_type": "stream",
     "text": [
      "10 indexes removed\n",
      "../../data/memes_infections.9.3.log\n",
      "8 indexes removed\n",
      "../../data/memes_infections.9.4.log\n",
      "4 indexes removed\n",
      "../../data/memes_infections.9.5.log\n",
      "11 indexes removed\n",
      "../../data/memes_infections.9.6.log\n",
      "11 indexes removed\n",
      "../../data/memes_infections.9.7.log\n",
      "11 indexes removed\n",
      "../../data/memes_infections.9.8.log\n",
      "7 indexes removed\n",
      "../../data/memes_infections.9.9.log\n",
      "7 indexes removed\n",
      "../../data/memes_infections.9.10.log\n",
      "7 indexes removed\n",
      "../../data/memes_infections.9.11.log\n",
      "12 indexes removed\n",
      "../../data/memes_infections.9.12.log\n",
      "7 indexes removed\n",
      "../../data/memes_infections.9.13.log\n",
      "../../data/memes_infections.9.14.log\n",
      "2 indexes removed\n",
      "../../data/memes_infections.9.15.log\n",
      "4 indexes removed\n",
      "../../data/memes_infections.9.16.log\n",
      "5 indexes removed\n",
      "../../data/memes_infections.9.17.log\n",
      "2 indexes removed\n",
      "../../data/memes_infections.9.18.log\n",
      "10 indexes removed\n",
      "../../data/memes_infections.9.19.log\n",
      "7 indexes removed\n",
      "../../data/memes_infections.9.20.log\n",
      "8 indexes removed\n",
      "../../data/memes_infections.9.21.log\n",
      "9 indexes removed\n",
      "../../data/memes_infections.9.22.log\n",
      "16 indexes removed\n",
      "../../data/memes_infections.9.23.log\n",
      "4 indexes removed\n",
      "../../data/memes_infections.10.0.log\n",
      "8 indexes removed\n",
      "../../data/memes_infections.10.1.log\n",
      "14 indexes removed\n",
      "../../data/memes_infections.10.2.log\n",
      "8 indexes removed\n",
      "../../data/memes_infections.10.3.log\n",
      "7 indexes removed\n",
      "../../data/memes_infections.10.4.log\n",
      "8 indexes removed\n",
      "../../data/memes_infections.10.5.log\n",
      "10 indexes removed\n",
      "../../data/memes_infections.10.6.log\n",
      "8 indexes removed\n",
      "../../data/memes_infections.10.7.log\n",
      "6 indexes removed\n",
      "../../data/memes_infections.10.8.log\n",
      "7 indexes removed\n",
      "../../data/memes_infections.10.9.log\n",
      "5 indexes removed\n",
      "../../data/memes_infections.10.10.log\n",
      "6 indexes removed\n",
      "../../data/memes_infections.10.11.log\n",
      "4 indexes removed\n",
      "../../data/memes_infections.10.12.log\n",
      "13 indexes removed\n",
      "../../data/memes_infections.10.13.log\n",
      "6 indexes removed\n",
      "../../data/memes_infections.10.14.log\n",
      "../../data/memes_infections.10.15.log\n",
      "19 indexes removed\n",
      "../../data/memes_infections.10.16.log\n",
      "13 indexes removed\n",
      "../../data/memes_infections.10.17.log\n",
      "10 indexes removed\n",
      "../../data/memes_infections.10.18.log\n",
      "8 indexes removed\n",
      "../../data/memes_infections.10.19.log\n",
      "11 indexes removed\n",
      "../../data/memes_infections.10.20.log\n",
      "7 indexes removed\n",
      "../../data/memes_infections.10.21.log\n",
      "7 indexes removed\n",
      "../../data/memes_infections.10.22.log\n",
      "6 indexes removed\n",
      "../../data/memes_infections.10.23.log\n",
      "7 indexes removed\n",
      "../../data/memes_infections.11.0.log\n",
      "6 indexes removed\n",
      "../../data/memes_infections.11.1.log\n",
      "6 indexes removed\n",
      "../../data/memes_infections.11.2.log\n",
      "10 indexes removed\n",
      "../../data/memes_infections.11.3.log\n",
      "8 indexes removed\n",
      "../../data/memes_infections.11.4.log\n",
      "4 indexes removed\n",
      "../../data/memes_infections.11.5.log\n",
      "4 indexes removed\n",
      "../../data/memes_infections.11.6.log\n",
      "1 indexes removed\n",
      "../../data/memes_infections.11.7.log\n",
      "5 indexes removed\n",
      "../../data/memes_infections.11.8.log\n",
      "9 indexes removed\n",
      "../../data/memes_infections.11.9.log\n",
      "8 indexes removed\n",
      "../../data/memes_infections.11.10.log\n",
      "9 indexes removed\n",
      "../../data/memes_infections.11.11.log\n",
      "9 indexes removed\n",
      "../../data/memes_infections.11.12.log\n",
      "16 indexes removed\n",
      "../../data/memes_infections.11.13.log\n",
      "5 indexes removed\n",
      "../../data/memes_infections.11.14.log\n",
      "6 indexes removed\n",
      "../../data/memes_infections.11.15.log\n",
      "4 indexes removed\n",
      "../../data/memes_infections.11.16.log\n",
      "5 indexes removed\n",
      "../../data/memes_infections.11.17.log\n",
      "4 indexes removed\n",
      "../../data/memes_infections.11.18.log\n",
      "5 indexes removed\n",
      "../../data/memes_infections.11.19.log\n",
      "12 indexes removed\n",
      "../../data/memes_infections.11.20.log\n",
      "12 indexes removed\n",
      "../../data/memes_infections.11.21.log\n",
      "12 indexes removed\n",
      "../../data/memes_infections.11.22.log\n",
      "5 indexes removed\n",
      "../../data/memes_infections.11.23.log\n",
      "8 indexes removed\n",
      "../../data/memes_infections.12.0.log\n",
      "9 indexes removed\n",
      "../../data/memes_infections.12.1.log\n",
      "12 indexes removed\n",
      "../../data/memes_infections.12.2.log\n",
      "5 indexes removed\n",
      "../../data/memes_infections.12.3.log\n",
      "6 indexes removed\n",
      "../../data/memes_infections.12.4.log\n",
      "3 indexes removed\n",
      "../../data/memes_infections.12.5.log\n",
      "5 indexes removed\n",
      "../../data/memes_infections.12.6.log\n",
      "3 indexes removed\n",
      "../../data/memes_infections.12.7.log\n",
      "5 indexes removed\n",
      "../../data/memes_infections.12.8.log\n",
      "11 indexes removed\n",
      "../../data/memes_infections.12.9.log\n",
      "3 indexes removed\n",
      "../../data/memes_infections.12.10.log\n",
      "6 indexes removed\n",
      "../../data/memes_infections.12.11.log\n",
      "5 indexes removed\n",
      "../../data/memes_infections.12.12.log\n",
      "3 indexes removed\n",
      "../../data/memes_infections.12.13.log\n",
      "5 indexes removed\n",
      "../../data/memes_infections.12.14.log\n",
      "9 indexes removed\n",
      "../../data/memes_infections.12.15.log\n",
      "12 indexes removed\n",
      "../../data/memes_infections.12.16.log\n",
      "16 indexes removed\n",
      "../../data/memes_infections.12.17.log\n",
      "13 indexes removed\n",
      "../../data/memes_infections.12.18.log\n",
      "21 indexes removed\n",
      "../../data/memes_infections.12.19.log\n",
      "16 indexes removed\n",
      "../../data/memes_infections.12.20.log\n",
      "18 indexes removed\n",
      "../../data/memes_infections.12.21.log\n",
      "15 indexes removed\n",
      "../../data/memes_infections.12.22.log\n",
      "5 indexes removed\n",
      "../../data/memes_infections.12.23.log\n",
      "12 indexes removed\n",
      "../../data/memes_infections.13.0.log\n",
      "17 indexes removed\n",
      "../../data/memes_infections.13.1.log\n",
      "2 indexes removed\n",
      "../../data/memes_infections.13.2.log\n",
      "5 indexes removed\n",
      "../../data/memes_infections.13.3.log\n",
      "12 indexes removed\n",
      "../../data/memes_infections.13.4.log\n",
      "11 indexes removed\n",
      "../../data/memes_infections.13.5.log\n",
      "12 indexes removed\n",
      "../../data/memes_infections.13.6.log\n",
      "1 indexes removed\n",
      "../../data/memes_infections.13.7.log\n",
      "6 indexes removed\n",
      "../../data/memes_infections.13.8.log\n",
      "8 indexes removed\n",
      "../../data/memes_infections.13.9.log\n",
      "13 indexes removed\n",
      "../../data/memes_infections.13.10.log\n",
      "14 indexes removed\n",
      "../../data/memes_infections.13.11.log\n",
      "18 indexes removed\n",
      "../../data/memes_infections.13.12.log\n",
      "6 indexes removed\n",
      "../../data/memes_infections.13.13.log\n",
      "13 indexes removed\n",
      "../../data/memes_infections.13.14.log\n",
      "10 indexes removed\n",
      "../../data/memes_infections.13.15.log\n",
      "7 indexes removed\n",
      "../../data/memes_infections.13.16.log\n",
      "15 indexes removed\n",
      "../../data/memes_infections.13.17.log\n",
      "16 indexes removed\n",
      "../../data/memes_infections.13.18.log\n",
      "18 indexes removed\n",
      "../../data/memes_infections.13.19.log\n",
      "9 indexes removed\n",
      "../../data/memes_infections.13.20.log\n",
      "13 indexes removed\n",
      "../../data/memes_infections.13.21.log\n",
      "9 indexes removed\n",
      "../../data/memes_infections.13.22.log\n",
      "11 indexes removed\n",
      "../../data/memes_infections.13.23.log\n",
      "13 indexes removed\n",
      "../../data/memes_infections.14.0.log\n",
      "14 indexes removed\n",
      "../../data/memes_infections.14.1.log\n",
      "11 indexes removed\n",
      "../../data/memes_infections.14.2.log\n",
      "12 indexes removed\n",
      "../../data/memes_infections.14.3.log\n",
      "15 indexes removed\n",
      "../../data/memes_infections.14.4.log\n",
      "16 indexes removed\n",
      "../../data/memes_infections.14.5.log\n",
      "10 indexes removed\n",
      "../../data/memes_infections.14.6.log\n",
      "8 indexes removed\n",
      "../../data/memes_infections.14.7.log\n",
      "8 indexes removed\n",
      "../../data/memes_infections.14.8.log\n",
      "5 indexes removed\n",
      "../../data/memes_infections.14.9.log\n",
      "5 indexes removed\n",
      "../../data/memes_infections.14.10.log\n",
      "6 indexes removed\n",
      "../../data/memes_infections.14.11.log\n",
      "9 indexes removed\n",
      "../../data/memes_infections.14.12.log\n",
      "8 indexes removed\n",
      "../../data/memes_infections.14.13.log\n",
      "8 indexes removed\n",
      "../../data/memes_infections.14.14.log\n",
      "5 indexes removed\n",
      "../../data/memes_infections.14.15.log\n",
      "10 indexes removed\n",
      "../../data/memes_infections.14.16.log\n",
      "8 indexes removed\n",
      "../../data/memes_infections.14.17.log\n",
      "7 indexes removed\n",
      "../../data/memes_infections.14.18.log\n",
      "9 indexes removed\n",
      "../../data/memes_infections.14.19.log\n",
      "9 indexes removed\n",
      "../../data/memes_infections.14.20.log\n",
      "8 indexes removed\n",
      "../../data/memes_infections.14.21.log\n",
      "21 indexes removed\n",
      "../../data/memes_infections.14.22.log\n",
      "27 indexes removed\n",
      "../../data/memes_infections.14.23.log\n",
      "15 indexes removed\n",
      "../../data/memes_infections.15.0.log\n",
      "9 indexes removed\n",
      "../../data/memes_infections.15.1.log\n",
      "7 indexes removed\n",
      "../../data/memes_infections.15.2.log\n",
      "7 indexes removed\n",
      "../../data/memes_infections.15.3.log\n",
      "8 indexes removed\n",
      "../../data/memes_infections.15.4.log\n",
      "2 indexes removed\n",
      "../../data/memes_infections.15.5.log\n",
      "15 indexes removed\n",
      "../../data/memes_infections.15.6.log\n"
     ]
    },
    {
     "name": "stdout",
     "output_type": "stream",
     "text": [
      "8 indexes removed\n",
      "../../data/memes_infections.15.7.log\n",
      "10 indexes removed\n",
      "../../data/memes_infections.15.8.log\n",
      "3 indexes removed\n",
      "../../data/memes_infections.15.9.log\n",
      "8 indexes removed\n",
      "../../data/memes_infections.15.10.log\n",
      "6 indexes removed\n",
      "../../data/memes_infections.15.11.log\n",
      "6 indexes removed\n",
      "../../data/memes_infections.15.12.log\n",
      "17 indexes removed\n",
      "../../data/memes_infections.15.13.log\n",
      "8 indexes removed\n",
      "../../data/memes_infections.15.14.log\n",
      "7 indexes removed\n",
      "../../data/memes_infections.15.15.log\n",
      "3 indexes removed\n",
      "../../data/memes_infections.15.16.log\n",
      "5 indexes removed\n",
      "../../data/memes_infections.15.17.log\n",
      "9 indexes removed\n",
      "../../data/memes_infections.15.18.log\n",
      "4 indexes removed\n",
      "../../data/memes_infections.15.19.log\n",
      "5 indexes removed\n",
      "../../data/memes_infections.15.20.log\n",
      "12 indexes removed\n",
      "../../data/memes_infections.15.21.log\n",
      "8 indexes removed\n",
      "../../data/memes_infections.15.22.log\n",
      "3 indexes removed\n",
      "../../data/memes_infections.15.23.log\n",
      "12 indexes removed\n",
      "../../data/memes_infections.16.0.log\n",
      "10 indexes removed\n",
      "../../data/memes_infections.16.1.log\n",
      "12 indexes removed\n",
      "../../data/memes_infections.16.2.log\n",
      "12 indexes removed\n",
      "../../data/memes_infections.16.3.log\n",
      "10 indexes removed\n",
      "../../data/memes_infections.16.4.log\n",
      "9 indexes removed\n",
      "../../data/memes_infections.16.5.log\n",
      "7 indexes removed\n",
      "../../data/memes_infections.16.6.log\n",
      "6 indexes removed\n",
      "../../data/memes_infections.16.7.log\n",
      "9 indexes removed\n",
      "../../data/memes_infections.16.8.log\n",
      "11 indexes removed\n",
      "../../data/memes_infections.16.9.log\n",
      "17 indexes removed\n",
      "../../data/memes_infections.16.10.log\n",
      "3 indexes removed\n",
      "../../data/memes_infections.16.11.log\n",
      "11 indexes removed\n",
      "../../data/memes_infections.16.12.log\n",
      "9 indexes removed\n",
      "../../data/memes_infections.16.13.log\n",
      "9 indexes removed\n",
      "../../data/memes_infections.16.14.log\n",
      "14 indexes removed\n",
      "../../data/memes_infections.16.15.log\n",
      "9 indexes removed\n",
      "../../data/memes_infections.16.16.log\n",
      "13 indexes removed\n",
      "../../data/memes_infections.16.17.log\n",
      "8 indexes removed\n",
      "../../data/memes_infections.16.18.log\n",
      "10 indexes removed\n",
      "../../data/memes_infections.16.19.log\n",
      "4 indexes removed\n",
      "../../data/memes_infections.16.20.log\n",
      "11 indexes removed\n",
      "../../data/memes_infections.16.21.log\n",
      "8 indexes removed\n",
      "../../data/memes_infections.16.22.log\n",
      "6 indexes removed\n",
      "../../data/memes_infections.16.23.log\n",
      "9 indexes removed\n",
      "../../data/memes_infections.17.0.log\n",
      "9 indexes removed\n",
      "../../data/memes_infections.17.1.log\n",
      "16 indexes removed\n",
      "../../data/memes_infections.17.2.log\n",
      "11 indexes removed\n",
      "../../data/memes_infections.17.3.log\n",
      "6 indexes removed\n",
      "../../data/memes_infections.17.4.log\n",
      "6 indexes removed\n",
      "../../data/memes_infections.17.5.log\n",
      "12 indexes removed\n",
      "../../data/memes_infections.17.6.log\n",
      "2 indexes removed\n",
      "../../data/memes_infections.17.7.log\n",
      "6 indexes removed\n",
      "../../data/memes_infections.17.8.log\n",
      "15 indexes removed\n",
      "../../data/memes_infections.17.9.log\n",
      "5 indexes removed\n",
      "../../data/memes_infections.17.10.log\n",
      "2 indexes removed\n",
      "../../data/memes_infections.17.11.log\n",
      "3 indexes removed\n",
      "../../data/memes_infections.17.12.log\n",
      "9 indexes removed\n",
      "../../data/memes_infections.17.13.log\n",
      "7 indexes removed\n",
      "../../data/memes_infections.17.14.log\n",
      "7 indexes removed\n",
      "../../data/memes_infections.17.15.log\n",
      "11 indexes removed\n"
     ]
    }
   ],
   "source": [
    "infectee_data_2, invalid_infectors, invalid_roots = fix_ancestry_2()"
   ]
  },
  {
   "cell_type": "code",
   "execution_count": 219,
   "metadata": {},
   "outputs": [
    {
     "name": "stdout",
     "output_type": "stream",
     "text": [
      "True\n",
      "\n",
      "u/woodendoors7\n",
      "u/personface15\n"
     ]
    }
   ],
   "source": [
    "import networkx as nx\n",
    "\n",
    "infection_graph = nx.DiGraph()\n",
    "\n",
    "nodes = set(infectee_data_2) | set(infectee_data_2.values())\n",
    "infection_graph.add_nodes_from(nodes)\n",
    "infection_graph.add_edges_from([(v, k) for k,v in infectee_data_2.items()])\n",
    "print(nx.algorithms.dag.is_directed_acyclic_graph(infection_graph))\n",
    "top_sort = iter(nx.algorithms.dag.topological_sort(infection_graph))\n",
    "for _ in range(3):\n",
    "    print(next(top_sort))"
   ]
  }
 ],
 "metadata": {
  "kernelspec": {
   "display_name": "Python 3",
   "language": "python",
   "name": "python3"
  },
  "language_info": {
   "codemirror_mode": {
    "name": "ipython",
    "version": 3
   },
   "file_extension": ".py",
   "mimetype": "text/x-python",
   "name": "python",
   "nbconvert_exporter": "python",
   "pygments_lexer": "ipython3",
   "version": "3.5.3"
  }
 },
 "nbformat": 4,
 "nbformat_minor": 4
}
