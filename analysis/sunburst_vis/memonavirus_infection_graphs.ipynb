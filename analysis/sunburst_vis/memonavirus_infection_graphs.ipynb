{
 "cells": [
  {
   "cell_type": "code",
   "execution_count": 3,
   "metadata": {},
   "outputs": [
    {
     "name": "stdout",
     "output_type": "stream",
     "text": [
      "memes_comments.20.19.log    memes_infections.20.20.log\r\n",
      "memes_comments.20.20.log    memes_infections.20.21.log\r\n",
      "memes_comments.20.21.log    memes_infections.20.22.log\r\n",
      "memes_comments.20.22.log    memes_infections.20.23.log\r\n",
      "memes_comments.20.23.log    memes_infections.21.0.log\r\n",
      "memes_comments.21.0.log     memes_infections.21.10.log\r\n",
      "memes_comments.21.10.log    memes_infections.21.11.log\r\n",
      "memes_comments.21.11.log    memes_infections.21.1.log\r\n",
      "memes_comments.21.1.log     memes_infections.21.2.log\r\n",
      "memes_comments.21.2.log     memes_infections.21.3.log\r\n",
      "memes_comments.21.3.log     memes_infections.21.4.log\r\n",
      "memes_comments.21.4.log     memes_infections.21.5.log\r\n",
      "memes_comments.21.5.log     memes_infections.21.6.log\r\n",
      "memes_comments.21.6.log     memes_infections.21.7.log\r\n",
      "memes_comments.21.7.log     memes_infections.21.8.log\r\n",
      "memes_comments.21.8.log     memes_infections.21.9.log\r\n",
      "memes_comments.21.9.log     README.md\r\n",
      "memes_infections.20.19.log\r\n"
     ]
    }
   ],
   "source": [
    "!ls ../../data/"
   ]
  },
  {
   "cell_type": "code",
   "execution_count": 63,
   "metadata": {},
   "outputs": [],
   "source": [
    "# imports\n",
    "\n",
    "%matplotlib inline\n",
    "\n",
    "# import codecs\n",
    "import pandas\n",
    "import glob\n",
    "from datetime import datetime\n",
    "from collections import defaultdict\n",
    "import numpy as np\n",
    "\n",
    "# import networkx as nx\n",
    "# import plotly.graph_objects as go\n",
    "import plotly.express as px"
   ]
  },
  {
   "cell_type": "code",
   "execution_count": 64,
   "metadata": {},
   "outputs": [
    {
     "data": {
      "text/plain": [
       "['../../data/memes_infections.21.22.log',\n",
       " '../../data/memes_infections.21.23.log',\n",
       " '../../data/memes_infections.22.0.log',\n",
       " '../../data/memes_infections.22.1.log',\n",
       " '../../data/memes_infections.22.10.log',\n",
       " '../../data/memes_infections.22.11.log',\n",
       " '../../data/memes_infections.22.12.log',\n",
       " '../../data/memes_infections.22.13.log',\n",
       " '../../data/memes_infections.22.2.log',\n",
       " '../../data/memes_infections.22.3.log',\n",
       " '../../data/memes_infections.22.4.log',\n",
       " '../../data/memes_infections.22.5.log',\n",
       " '../../data/memes_infections.22.6.log',\n",
       " '../../data/memes_infections.22.7.log',\n",
       " '../../data/memes_infections.22.8.log',\n",
       " '../../data/memes_infections.22.9.log',\n",
       " '../../data/memes_infections.20.20.log',\n",
       " '../../data/memes_infections.20.21.log',\n",
       " '../../data/memes_infections.20.22.log',\n",
       " '../../data/memes_infections.20.23.log',\n",
       " '../../data/memes_infections.21.0.log',\n",
       " '../../data/memes_infections.21.1.log',\n",
       " '../../data/memes_infections.21.10.log',\n",
       " '../../data/memes_infections.21.11.log',\n",
       " '../../data/memes_infections.21.12.log',\n",
       " '../../data/memes_infections.21.13.log',\n",
       " '../../data/memes_infections.21.14.log',\n",
       " '../../data/memes_infections.21.15.log',\n",
       " '../../data/memes_infections.21.16.log',\n",
       " '../../data/memes_infections.21.17.log',\n",
       " '../../data/memes_infections.21.18.log',\n",
       " '../../data/memes_infections.21.19.log',\n",
       " '../../data/memes_infections.21.2.log',\n",
       " '../../data/memes_infections.21.21.log',\n",
       " '../../data/memes_infections.21.3.log',\n",
       " '../../data/memes_infections.21.4.log',\n",
       " '../../data/memes_infections.21.5.log',\n",
       " '../../data/memes_infections.21.6.log',\n",
       " '../../data/memes_infections.21.7.log',\n",
       " '../../data/memes_infections.21.8.log',\n",
       " '../../data/memes_infections.21.9.log',\n",
       " '../../data/memes_infections.20.19.log',\n",
       " '../../data/memes_infections.21.20.log',\n",
       " '../../data/memes_infections.22.14.log',\n",
       " '../../data/memes_infections.22.15.log',\n",
       " '../../data/memes_infections.22.16.log',\n",
       " '../../data/memes_infections.22.17.log',\n",
       " '../../data/memes_infections.22.18.log',\n",
       " '../../data/memes_infections.22.19.log',\n",
       " '../../data/memes_infections.22.20.log',\n",
       " '../../data/memes_infections.22.21.log',\n",
       " '../../data/memes_infections.22.22.log',\n",
       " '../../data/memes_infections.22.23.log',\n",
       " '../../data/memes_infections.23.0.log',\n",
       " '../../data/memes_infections.23.1.log',\n",
       " '../../data/memes_infections.23.10.log',\n",
       " '../../data/memes_infections.23.11.log',\n",
       " '../../data/memes_infections.23.12.log',\n",
       " '../../data/memes_infections.23.13.log',\n",
       " '../../data/memes_infections.23.14.log',\n",
       " '../../data/memes_infections.23.15.log',\n",
       " '../../data/memes_infections.23.16.log',\n",
       " '../../data/memes_infections.23.17.log',\n",
       " '../../data/memes_infections.23.18.log',\n",
       " '../../data/memes_infections.23.19.log',\n",
       " '../../data/memes_infections.23.2.log',\n",
       " '../../data/memes_infections.23.20.log',\n",
       " '../../data/memes_infections.23.21.log',\n",
       " '../../data/memes_infections.23.22.log',\n",
       " '../../data/memes_infections.23.23.log',\n",
       " '../../data/memes_infections.23.3.log',\n",
       " '../../data/memes_infections.23.4.log',\n",
       " '../../data/memes_infections.23.5.log',\n",
       " '../../data/memes_infections.23.6.log',\n",
       " '../../data/memes_infections.23.7.log',\n",
       " '../../data/memes_infections.23.8.log',\n",
       " '../../data/memes_infections.23.9.log',\n",
       " '../../data/memes_infections.24.0.log',\n",
       " '../../data/memes_infections.24.1.log',\n",
       " '../../data/memes_infections.24.10.log',\n",
       " '../../data/memes_infections.24.11.log',\n",
       " '../../data/memes_infections.24.12.log',\n",
       " '../../data/memes_infections.24.13.log',\n",
       " '../../data/memes_infections.24.14.log',\n",
       " '../../data/memes_infections.24.15.log',\n",
       " '../../data/memes_infections.24.16.log',\n",
       " '../../data/memes_infections.24.17.log',\n",
       " '../../data/memes_infections.24.18.log',\n",
       " '../../data/memes_infections.24.19.log',\n",
       " '../../data/memes_infections.24.2.log',\n",
       " '../../data/memes_infections.24.20.log',\n",
       " '../../data/memes_infections.24.21.log',\n",
       " '../../data/memes_infections.24.22.log',\n",
       " '../../data/memes_infections.24.23.log',\n",
       " '../../data/memes_infections.24.3.log',\n",
       " '../../data/memes_infections.24.4.log',\n",
       " '../../data/memes_infections.24.5.log',\n",
       " '../../data/memes_infections.24.6.log',\n",
       " '../../data/memes_infections.24.7.log',\n",
       " '../../data/memes_infections.24.8.log',\n",
       " '../../data/memes_infections.24.9.log',\n",
       " '../../data/memes_infections.25.0.log',\n",
       " '../../data/memes_infections.25.10.log',\n",
       " '../../data/memes_infections.25.11.log',\n",
       " '../../data/memes_infections.25.12.log',\n",
       " '../../data/memes_infections.25.13.log',\n",
       " '../../data/memes_infections.25.3.log',\n",
       " '../../data/memes_infections.25.4.log',\n",
       " '../../data/memes_infections.25.5.log',\n",
       " '../../data/memes_infections.25.6.log',\n",
       " '../../data/memes_infections.25.7.log',\n",
       " '../../data/memes_infections.25.8.log',\n",
       " '../../data/memes_infections.25.9.log']"
      ]
     },
     "execution_count": 64,
     "metadata": {},
     "output_type": "execute_result"
    }
   ],
   "source": [
    "glob.glob('../../data/memes_infections*.log')"
   ]
  },
  {
   "cell_type": "code",
   "execution_count": 2,
   "metadata": {},
   "outputs": [],
   "source": [
    "PATIENT_0 = 'u/woodendoors7'"
   ]
  },
  {
   "cell_type": "code",
   "execution_count": 65,
   "metadata": {},
   "outputs": [
    {
     "name": "stdout",
     "output_type": "stream",
     "text": [
      "175764\n"
     ]
    },
    {
     "data": {
      "text/html": [
       "<div>\n",
       "<style scoped>\n",
       "    .dataframe tbody tr th:only-of-type {\n",
       "        vertical-align: middle;\n",
       "    }\n",
       "\n",
       "    .dataframe tbody tr th {\n",
       "        vertical-align: top;\n",
       "    }\n",
       "\n",
       "    .dataframe thead th {\n",
       "        text-align: right;\n",
       "    }\n",
       "</style>\n",
       "<table border=\"1\" class=\"dataframe\">\n",
       "  <thead>\n",
       "    <tr style=\"text-align: right;\">\n",
       "      <th></th>\n",
       "      <th>post_dt</th>\n",
       "      <th>infectee_name</th>\n",
       "      <th>infectee_post_id</th>\n",
       "      <th>infector_name</th>\n",
       "      <th>infector_post_id</th>\n",
       "      <th>comment_or_submission</th>\n",
       "    </tr>\n",
       "  </thead>\n",
       "  <tbody>\n",
       "    <tr>\n",
       "      <th>0</th>\n",
       "      <td>2020-03-20 19:59:59.000000</td>\n",
       "      <td>u/woodendoors7</td>\n",
       "      <td>NaN</td>\n",
       "      <td>NaN</td>\n",
       "      <td>NaN</td>\n",
       "      <td>NaN</td>\n",
       "    </tr>\n",
       "    <tr>\n",
       "      <th>0</th>\n",
       "      <td>2020-03-20 20:35:13.853753</td>\n",
       "      <td>u/austind9999</td>\n",
       "      <td>fl2h4gq</td>\n",
       "      <td>u/woodendoors7</td>\n",
       "      <td>fl2gay3</td>\n",
       "      <td>C</td>\n",
       "    </tr>\n",
       "    <tr>\n",
       "      <th>1</th>\n",
       "      <td>2020-03-20 20:37:34.242409</td>\n",
       "      <td>u/unclerico589</td>\n",
       "      <td>fl2hcd5</td>\n",
       "      <td>u/woodendoors7</td>\n",
       "      <td>fl2f39v</td>\n",
       "      <td>C</td>\n",
       "    </tr>\n",
       "    <tr>\n",
       "      <th>2</th>\n",
       "      <td>2020-03-20 20:40:43.198092</td>\n",
       "      <td>u/saikmat</td>\n",
       "      <td>fl2hmgw</td>\n",
       "      <td>u/woodendoors7</td>\n",
       "      <td>fl2hgh0</td>\n",
       "      <td>C</td>\n",
       "    </tr>\n",
       "    <tr>\n",
       "      <th>3</th>\n",
       "      <td>2020-03-20 20:45:22.757004</td>\n",
       "      <td>u/Nash_underscore</td>\n",
       "      <td>fl2hzd9</td>\n",
       "      <td>u/woodendoors7</td>\n",
       "      <td>fl2hyeu</td>\n",
       "      <td>C</td>\n",
       "    </tr>\n",
       "  </tbody>\n",
       "</table>\n",
       "</div>"
      ],
      "text/plain": [
       "                     post_dt      infectee_name infectee_post_id  \\\n",
       "0 2020-03-20 19:59:59.000000     u/woodendoors7              NaN   \n",
       "0 2020-03-20 20:35:13.853753      u/austind9999          fl2h4gq   \n",
       "1 2020-03-20 20:37:34.242409     u/unclerico589          fl2hcd5   \n",
       "2 2020-03-20 20:40:43.198092          u/saikmat          fl2hmgw   \n",
       "3 2020-03-20 20:45:22.757004  u/Nash_underscore          fl2hzd9   \n",
       "\n",
       "    infector_name infector_post_id comment_or_submission  \n",
       "0             NaN              NaN                   NaN  \n",
       "0  u/woodendoors7          fl2gay3                     C  \n",
       "1  u/woodendoors7          fl2f39v                     C  \n",
       "2  u/woodendoors7          fl2hgh0                     C  \n",
       "3  u/woodendoors7          fl2hyeu                     C  "
      ]
     },
     "execution_count": 65,
     "metadata": {},
     "output_type": "execute_result"
    }
   ],
   "source": [
    "# doc = codecs.open('../data/memes_infections.20.20.log','rU','UTF-16')\n",
    "all_files = glob.glob('../../data/memes_infections*.log')\n",
    "get_file = lambda fname: pandas.read_csv(\n",
    "    fname,\n",
    "    sep='\\t',\n",
    "    header=None,\n",
    "    names=['post_dt',\n",
    "            'infectee_name',\n",
    "            'infectee_post_id',\n",
    "            'infector_name',\n",
    "            'infector_post_id',\n",
    "            'comment_or_submission'],\n",
    "    parse_dates=['post_dt']\n",
    ")\n",
    "df = pandas.concat([get_file(f) for f in all_files])\n",
    "df.sort_values('post_dt', inplace=True)\n",
    "print(df.size)\n",
    "df.head()"
   ]
  },
  {
   "cell_type": "code",
   "execution_count": 4,
   "metadata": {},
   "outputs": [
    {
     "data": {
      "text/plain": [
       "[post_dt                  2020-03-20 19:59:59\n",
       " infectee_name                 u/woodendoors7\n",
       " infectee_post_id                         NaN\n",
       " infector_name                            NaN\n",
       " infector_post_id                         NaN\n",
       " comment_or_submission                    NaN\n",
       " Name: 0, dtype: object]"
      ]
     },
     "execution_count": 4,
     "metadata": {},
     "output_type": "execute_result"
    }
   ],
   "source": [
    "# [row for index, row in df.iterrows() if row.infectee_name == PATIENT_0]"
   ]
  },
  {
   "cell_type": "code",
   "execution_count": 50,
   "metadata": {},
   "outputs": [
    {
     "data": {
      "text/html": [
       "<div>\n",
       "<style scoped>\n",
       "    .dataframe tbody tr th:only-of-type {\n",
       "        vertical-align: middle;\n",
       "    }\n",
       "\n",
       "    .dataframe tbody tr th {\n",
       "        vertical-align: top;\n",
       "    }\n",
       "\n",
       "    .dataframe thead th {\n",
       "        text-align: right;\n",
       "    }\n",
       "</style>\n",
       "<table border=\"1\" class=\"dataframe\">\n",
       "  <thead>\n",
       "    <tr style=\"text-align: right;\">\n",
       "      <th></th>\n",
       "      <th>post_dt</th>\n",
       "      <th>infectee_name</th>\n",
       "      <th>infectee_post_id</th>\n",
       "      <th>infector_name</th>\n",
       "      <th>infector_post_id</th>\n",
       "      <th>comment_or_submission</th>\n",
       "    </tr>\n",
       "  </thead>\n",
       "  <tbody>\n",
       "    <tr>\n",
       "      <th>0</th>\n",
       "      <td>2020-03-20 20:35:13.853753</td>\n",
       "      <td>u/austind9999</td>\n",
       "      <td>fl2h4gq</td>\n",
       "      <td>u/woodendoors7</td>\n",
       "      <td>fl2gay3</td>\n",
       "      <td>C</td>\n",
       "    </tr>\n",
       "    <tr>\n",
       "      <th>1</th>\n",
       "      <td>2020-03-20 20:37:34.242409</td>\n",
       "      <td>u/unclerico589</td>\n",
       "      <td>fl2hcd5</td>\n",
       "      <td>u/woodendoors7</td>\n",
       "      <td>fl2f39v</td>\n",
       "      <td>C</td>\n",
       "    </tr>\n",
       "  </tbody>\n",
       "</table>\n",
       "</div>"
      ],
      "text/plain": [
       "                     post_dt   infectee_name infectee_post_id   infector_name  \\\n",
       "0 2020-03-20 20:35:13.853753   u/austind9999          fl2h4gq  u/woodendoors7   \n",
       "1 2020-03-20 20:37:34.242409  u/unclerico589          fl2hcd5  u/woodendoors7   \n",
       "\n",
       "  infector_post_id comment_or_submission  \n",
       "0          fl2gay3                     C  \n",
       "1          fl2f39v                     C  "
      ]
     },
     "execution_count": 50,
     "metadata": {},
     "output_type": "execute_result"
    }
   ],
   "source": [
    "# list(df.iterrows())[0][1].to_dict()\n",
    "# df[:2]"
   ]
  },
  {
   "cell_type": "code",
   "execution_count": 40,
   "metadata": {},
   "outputs": [],
   "source": [
    "# infection_graph = nx.DiGraph()\n",
    "\n",
    "# for index, row in df.iterrows():\n",
    "#     infection_graph.add_node(row.infector_name)\n",
    "#     infection_graph.add_node(row.infectee_name)\n",
    "#     infection_graph.add_edge(row.infector_name, row.infectee_name, **row.to_dict())\n",
    "# infection_graph.edges(data=True)"
   ]
  },
  {
   "cell_type": "code",
   "execution_count": 66,
   "metadata": {},
   "outputs": [],
   "source": [
    "infectee_infector = {}\n",
    "for index, row in df.iterrows():\n",
    "    infectee_infector[row.infectee_name] = row.infector_name"
   ]
  },
  {
   "cell_type": "code",
   "execution_count": 5,
   "metadata": {},
   "outputs": [
    {
     "data": {
      "text/plain": [
       "8553"
      ]
     },
     "execution_count": 5,
     "metadata": {},
     "output_type": "execute_result"
    }
   ],
   "source": [
    "len(infectee_infector)"
   ]
  },
  {
   "cell_type": "code",
   "execution_count": 83,
   "metadata": {},
   "outputs": [
    {
     "name": "stdout",
     "output_type": "stream",
     "text": [
      "47\n"
     ]
    }
   ],
   "source": [
    "data = {\n",
    "    'infectee': [],\n",
    "    'infector': [],\n",
    "    'value': []\n",
    "}\n",
    "processed = set()\n",
    "\n",
    "def get_patient_0(user):\n",
    "    if user not in infectee_infector or user == PATIENT_0:\n",
    "        return user\n",
    "    else:\n",
    "        return get_patient_0(infectee_infector[user])\n",
    "\n",
    "valid_infectors = {}\n",
    "valid_infectors[np.NaN] = []\n",
    "invalid_infectors = set()\n",
    "valid = set()\n",
    "count = 0\n",
    "for index, row in df.iterrows():\n",
    "    count+=1\n",
    "    processed = set()\n",
    "    source_pat_0 = get_patient_0(row.infector_name)\n",
    "    if source_pat_0 == PATIENT_0 or (row.infector_name is np.NaN):\n",
    "        if row.infector_name in valid_infectors: # and len(valid_infectors[row.infector_name]) <= 20:\n",
    "            valid_infectors[row.infector_name].append(row.infectee_name)\n",
    "            valid_infectors[row.infectee_name] = []\n",
    "            data['infector'].append(row.infector_name if row.infector_name is not np.NaN else '')\n",
    "            data['infectee'].append(row.infectee_name)\n",
    "            data['value'].append(1)\n",
    "    else:\n",
    "        invalid_infectors.add(source_pat_0)\n",
    "#     if count == 3000:\n",
    "#         print(row.to_dict())\n",
    "#         break\n",
    "\n",
    "print(len(invalid_infectors))\n",
    "# from pprint import pprint; pprint(data)\n",
    "\n",
    "# fig = px.sunburst(\n",
    "#     data,\n",
    "#     names='infectee',\n",
    "#     parents='infector',\n",
    "#     values='value',\n",
    "# )\n",
    "# fig.show()"
   ]
  },
  {
   "cell_type": "code",
   "execution_count": 81,
   "metadata": {},
   "outputs": [
    {
     "data": {
      "text/plain": [
       "{'u/5amukai',\n",
       " 'u/A_shovel_',\n",
       " 'u/Anoobis100percent',\n",
       " 'u/BeardPhile',\n",
       " 'u/Chong_Long_Dong',\n",
       " 'u/Drodr10',\n",
       " 'u/Faustonreddit',\n",
       " 'u/FivesG',\n",
       " 'u/GarageInc',\n",
       " 'u/GiantRobotDeadpool12',\n",
       " 'u/GloryToDucks39',\n",
       " 'u/ImJustDubzzz',\n",
       " 'u/ItsSynnoX',\n",
       " 'u/Kirby-For-Life05',\n",
       " 'u/LeonidtheWill',\n",
       " 'u/MapleSyrupSquirrel',\n",
       " 'u/Mr_Roberge',\n",
       " 'u/NotFunnyBuddy',\n",
       " 'u/Pathodox',\n",
       " 'u/PunntheGreat',\n",
       " 'u/Sex_Shop_Souvenir',\n",
       " 'u/SirQwacksAlot',\n",
       " 'u/TheSCP_3008',\n",
       " 'u/UnKnOwNLIKER',\n",
       " 'u/Uncle_Freddy',\n",
       " 'u/Yusuri-San',\n",
       " 'u/_TheRope',\n",
       " 'u/biggested304',\n",
       " 'u/colbywankenobi0',\n",
       " 'u/cyberdrugs',\n",
       " 'u/drewmanchu74',\n",
       " 'u/iam_inevtable',\n",
       " 'u/infamouszoggy',\n",
       " 'u/inslatafresca_',\n",
       " 'u/jospehjoestar',\n",
       " 'u/jrodjh',\n",
       " 'u/kink_creamson',\n",
       " 'u/longlivestheking',\n",
       " 'u/mb032475',\n",
       " 'u/my-name-is-blank',\n",
       " 'u/neopolitam',\n",
       " 'u/not-a-Shrek',\n",
       " 'u/ruilybro',\n",
       " 'u/shreygay123',\n",
       " 'u/spiritually_deceased',\n",
       " 'u/themangoperson',\n",
       " 'u/yee3009'}"
      ]
     },
     "execution_count": 81,
     "metadata": {},
     "output_type": "execute_result"
    }
   ],
   "source": [
    "invalid_infectors"
   ]
  },
  {
   "cell_type": "code",
   "execution_count": 53,
   "metadata": {},
   "outputs": [
    {
     "data": {
      "text/plain": [
       "orca status\n",
       "-----------\n",
       "    state: running\n",
       "    executable: /home/pmr3mh/miniconda3/lib/orca_app/orca\n",
       "    version: 1.2.1\n",
       "    port: 44429\n",
       "    pid: 2312\n",
       "    command: ['/home/pmr3mh/miniconda3/lib/orca_app/orca', 'serve', '-p', '44429', '--plotly', '/home/pmr3mh/.virtualenvs/nd230-ml-tensorflow-p1/lib/python3.5/site-packages/plotly/package_data/plotly.min.js', '--graph-only', '--mathjax', 'https://cdnjs.cloudflare.com/ajax/libs/mathjax/2.7.5/MathJax.js']\n"
      ]
     },
     "execution_count": 53,
     "metadata": {},
     "output_type": "execute_result"
    }
   ],
   "source": [
    "import plotly.io as pio\n",
    "# pio.orca.shutdown_server()\n",
    "# pio.orca.config.executable = '/home/pmr3mh/miniconda3/lib/orca_app/orca'\n",
    "# pio.orca.config.server_url = None\n",
    "# pio.orca.config.port = None\n",
    "# pio.orca.config.save()\n",
    "# pio.orca.ensure_server()\n",
    "# pio.orca.config\n",
    "pio.orca.status"
   ]
  },
  {
   "cell_type": "code",
   "execution_count": 62,
   "metadata": {},
   "outputs": [
    {
     "name": "stdout",
     "output_type": "stream",
     "text": [
      "2020-03-23T00:53:48.692501\n"
     ]
    }
   ],
   "source": [
    "# import subprocess\n",
    "# subprocess.Popen([\"/home/pmr3mh/miniconda3/lib/orca_app/orca\", \"-p\", \"--plotly\", \"--graph-only\", \"--mathjax\", \"serve\", \"37587\", \"/home/pmr3mh/.virtualenvs/nd230-ml-tensorflow-p1/lib/python3.5/site-packages/plotly/package_data/plotly.min.js\", \"https://cdnjs.cloudflare.com/ajax/libs/mathjax/2.7.5/MathJax.js\", \"--keep-alive\"], stdout=subprocess.PIPE, shell=True)\n",
    "timestamp = datetime.utcnow().isoformat()\n",
    "print(datetime.utcnow().isoformat())\n",
    "fig.write_image('plot_{}.png'.format(timestamp), width=800, height=800, scale=5)"
   ]
  },
  {
   "cell_type": "code",
   "execution_count": 184,
   "metadata": {},
   "outputs": [
    {
     "name": "stdout",
     "output_type": "stream",
     "text": [
      "2020-03-22T23:21:27.342423\n"
     ]
    }
   ],
   "source": [
    "print(datetime.utcnow().isoformat())"
   ]
  },
  {
   "cell_type": "code",
   "execution_count": 82,
   "metadata": {},
   "outputs": [
    {
     "name": "stdout",
     "output_type": "stream",
     "text": [
      "u/5amukai\n",
      "['u/5amukai']\n",
      "False\n",
      "False\n",
      "False\n"
     ]
    },
    {
     "data": {
      "text/html": [
       "<div>\n",
       "<style scoped>\n",
       "    .dataframe tbody tr th:only-of-type {\n",
       "        vertical-align: middle;\n",
       "    }\n",
       "\n",
       "    .dataframe tbody tr th {\n",
       "        vertical-align: top;\n",
       "    }\n",
       "\n",
       "    .dataframe thead th {\n",
       "        text-align: right;\n",
       "    }\n",
       "</style>\n",
       "<table border=\"1\" class=\"dataframe\">\n",
       "  <thead>\n",
       "    <tr style=\"text-align: right;\">\n",
       "      <th></th>\n",
       "      <th>post_dt</th>\n",
       "      <th>infectee_name</th>\n",
       "      <th>infectee_post_id</th>\n",
       "      <th>infector_name</th>\n",
       "      <th>infector_post_id</th>\n",
       "      <th>comment_or_submission</th>\n",
       "    </tr>\n",
       "  </thead>\n",
       "  <tbody>\n",
       "    <tr>\n",
       "      <th>117</th>\n",
       "      <td>2020-03-25 13:30:43.952444</td>\n",
       "      <td>u/Potatoboiftw</td>\n",
       "      <td>flh6y8r</td>\n",
       "      <td>u/5amukai</td>\n",
       "      <td>flgl4zu</td>\n",
       "      <td>C</td>\n",
       "    </tr>\n",
       "  </tbody>\n",
       "</table>\n",
       "</div>"
      ],
      "text/plain": [
       "                       post_dt   infectee_name infectee_post_id infector_name  \\\n",
       "117 2020-03-25 13:30:43.952444  u/Potatoboiftw          flh6y8r     u/5amukai   \n",
       "\n",
       "    infector_post_id comment_or_submission  \n",
       "117          flgl4zu                     C  "
      ]
     },
     "execution_count": 82,
     "metadata": {},
     "output_type": "execute_result"
    }
   ],
   "source": [
    "test_infector = 'u/5amukai'\n",
    "processed = set()\n",
    "hier = []\n",
    "def get_patient_0(user):\n",
    "    hier.append(user)\n",
    "    if user in processed:\n",
    "        print(user)\n",
    "        return None\n",
    "    else:\n",
    "        processed.add(user)\n",
    "    if user not in infectee_infector or user == PATIENT_0:\n",
    "        return user\n",
    "    else:\n",
    "        return get_patient_0(infectee_infector[user])\n",
    "print(get_patient_0(test_infector))\n",
    "print(hier)\n",
    "# print(len(valid_infectors[hier[1]]))\n",
    "# print(test_infector in valid_infectors[hier[1]])\n",
    "print(test_infector in valid_infectors)\n",
    "print(test_infector in data['infector'])\n",
    "print(test_infector in data['infectee'])\n",
    "df.loc[(df['infector_name'] == test_infector) | (df['infectee_name'] == test_infector)]"
   ]
  }
 ],
 "metadata": {
  "kernelspec": {
   "display_name": "Python 3",
   "language": "python",
   "name": "python3"
  },
  "language_info": {
   "codemirror_mode": {
    "name": "ipython",
    "version": 3
   },
   "file_extension": ".py",
   "mimetype": "text/x-python",
   "name": "python",
   "nbconvert_exporter": "python",
   "pygments_lexer": "ipython3",
   "version": "3.5.3"
  }
 },
 "nbformat": 4,
 "nbformat_minor": 4
}
